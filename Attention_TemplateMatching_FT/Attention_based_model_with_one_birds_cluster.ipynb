{
 "cells": [
  {
   "cell_type": "code",
   "execution_count": 1,
   "metadata": {},
   "outputs": [],
   "source": [
    "import torch\n",
    "import numpy as np\n",
    "import torch.nn as nn\n",
    "import torch.backends.cudnn as cudnn\n",
    "import torchvision.transforms as transforms\n",
    "import torchvision.datasets as datasets\n",
    "import os\n",
    "import faiss\n",
    "import time\n",
    "from pathlib import Path\n",
    "from torch.utils.data import Dataset, DataLoader\n",
    "from PIL import Image\n",
    "import random\n",
    "import cv2\n",
    "from attention_unet import Attention_block, conv_block, up_conv\n",
    "import matplotlib.pyplot as plt\n",
    "from dataloaders import Birds_OneCluster\n",
    "import torchvision.utils"
   ]
  },
  {
   "cell_type": "code",
   "execution_count": 2,
   "metadata": {},
   "outputs": [],
   "source": [
    "import pickle\n",
    "with open(\"/home/e_radionova/DeepCluster/deepcluster/checkpts_Birds_1500epochs_30cls/clusters\", \"rb\") as f:\n",
    "    clusters = pickle.load(f)"
   ]
  },
  {
   "cell_type": "code",
   "execution_count": 3,
   "metadata": {},
   "outputs": [],
   "source": [
    "epoch = 1000 #-1\n",
    "num_cluster = 3 #11\n",
    "cluster_idxs = clusters[epoch][num_cluster]"
   ]
  },
  {
   "cell_type": "code",
   "execution_count": 4,
   "metadata": {},
   "outputs": [],
   "source": [
    "def find_names_in_fold(prefix):\n",
    "    images_names = np.sort(os.listdir(prefix))\n",
    "    list_names = np.sort(os.listdir(prefix / images_names[0])).tolist()\n",
    "    for i, x in enumerate(list_names):\n",
    "        list_names[i] = os.path.join(images_names[0],x)\n",
    "    for i in images_names[1:]:\n",
    "        list_names_onefold = np.sort(os.listdir(prefix / i)).tolist()\n",
    "        for j, x in enumerate(list_names_onefold):\n",
    "            list_names_onefold[j] = os.path.join(i, x)\n",
    "        list_names.extend(list_names_onefold)\n",
    "    return list_names"
   ]
  },
  {
   "cell_type": "code",
   "execution_count": 5,
   "metadata": {},
   "outputs": [],
   "source": [
    "dataset_path = Path('/home/e_radionova/Datasets/Caltech_birds/CUB_200_2011/dataset')\n",
    "train_imgs_path = dataset_path /  'train/images/'\n",
    "train_masks_path = dataset_path /  'train/masks/'"
   ]
  },
  {
   "cell_type": "code",
   "execution_count": 6,
   "metadata": {},
   "outputs": [],
   "source": [
    "train_masks_names = find_names_in_fold(train_masks_path)\n",
    "train_imgs_names = find_names_in_fold(train_imgs_path)"
   ]
  },
  {
   "cell_type": "code",
   "execution_count": 7,
   "metadata": {},
   "outputs": [],
   "source": [
    "lst_cluster_masks = [train_masks_names[i] for i in cluster_idxs]\n",
    "lst_cluster_imgs = [train_imgs_names[i] for i in cluster_idxs]"
   ]
  },
  {
   "cell_type": "code",
   "execution_count": 8,
   "metadata": {},
   "outputs": [],
   "source": [
    "from sklearn.model_selection import train_test_split\n",
    "train_imgs, test_imgs, train_masks, test_masks = train_test_split(lst_cluster_imgs, lst_cluster_masks, \n",
    "                                                                  test_size=0.3, random_state=42)"
   ]
  },
  {
   "cell_type": "code",
   "execution_count": 9,
   "metadata": {},
   "outputs": [],
   "source": [
    "trans = transforms.Compose([\n",
    "    transforms.Resize((400, 400), interpolation=Image.NEAREST),\n",
    "#     transforms.CenterCrop((400, 400)),\n",
    "    transforms.ToTensor(),\n",
    "])\n",
    "\n",
    "train_set = Birds_OneCluster(img_names = train_imgs, \n",
    "                             mask_names = train_masks, \n",
    "                             images_folder = dataset_path / 'train/images', \n",
    "                             masks_folder = dataset_path / 'train/masks',\n",
    "                             clusters=None,\n",
    "                             cluster_num=11,\n",
    "                             cluster_epoch=-1, \n",
    "                             img_transform = trans, \n",
    "                             masks_transform = trans)\n",
    "\n",
    "val_set = Birds_OneCluster(img_names = test_imgs, \n",
    "                           mask_names = test_masks,\n",
    "                           images_folder = dataset_path / 'train/images',\n",
    "                           masks_folder = dataset_path / 'train/masks',\n",
    "                           clusters=None,\n",
    "                           cluster_num=11,\n",
    "                           cluster_epoch=-1, \n",
    "                           img_transform = trans,\n",
    "                           masks_transform = trans)"
   ]
  },
  {
   "cell_type": "code",
   "execution_count": 10,
   "metadata": {},
   "outputs": [
    {
     "data": {
      "text/plain": [
       "{'train': 219, 'val': 95}"
      ]
     },
     "execution_count": 10,
     "metadata": {},
     "output_type": "execute_result"
    }
   ],
   "source": [
    "image_datasets = {\n",
    "    'train': train_set , 'val': val_set\n",
    "}\n",
    "\n",
    "batch_size_train = 4\n",
    "batch_size_val = batch_size_train\n",
    "\n",
    "dataloaders = {\n",
    "    'train': DataLoader(train_set, batch_size=batch_size_train, shuffle=True, num_workers=0),\n",
    "    'val': DataLoader(val_set, batch_size=batch_size_val, shuffle=True, num_workers=0)\n",
    "}\n",
    "\n",
    "dataset_sizes = {\n",
    "    x: len(image_datasets[x]) for x in image_datasets.keys()\n",
    "}\n",
    "\n",
    "dataset_sizes"
   ]
  },
  {
   "cell_type": "code",
   "execution_count": 11,
   "metadata": {},
   "outputs": [],
   "source": [
    "# SEED = 42\n",
    "# random.seed(SEED)\n",
    "# torch.manual_seed(SEED)\n",
    "# torch.cuda.manual_seed_all(SEED)\n",
    "# np.random.seed(SEED)\n",
    "\n",
    "# n_pics_to_show = batch_size_train\n",
    "# inputs, masks = next(iter(dataloaders['val']))\n",
    "# fig, ax = plt.subplots(n_pics_to_show, 2, figsize=(7, 15))\n",
    "# for i in range(n_pics_to_show):\n",
    "#     pic, label = inputs[i], masks[i] \n",
    "#     label_np = label.data.numpy().transpose(1, 2, 0) \n",
    "#     pic_np = pic.data.numpy().transpose(1, 2, 0) \n",
    "#     ax[i,0].imshow(pic_np)\n",
    "#     ax[i,1].imshow(label_np)"
   ]
  },
  {
   "cell_type": "code",
   "execution_count": null,
   "metadata": {},
   "outputs": [],
   "source": []
  },
  {
   "cell_type": "code",
   "execution_count": 12,
   "metadata": {},
   "outputs": [],
   "source": [
    "from torchsummary import summary\n",
    "import torch\n",
    "import torch.nn as nn\n",
    "import torch\n",
    "import torch.optim as optim\n",
    "from torch.optim import lr_scheduler\n",
    "import time\n",
    "import copy\n",
    "from datetime import datetime\n",
    "from torch.utils.tensorboard import SummaryWriter\n",
    "from collections import defaultdict\n",
    "import torch.nn.functional as F\n",
    "from loss import dice_loss, calc_loss, print_metrics\n",
    "from tqdm.notebook import tqdm"
   ]
  },
  {
   "cell_type": "code",
   "execution_count": 13,
   "metadata": {},
   "outputs": [],
   "source": [
    "logs_base_dir = Path('./logs')\n",
    "logs_base_dir.mkdir(exist_ok=True)"
   ]
  },
  {
   "cell_type": "code",
   "execution_count": 14,
   "metadata": {},
   "outputs": [],
   "source": [
    "activation = {}\n",
    "\n",
    "def get_activation(name):\n",
    "    def hook(model, input, output):\n",
    "        activation[name] = output.detach()\n",
    "    return hook\n",
    "\n",
    "def plot_attention_map(attention_map, N=10, n_columns=5):\n",
    "    normed_att_map = transforms.Normalize(0, 1)(attention_map).detach().cpu().numpy()\n",
    "    plt.imshow(normed_att_map.transpose(1,2,0))\n",
    "#     clear_output(wait=True)\n",
    "    \n",
    "    n_rows = N // n_columns + int(N // n_columns * n_columns < N)\n",
    "    fig, axes = plt.subplots(n_rows, n_columns, figsize=(15,6))\n",
    "    for map_i in range(N):\n",
    "        if N==1:\n",
    "            plt.imshow(normed_att_map[map_i])\n",
    "        else:\n",
    "            row_index = map_i // n_columns\n",
    "            column_index = map_i % n_columns\n",
    "            axes[row_index, column_index].imshow(normed_att_map[map_i])\n",
    "    plt.show()"
   ]
  },
  {
   "cell_type": "code",
   "execution_count": 15,
   "metadata": {},
   "outputs": [],
   "source": [
    "from template_matching_funcs import thresholding, get_Fourier_coeffs_and_kernel\n",
    "\n",
    "def get_feature_map(attention_map, index=9, threshold=True):\n",
    "    normed_att_map = attention_map.detach().cpu().numpy()\n",
    "    one_layer = normed_att_map.transpose(1,2,0) #[index]\n",
    "    plt.imshow(one_layer)\n",
    "    plt.title('Choosen map')\n",
    "    plt.show()\n",
    "    print('Unique els: ', np.unique(one_layer))\n",
    "    if threshold:\n",
    "        fm_thresh = thresholding(one_layer, 1.0)\n",
    "        kern = cv2.getStructuringElement(cv2.MORPH_RECT,(5,5))\n",
    "        fm_thresh = cv2.morphologyEx(fm_thresh, cv2.MORPH_CLOSE, kern)\n",
    "        fm_thresh = cv2.dilate(fm_thresh,kern,iterations = 1)\n",
    "        fm_thresh = 255 * abs(fm_thresh / fm_thresh.max())\n",
    "        plt.imshow(fm_thresh)\n",
    "        plt.show()"
   ]
  },
  {
   "cell_type": "code",
   "execution_count": 16,
   "metadata": {},
   "outputs": [],
   "source": [
    "def get_normalize_image(image, limit=1.):\n",
    "    image = image-np.min(image)\n",
    "    image = image / image.max()\n",
    "    image = limit * image\n",
    "    return image"
   ]
  },
  {
   "cell_type": "code",
   "execution_count": 17,
   "metadata": {},
   "outputs": [],
   "source": [
    "def get_kernel_baseline(image, template, order, kernel_size,\n",
    "                       morph_open, morph_close, dilate):\n",
    "#     img_match = template_matching(image=image, template=template, method=cv2.TM_CCORR)\n",
    "    img_thresh = thresholding(template, 1.0)\n",
    "    \n",
    "    kern = cv2.getStructuringElement(cv2.MORPH_RECT,(5,5))  # np.ones((5,5),np.uint8)\n",
    "    if morph_open:\n",
    "        img_thresh = cv2.morphologyEx(img_thresh, cv2.MORPH_OPEN, kern)\n",
    "    if morph_close:\n",
    "        img_thresh = cv2.morphologyEx(img_thresh, cv2.MORPH_CLOSE, kern)\n",
    "    if dilate:\n",
    "        img_thresh = cv2.dilate(img_thresh,kern,iterations = 1)\n",
    "        \n",
    "    _, kernel = get_Fourier_coeffs_and_kernel(img_thresh, order=order, kernel_size=kernel_size)\n",
    "\n",
    "    return kernel, img_thresh"
   ]
  },
  {
   "cell_type": "code",
   "execution_count": 18,
   "metadata": {},
   "outputs": [],
   "source": [
    "def plot_attention_map(attention_map, N=30, n_columns=5):\n",
    "    normed_att_map = transforms.Normalize(0, 1)(attention_map)\n",
    "    resize_map = normed_att_map.detach().cpu().numpy()\n",
    "    \n",
    "#     clear_output(wait=True)\n",
    "    n_rows = N // n_columns + int(N // n_columns * n_columns < N)\n",
    "    fig, axes = plt.subplots(n_rows, n_columns, figsize=(40,20))\n",
    "    for map_i in range(N):\n",
    "        if N==1:\n",
    "            plt.imshow(resize_map[map_i])\n",
    "        else:\n",
    "            row_index = map_i // n_columns\n",
    "            column_index = map_i % n_columns\n",
    "            axes[row_index, column_index].imshow(resize_map[map_i])\n",
    "    plt.show()"
   ]
  },
  {
   "cell_type": "code",
   "execution_count": 19,
   "metadata": {},
   "outputs": [],
   "source": [
    "import torchvision.transforms.functional as F\n",
    "# from torchvision.transforms import InterpolationMode"
   ]
  },
  {
   "cell_type": "code",
   "execution_count": 20,
   "metadata": {},
   "outputs": [],
   "source": [
    "def kernel_torch(att_map, kernel_size):\n",
    "    uniq_els = torch.unique(att_map)\n",
    "    mean = torch.mean(uniq_els)\n",
    "    m = torch.nn.Threshold(mean, 0., inplace=False)\n",
    "    thresh = m(att_map)\n",
    "    height = att_map.shape[-2]\n",
    "    width = att_map.shape[-1]\n",
    "    kernel_resize = F.resize(thresh, kernel_size)\n",
    "    return kernel_resize"
   ]
  },
  {
   "cell_type": "code",
   "execution_count": 21,
   "metadata": {},
   "outputs": [],
   "source": [
    "\n",
    "def train_model(model, optimizer, scheduler, experiment_name, num_epochs=25):\n",
    "    best_model_wts = copy.deepcopy(model.state_dict())\n",
    "    best_loss = 1e10\n",
    "    best_dice = 0\n",
    "    \n",
    "    writer = SummaryWriter(logs_base_dir / experiment_name)\n",
    "\n",
    "    for epoch in tqdm(range(num_epochs)):\n",
    "        print('Epoch {}/{}'.format(epoch, num_epochs - 1))\n",
    "        print('-' * 10)\n",
    "        \n",
    "        since = time.time()\n",
    "        i=0\n",
    "        \n",
    "        # Each epoch has a training and validation phase\n",
    "        for phase in ['train', 'val']:\n",
    "            if phase == 'train':\n",
    "                scheduler.step()\n",
    "                for param_group in optimizer.param_groups:\n",
    "                    print(\"LR\", param_group['lr'])\n",
    "                    \n",
    "                model.train()  # Set model to training mode\n",
    "            else:\n",
    "                model.eval()   # Set model to evaluate mode\n",
    "\n",
    "            metrics = defaultdict(float)\n",
    "            epoch_samples = 0\n",
    "            \n",
    "            for inputs, labels in tqdm(dataloaders[phase]):\n",
    "                \n",
    "                inputs = inputs.to(device)\n",
    "                labels = labels.to(device)    \n",
    "\n",
    "                # zero the parameter gradients\n",
    "                optimizer.zero_grad()\n",
    "\n",
    "                # forward\n",
    "                # track history if only in train\n",
    "                with torch.set_grad_enabled(phase == 'train'):\n",
    "                    outputs = model(inputs)\n",
    "#                     outputs_att = activation['Att4']\n",
    "#                     if i ==10:\n",
    "#                         plot_attention_map(activation['Att4'][0]) \n",
    "#                         print(activation['Att4'].shape)\n",
    "#                     i+=1\n",
    "                    #####----------------------\n",
    "                    \n",
    "#                     thresh_detach = thresh.permute(1,2,0).detach().cpu().numpy()\n",
    "#                     outputs_detach = outputs_att.permute(1,2,0).detach().cpu().numpy()\n",
    "#                     a = outputs_detach.shape[0]\n",
    "#                     b = outputs_detach.shape[1]\n",
    "#                     kernel_size = 20\n",
    "#                     kernel_per_img, img_thresh = get_kernel_baseline(image=outputs_detach, \n",
    "#                                                                      template=thresh_detach, \n",
    "#                                                                      order=10, \n",
    "#                                                                      kernel_size=kernel_size,\n",
    "#                                                                      morph_open=False, \n",
    "#                                                                      morph_close=False, \n",
    "#                                                                      dilate=True)\n",
    "\n",
    "                    loss = calc_loss(outputs, labels, metrics)\n",
    "\n",
    "                    # backward + optimize only if in training phase\n",
    "                    if phase == 'train':\n",
    "                        loss.backward()\n",
    "                        optimizer.step()\n",
    "\n",
    "                # statistics\n",
    "                epoch_samples += inputs.size(0)\n",
    "                \n",
    "\n",
    "            print_metrics(metrics, epoch_samples, phase)\n",
    "            epoch_loss = metrics['loss'] / epoch_samples   \n",
    "            writer.add_scalar(f'Loss_{phase}', epoch_loss.item(), global_step=epoch)\n",
    "            \n",
    "            dice_epoch = metrics['dice'] / epoch_samples\n",
    "            writer.add_scalar(f'DICE_{phase}', dice_epoch.item(), global_step=epoch)\n",
    "            \n",
    "#             imgs_to_tb = torchvision.utils.make_grid(inputs)\n",
    "#             writer.add_image('images', imgs_to_tb, global_step=epoch)\n",
    "\n",
    "            # deep copy the model\n",
    "            if phase == 'val' and epoch_loss < best_loss:\n",
    "                print(\"saving best loss\")\n",
    "                best_loss = epoch_loss\n",
    "                best_model_wts = copy.deepcopy(model.state_dict())\n",
    "            \n",
    "            if phase == 'val' and dice_epoch > best_dice:\n",
    "                print(\"saving best DICE\")\n",
    "                best_dice = dice_epoch\n",
    "\n",
    "        time_elapsed = time.time() - since\n",
    "        print('{:.0f}m {:.0f}s'.format(time_elapsed // 60, time_elapsed % 60))\n",
    "    print('Best val loss: {:4f}'.format(best_loss))\n",
    "    print('Best val DICE: {:4f}'.format(best_dice))\n",
    "    \n",
    "#     file_name = \"Best_DICE_\" + Model_name + '_' + model_type \n",
    "#     with open(f\"{files_dir}/{file_name}.txt\",\"a\") as the_file:\n",
    "#             the_file.write('Fold №{}, best DICE: {}\\n'.format(fold, best_dice))\n",
    "\n",
    "    # load best model weights\n",
    "    model.load_state_dict(best_model_wts)\n",
    "    return model"
   ]
  },
  {
   "cell_type": "code",
   "execution_count": 22,
   "metadata": {},
   "outputs": [
    {
     "name": "stdout",
     "output_type": "stream",
     "text": [
      "cuda:0\n"
     ]
    }
   ],
   "source": [
    "device = torch.device(\"cuda:0\" if torch.cuda.is_available() else \"cpu\")\n",
    "print(device)"
   ]
  },
  {
   "cell_type": "code",
   "execution_count": 23,
   "metadata": {},
   "outputs": [],
   "source": [
    "# import attention_unet\n",
    "# model = attention_unet.AttU_Net(3, 3).to(device)\n",
    "import attention_kernel2conv1\n",
    "model = attention_kernel2conv1.AttU_Net(3, 3).to(device)"
   ]
  },
  {
   "cell_type": "code",
   "execution_count": 24,
   "metadata": {},
   "outputs": [],
   "source": [
    "# model.Att4.register_forward_hook(get_activation('Att4'))"
   ]
  },
  {
   "cell_type": "code",
   "execution_count": 25,
   "metadata": {},
   "outputs": [],
   "source": [
    "optimizer_ft = optim.Adam(model.parameters(), lr=1e-3)\n",
    "exp_lr_scheduler = lr_scheduler.StepLR(optimizer_ft, step_size=15, gamma=0.1)\n",
    "\n",
    "exp_name = f'ModifiedModel_cluster3from1000_30epochs_b{batch_size_train}_kernel_7_' + datetime.now().isoformat(timespec='minutes') "
   ]
  },
  {
   "cell_type": "code",
   "execution_count": 26,
   "metadata": {
    "scrolled": true
   },
   "outputs": [
    {
     "data": {
      "application/vnd.jupyter.widget-view+json": {
       "model_id": "68d8c47d260c447aa1f0dd76026c1d72",
       "version_major": 2,
       "version_minor": 0
      },
      "text/plain": [
       "HBox(children=(HTML(value=''), FloatProgress(value=0.0, max=30.0), HTML(value='')))"
      ]
     },
     "metadata": {},
     "output_type": "display_data"
    },
    {
     "name": "stdout",
     "output_type": "stream",
     "text": [
      "Epoch 0/29\n",
      "----------\n",
      "LR 0.001\n"
     ]
    },
    {
     "name": "stderr",
     "output_type": "stream",
     "text": [
      "/home/e_radionova/anaconda3/lib/python3.8/site-packages/torch/optim/lr_scheduler.py:131: UserWarning: Detected call of `lr_scheduler.step()` before `optimizer.step()`. In PyTorch 1.1.0 and later, you should call them in the opposite order: `optimizer.step()` before `lr_scheduler.step()`.  Failure to do this will result in PyTorch skipping the first value of the learning rate schedule. See more details at https://pytorch.org/docs/stable/optim.html#how-to-adjust-learning-rate\n",
      "  warnings.warn(\"Detected call of `lr_scheduler.step()` before `optimizer.step()`. \"\n"
     ]
    },
    {
     "data": {
      "application/vnd.jupyter.widget-view+json": {
       "model_id": "9d47c694ab35440e87d6925cbf2cbb03",
       "version_major": 2,
       "version_minor": 0
      },
      "text/plain": [
       "HBox(children=(HTML(value=''), FloatProgress(value=0.0, max=55.0), HTML(value='')))"
      ]
     },
     "metadata": {},
     "output_type": "display_data"
    },
    {
     "name": "stderr",
     "output_type": "stream",
     "text": [
      "/home/e_radionova/anaconda3/lib/python3.8/site-packages/torch/nn/functional.py:1639: UserWarning: nn.functional.sigmoid is deprecated. Use torch.sigmoid instead.\n",
      "  warnings.warn(\"nn.functional.sigmoid is deprecated. Use torch.sigmoid instead.\")\n"
     ]
    },
    {
     "name": "stdout",
     "output_type": "stream",
     "text": [
      "\n",
      "train: bce: 0.434502, dice: 0.323897, loss: 0.555302\n"
     ]
    },
    {
     "data": {
      "application/vnd.jupyter.widget-view+json": {
       "model_id": "8fea01131d114c44b2830768b352a61a",
       "version_major": 2,
       "version_minor": 0
      },
      "text/plain": [
       "HBox(children=(HTML(value=''), FloatProgress(value=0.0, max=24.0), HTML(value='')))"
      ]
     },
     "metadata": {},
     "output_type": "display_data"
    },
    {
     "name": "stdout",
     "output_type": "stream",
     "text": [
      "\n",
      "val: bce: 1.469298, dice: 0.359884, loss: 1.054707\n",
      "saving best loss\n",
      "saving best DICE\n",
      "0m 29s\n",
      "Epoch 1/29\n",
      "----------\n",
      "LR 0.001\n"
     ]
    },
    {
     "data": {
      "application/vnd.jupyter.widget-view+json": {
       "model_id": "b81f13aaa1d34cf0887928eb53982f85",
       "version_major": 2,
       "version_minor": 0
      },
      "text/plain": [
       "HBox(children=(HTML(value=''), FloatProgress(value=0.0, max=55.0), HTML(value='')))"
      ]
     },
     "metadata": {},
     "output_type": "display_data"
    },
    {
     "name": "stdout",
     "output_type": "stream",
     "text": [
      "\n",
      "train: bce: 0.332099, dice: 0.411643, loss: 0.460228\n"
     ]
    },
    {
     "data": {
      "application/vnd.jupyter.widget-view+json": {
       "model_id": "a2854cfe85d74535b17005c180d9cd70",
       "version_major": 2,
       "version_minor": 0
      },
      "text/plain": [
       "HBox(children=(HTML(value=''), FloatProgress(value=0.0, max=24.0), HTML(value='')))"
      ]
     },
     "metadata": {},
     "output_type": "display_data"
    },
    {
     "name": "stdout",
     "output_type": "stream",
     "text": [
      "\n",
      "val: bce: 1.049104, dice: 0.414179, loss: 0.817463\n",
      "saving best loss\n",
      "saving best DICE\n",
      "0m 29s\n",
      "Epoch 2/29\n",
      "----------\n",
      "LR 0.001\n"
     ]
    },
    {
     "data": {
      "application/vnd.jupyter.widget-view+json": {
       "model_id": "f2b03086eef44e3caca44a8d2865addc",
       "version_major": 2,
       "version_minor": 0
      },
      "text/plain": [
       "HBox(children=(HTML(value=''), FloatProgress(value=0.0, max=55.0), HTML(value='')))"
      ]
     },
     "metadata": {},
     "output_type": "display_data"
    },
    {
     "name": "stdout",
     "output_type": "stream",
     "text": [
      "\n",
      "train: bce: 0.313505, dice: 0.461530, loss: 0.425988\n"
     ]
    },
    {
     "data": {
      "application/vnd.jupyter.widget-view+json": {
       "model_id": "05345ea1ef7346a08909bb7116ac0a42",
       "version_major": 2,
       "version_minor": 0
      },
      "text/plain": [
       "HBox(children=(HTML(value=''), FloatProgress(value=0.0, max=24.0), HTML(value='')))"
      ]
     },
     "metadata": {},
     "output_type": "display_data"
    },
    {
     "name": "stdout",
     "output_type": "stream",
     "text": [
      "\n",
      "val: bce: 0.712230, dice: 0.471547, loss: 0.620342\n",
      "saving best loss\n",
      "saving best DICE\n",
      "0m 29s\n",
      "Epoch 3/29\n",
      "----------\n",
      "LR 0.001\n"
     ]
    },
    {
     "data": {
      "application/vnd.jupyter.widget-view+json": {
       "model_id": "d94daaa2f48a4c11a808513386c25e3e",
       "version_major": 2,
       "version_minor": 0
      },
      "text/plain": [
       "HBox(children=(HTML(value=''), FloatProgress(value=0.0, max=55.0), HTML(value='')))"
      ]
     },
     "metadata": {},
     "output_type": "display_data"
    },
    {
     "name": "stdout",
     "output_type": "stream",
     "text": [
      "\n",
      "train: bce: 0.281754, dice: 0.516952, loss: 0.382401\n"
     ]
    },
    {
     "data": {
      "application/vnd.jupyter.widget-view+json": {
       "model_id": "09e16b69d2ad4f5c920a5d87992ba019",
       "version_major": 2,
       "version_minor": 0
      },
      "text/plain": [
       "HBox(children=(HTML(value=''), FloatProgress(value=0.0, max=24.0), HTML(value='')))"
      ]
     },
     "metadata": {},
     "output_type": "display_data"
    },
    {
     "name": "stdout",
     "output_type": "stream",
     "text": [
      "\n",
      "val: bce: 0.829142, dice: 0.495202, loss: 0.666970\n",
      "saving best DICE\n",
      "0m 30s\n",
      "Epoch 4/29\n",
      "----------\n",
      "LR 0.001\n"
     ]
    },
    {
     "data": {
      "application/vnd.jupyter.widget-view+json": {
       "model_id": "707f3b37423747199c76153491d8970a",
       "version_major": 2,
       "version_minor": 0
      },
      "text/plain": [
       "HBox(children=(HTML(value=''), FloatProgress(value=0.0, max=55.0), HTML(value='')))"
      ]
     },
     "metadata": {},
     "output_type": "display_data"
    },
    {
     "name": "stdout",
     "output_type": "stream",
     "text": [
      "\n",
      "train: bce: 0.290484, dice: 0.543485, loss: 0.373499\n"
     ]
    },
    {
     "data": {
      "application/vnd.jupyter.widget-view+json": {
       "model_id": "583f2bf80c03457ca5859f418f86c609",
       "version_major": 2,
       "version_minor": 0
      },
      "text/plain": [
       "HBox(children=(HTML(value=''), FloatProgress(value=0.0, max=24.0), HTML(value='')))"
      ]
     },
     "metadata": {},
     "output_type": "display_data"
    },
    {
     "name": "stdout",
     "output_type": "stream",
     "text": [
      "\n",
      "val: bce: 0.409728, dice: 0.314831, loss: 0.547448\n",
      "saving best loss\n",
      "0m 30s\n",
      "Epoch 5/29\n",
      "----------\n",
      "LR 0.001\n"
     ]
    },
    {
     "data": {
      "application/vnd.jupyter.widget-view+json": {
       "model_id": "5621e2d5519a4a26a1c5ca6da472a877",
       "version_major": 2,
       "version_minor": 0
      },
      "text/plain": [
       "HBox(children=(HTML(value=''), FloatProgress(value=0.0, max=55.0), HTML(value='')))"
      ]
     },
     "metadata": {},
     "output_type": "display_data"
    },
    {
     "name": "stdout",
     "output_type": "stream",
     "text": [
      "\n",
      "train: bce: 0.264361, dice: 0.562033, loss: 0.351164\n"
     ]
    },
    {
     "data": {
      "application/vnd.jupyter.widget-view+json": {
       "model_id": "ff19afa41d8f41858e08b29ab3bc5cc4",
       "version_major": 2,
       "version_minor": 0
      },
      "text/plain": [
       "HBox(children=(HTML(value=''), FloatProgress(value=0.0, max=24.0), HTML(value='')))"
      ]
     },
     "metadata": {},
     "output_type": "display_data"
    },
    {
     "name": "stdout",
     "output_type": "stream",
     "text": [
      "\n",
      "val: bce: 0.504797, dice: 0.168204, loss: 0.668296\n",
      "0m 31s\n",
      "Epoch 6/29\n",
      "----------\n",
      "LR 0.001\n"
     ]
    },
    {
     "data": {
      "application/vnd.jupyter.widget-view+json": {
       "model_id": "dfc94fb7fc134853a90d839198250547",
       "version_major": 2,
       "version_minor": 0
      },
      "text/plain": [
       "HBox(children=(HTML(value=''), FloatProgress(value=0.0, max=55.0), HTML(value='')))"
      ]
     },
     "metadata": {},
     "output_type": "display_data"
    },
    {
     "name": "stdout",
     "output_type": "stream",
     "text": [
      "\n",
      "train: bce: 0.245014, dice: 0.591971, loss: 0.326522\n"
     ]
    },
    {
     "data": {
      "application/vnd.jupyter.widget-view+json": {
       "model_id": "b1ed5d4c2899424b969d56586cf111bf",
       "version_major": 2,
       "version_minor": 0
      },
      "text/plain": [
       "HBox(children=(HTML(value=''), FloatProgress(value=0.0, max=24.0), HTML(value='')))"
      ]
     },
     "metadata": {},
     "output_type": "display_data"
    },
    {
     "name": "stdout",
     "output_type": "stream",
     "text": [
      "\n",
      "val: bce: 0.579228, dice: 0.117820, loss: 0.730704\n",
      "0m 30s\n",
      "Epoch 7/29\n",
      "----------\n",
      "LR 0.001\n"
     ]
    },
    {
     "data": {
      "application/vnd.jupyter.widget-view+json": {
       "model_id": "3bc35f8885004dd3b700c2ce7a2632ea",
       "version_major": 2,
       "version_minor": 0
      },
      "text/plain": [
       "HBox(children=(HTML(value=''), FloatProgress(value=0.0, max=55.0), HTML(value='')))"
      ]
     },
     "metadata": {},
     "output_type": "display_data"
    },
    {
     "name": "stdout",
     "output_type": "stream",
     "text": [
      "\n",
      "train: bce: 0.252977, dice: 0.591211, loss: 0.330883\n"
     ]
    },
    {
     "data": {
      "application/vnd.jupyter.widget-view+json": {
       "model_id": "10d0113e4e944befac5ffdb7ecbaf60b",
       "version_major": 2,
       "version_minor": 0
      },
      "text/plain": [
       "HBox(children=(HTML(value=''), FloatProgress(value=0.0, max=24.0), HTML(value='')))"
      ]
     },
     "metadata": {},
     "output_type": "display_data"
    },
    {
     "name": "stdout",
     "output_type": "stream",
     "text": [
      "\n",
      "val: bce: 0.370520, dice: 0.561158, loss: 0.404681\n",
      "saving best loss\n",
      "saving best DICE\n",
      "0m 32s\n",
      "Epoch 8/29\n",
      "----------\n",
      "LR 0.001\n"
     ]
    },
    {
     "data": {
      "application/vnd.jupyter.widget-view+json": {
       "model_id": "0e814513d9e24c0d926fe88b6fde1d6c",
       "version_major": 2,
       "version_minor": 0
      },
      "text/plain": [
       "HBox(children=(HTML(value=''), FloatProgress(value=0.0, max=55.0), HTML(value='')))"
      ]
     },
     "metadata": {},
     "output_type": "display_data"
    },
    {
     "name": "stdout",
     "output_type": "stream",
     "text": [
      "\n",
      "train: bce: 0.240085, dice: 0.611396, loss: 0.314345\n"
     ]
    },
    {
     "data": {
      "application/vnd.jupyter.widget-view+json": {
       "model_id": "9a67f6fa7312476eb790bf9b7c3821fb",
       "version_major": 2,
       "version_minor": 0
      },
      "text/plain": [
       "HBox(children=(HTML(value=''), FloatProgress(value=0.0, max=24.0), HTML(value='')))"
      ]
     },
     "metadata": {},
     "output_type": "display_data"
    },
    {
     "name": "stdout",
     "output_type": "stream",
     "text": [
      "\n",
      "val: bce: 0.363863, dice: 0.553360, loss: 0.405251\n",
      "0m 31s\n",
      "Epoch 9/29\n",
      "----------\n",
      "LR 0.001\n"
     ]
    },
    {
     "data": {
      "application/vnd.jupyter.widget-view+json": {
       "model_id": "bcf4330ea6fe4538b2ebdf14a22ea5e5",
       "version_major": 2,
       "version_minor": 0
      },
      "text/plain": [
       "HBox(children=(HTML(value=''), FloatProgress(value=0.0, max=55.0), HTML(value='')))"
      ]
     },
     "metadata": {},
     "output_type": "display_data"
    },
    {
     "name": "stdout",
     "output_type": "stream",
     "text": [
      "\n",
      "train: bce: 0.228259, dice: 0.627903, loss: 0.300178\n"
     ]
    },
    {
     "data": {
      "application/vnd.jupyter.widget-view+json": {
       "model_id": "d86449f8ca7e4a19875b7d5263e1b1fc",
       "version_major": 2,
       "version_minor": 0
      },
      "text/plain": [
       "HBox(children=(HTML(value=''), FloatProgress(value=0.0, max=24.0), HTML(value='')))"
      ]
     },
     "metadata": {},
     "output_type": "display_data"
    },
    {
     "name": "stdout",
     "output_type": "stream",
     "text": [
      "\n",
      "val: bce: 0.567682, dice: 0.585718, loss: 0.490982\n",
      "saving best DICE\n",
      "0m 32s\n",
      "Epoch 10/29\n",
      "----------\n",
      "LR 0.001\n"
     ]
    },
    {
     "data": {
      "application/vnd.jupyter.widget-view+json": {
       "model_id": "4f7840f428ff46f3aa24afaf5f8746a4",
       "version_major": 2,
       "version_minor": 0
      },
      "text/plain": [
       "HBox(children=(HTML(value=''), FloatProgress(value=0.0, max=55.0), HTML(value='')))"
      ]
     },
     "metadata": {},
     "output_type": "display_data"
    },
    {
     "name": "stdout",
     "output_type": "stream",
     "text": [
      "\n",
      "train: bce: 0.232966, dice: 0.627163, loss: 0.302901\n"
     ]
    },
    {
     "data": {
      "application/vnd.jupyter.widget-view+json": {
       "model_id": "7d1947bd377e4089bc48db526524e153",
       "version_major": 2,
       "version_minor": 0
      },
      "text/plain": [
       "HBox(children=(HTML(value=''), FloatProgress(value=0.0, max=24.0), HTML(value='')))"
      ]
     },
     "metadata": {},
     "output_type": "display_data"
    },
    {
     "name": "stdout",
     "output_type": "stream",
     "text": [
      "\n",
      "val: bce: 0.301727, dice: 0.609400, loss: 0.346163\n",
      "saving best loss\n",
      "saving best DICE\n",
      "0m 32s\n",
      "Epoch 11/29\n",
      "----------\n",
      "LR 0.001\n"
     ]
    },
    {
     "data": {
      "application/vnd.jupyter.widget-view+json": {
       "model_id": "58d855ab1cb04b0ca6d520f87ea47157",
       "version_major": 2,
       "version_minor": 0
      },
      "text/plain": [
       "HBox(children=(HTML(value=''), FloatProgress(value=0.0, max=55.0), HTML(value='')))"
      ]
     },
     "metadata": {},
     "output_type": "display_data"
    },
    {
     "name": "stdout",
     "output_type": "stream",
     "text": [
      "\n",
      "train: bce: 0.212047, dice: 0.642961, loss: 0.284543\n"
     ]
    },
    {
     "data": {
      "application/vnd.jupyter.widget-view+json": {
       "model_id": "6ae919afcdb443f09bf8368062668786",
       "version_major": 2,
       "version_minor": 0
      },
      "text/plain": [
       "HBox(children=(HTML(value=''), FloatProgress(value=0.0, max=24.0), HTML(value='')))"
      ]
     },
     "metadata": {},
     "output_type": "display_data"
    },
    {
     "name": "stdout",
     "output_type": "stream",
     "text": [
      "\n",
      "val: bce: 0.310539, dice: 0.562102, loss: 0.374219\n",
      "0m 31s\n",
      "Epoch 12/29\n",
      "----------\n",
      "LR 0.001\n"
     ]
    },
    {
     "data": {
      "application/vnd.jupyter.widget-view+json": {
       "model_id": "efdaea87d28a4c7c9e93a91a2708f65a",
       "version_major": 2,
       "version_minor": 0
      },
      "text/plain": [
       "HBox(children=(HTML(value=''), FloatProgress(value=0.0, max=55.0), HTML(value='')))"
      ]
     },
     "metadata": {},
     "output_type": "display_data"
    },
    {
     "name": "stdout",
     "output_type": "stream",
     "text": [
      "\n",
      "train: bce: 0.207422, dice: 0.659521, loss: 0.273951\n"
     ]
    },
    {
     "data": {
      "application/vnd.jupyter.widget-view+json": {
       "model_id": "6a35d65c327d480eb5708af2c9743ae0",
       "version_major": 2,
       "version_minor": 0
      },
      "text/plain": [
       "HBox(children=(HTML(value=''), FloatProgress(value=0.0, max=24.0), HTML(value='')))"
      ]
     },
     "metadata": {},
     "output_type": "display_data"
    },
    {
     "name": "stdout",
     "output_type": "stream",
     "text": [
      "\n",
      "val: bce: 0.316100, dice: 0.642614, loss: 0.336743\n",
      "saving best loss\n",
      "saving best DICE\n",
      "0m 33s\n",
      "Epoch 13/29\n",
      "----------\n",
      "LR 0.001\n"
     ]
    },
    {
     "data": {
      "application/vnd.jupyter.widget-view+json": {
       "model_id": "4a5a724cdeb44f9aba69d0c2f3fcbbd1",
       "version_major": 2,
       "version_minor": 0
      },
      "text/plain": [
       "HBox(children=(HTML(value=''), FloatProgress(value=0.0, max=55.0), HTML(value='')))"
      ]
     },
     "metadata": {},
     "output_type": "display_data"
    },
    {
     "name": "stdout",
     "output_type": "stream",
     "text": [
      "\n",
      "train: bce: 0.203080, dice: 0.677778, loss: 0.262651\n"
     ]
    },
    {
     "data": {
      "application/vnd.jupyter.widget-view+json": {
       "model_id": "7eacf907c76a464e857e495ab5d7a3f9",
       "version_major": 2,
       "version_minor": 0
      },
      "text/plain": [
       "HBox(children=(HTML(value=''), FloatProgress(value=0.0, max=24.0), HTML(value='')))"
      ]
     },
     "metadata": {},
     "output_type": "display_data"
    },
    {
     "name": "stdout",
     "output_type": "stream",
     "text": [
      "\n",
      "val: bce: 0.271729, dice: 0.610879, loss: 0.330425\n",
      "saving best loss\n",
      "0m 34s\n",
      "Epoch 14/29\n",
      "----------\n",
      "LR 0.0001\n"
     ]
    },
    {
     "data": {
      "application/vnd.jupyter.widget-view+json": {
       "model_id": "8e308ff4e9184467bb7f677f5b0aa44b",
       "version_major": 2,
       "version_minor": 0
      },
      "text/plain": [
       "HBox(children=(HTML(value=''), FloatProgress(value=0.0, max=55.0), HTML(value='')))"
      ]
     },
     "metadata": {},
     "output_type": "display_data"
    },
    {
     "name": "stdout",
     "output_type": "stream",
     "text": [
      "\n",
      "train: bce: 0.191084, dice: 0.685661, loss: 0.252711\n"
     ]
    },
    {
     "data": {
      "application/vnd.jupyter.widget-view+json": {
       "model_id": "707dacf2b28143319ac12dba1fc899a2",
       "version_major": 2,
       "version_minor": 0
      },
      "text/plain": [
       "HBox(children=(HTML(value=''), FloatProgress(value=0.0, max=24.0), HTML(value='')))"
      ]
     },
     "metadata": {},
     "output_type": "display_data"
    },
    {
     "name": "stdout",
     "output_type": "stream",
     "text": [
      "\n",
      "val: bce: 0.231152, dice: 0.591038, loss: 0.320057\n",
      "saving best loss\n",
      "0m 32s\n",
      "Epoch 15/29\n",
      "----------\n",
      "LR 0.0001\n"
     ]
    },
    {
     "data": {
      "application/vnd.jupyter.widget-view+json": {
       "model_id": "ab9c117a5508427b9a183ab04c46c1a3",
       "version_major": 2,
       "version_minor": 0
      },
      "text/plain": [
       "HBox(children=(HTML(value=''), FloatProgress(value=0.0, max=55.0), HTML(value='')))"
      ]
     },
     "metadata": {},
     "output_type": "display_data"
    },
    {
     "name": "stdout",
     "output_type": "stream",
     "text": [
      "\n",
      "train: bce: 0.173122, dice: 0.701777, loss: 0.235673\n"
     ]
    },
    {
     "data": {
      "application/vnd.jupyter.widget-view+json": {
       "model_id": "33491c65b4724e21bb8ebec0e48b1b5d",
       "version_major": 2,
       "version_minor": 0
      },
      "text/plain": [
       "HBox(children=(HTML(value=''), FloatProgress(value=0.0, max=24.0), HTML(value='')))"
      ]
     },
     "metadata": {},
     "output_type": "display_data"
    },
    {
     "name": "stdout",
     "output_type": "stream",
     "text": [
      "\n",
      "val: bce: 0.218086, dice: 0.622931, loss: 0.297578\n",
      "saving best loss\n",
      "0m 32s\n",
      "Epoch 16/29\n",
      "----------\n",
      "LR 0.0001\n"
     ]
    },
    {
     "data": {
      "application/vnd.jupyter.widget-view+json": {
       "model_id": "6a9c6e5cc320422fbe7dce4d7d93a167",
       "version_major": 2,
       "version_minor": 0
      },
      "text/plain": [
       "HBox(children=(HTML(value=''), FloatProgress(value=0.0, max=55.0), HTML(value='')))"
      ]
     },
     "metadata": {},
     "output_type": "display_data"
    },
    {
     "name": "stdout",
     "output_type": "stream",
     "text": [
      "\n",
      "train: bce: 0.169254, dice: 0.709425, loss: 0.229914\n"
     ]
    },
    {
     "data": {
      "application/vnd.jupyter.widget-view+json": {
       "model_id": "bcd70d00353b4bd99f077190ded1fda0",
       "version_major": 2,
       "version_minor": 0
      },
      "text/plain": [
       "HBox(children=(HTML(value=''), FloatProgress(value=0.0, max=24.0), HTML(value='')))"
      ]
     },
     "metadata": {},
     "output_type": "display_data"
    },
    {
     "name": "stdout",
     "output_type": "stream",
     "text": [
      "\n",
      "val: bce: 0.227510, dice: 0.652558, loss: 0.287476\n",
      "saving best loss\n",
      "saving best DICE\n",
      "0m 31s\n",
      "Epoch 17/29\n",
      "----------\n",
      "LR 0.0001\n"
     ]
    },
    {
     "data": {
      "application/vnd.jupyter.widget-view+json": {
       "model_id": "de8d2b7fc53d4947991540add5aac821",
       "version_major": 2,
       "version_minor": 0
      },
      "text/plain": [
       "HBox(children=(HTML(value=''), FloatProgress(value=0.0, max=55.0), HTML(value='')))"
      ]
     },
     "metadata": {},
     "output_type": "display_data"
    },
    {
     "name": "stdout",
     "output_type": "stream",
     "text": [
      "\n",
      "train: bce: 0.164552, dice: 0.719361, loss: 0.222595\n"
     ]
    },
    {
     "data": {
      "application/vnd.jupyter.widget-view+json": {
       "model_id": "a00c7cb2979e49e7a1d05bb7efaf4449",
       "version_major": 2,
       "version_minor": 0
      },
      "text/plain": [
       "HBox(children=(HTML(value=''), FloatProgress(value=0.0, max=24.0), HTML(value='')))"
      ]
     },
     "metadata": {},
     "output_type": "display_data"
    },
    {
     "name": "stdout",
     "output_type": "stream",
     "text": [
      "\n",
      "val: bce: 0.218007, dice: 0.649335, loss: 0.284336\n",
      "saving best loss\n",
      "0m 32s\n",
      "Epoch 18/29\n",
      "----------\n",
      "LR 0.0001\n"
     ]
    },
    {
     "data": {
      "application/vnd.jupyter.widget-view+json": {
       "model_id": "b65ff17d6f81423ea71bb243fa8e5e03",
       "version_major": 2,
       "version_minor": 0
      },
      "text/plain": [
       "HBox(children=(HTML(value=''), FloatProgress(value=0.0, max=55.0), HTML(value='')))"
      ]
     },
     "metadata": {},
     "output_type": "display_data"
    },
    {
     "name": "stdout",
     "output_type": "stream",
     "text": [
      "\n",
      "train: bce: 0.162837, dice: 0.728736, loss: 0.217051\n"
     ]
    },
    {
     "data": {
      "application/vnd.jupyter.widget-view+json": {
       "model_id": "0cac09d7609442278d295d69c23add24",
       "version_major": 2,
       "version_minor": 0
      },
      "text/plain": [
       "HBox(children=(HTML(value=''), FloatProgress(value=0.0, max=24.0), HTML(value='')))"
      ]
     },
     "metadata": {},
     "output_type": "display_data"
    },
    {
     "name": "stdout",
     "output_type": "stream",
     "text": [
      "\n",
      "val: bce: 0.226822, dice: 0.631245, loss: 0.297788\n",
      "0m 33s\n",
      "Epoch 19/29\n",
      "----------\n",
      "LR 0.0001\n"
     ]
    },
    {
     "data": {
      "application/vnd.jupyter.widget-view+json": {
       "model_id": "a5099a66fbba40dd84a5e808390d0637",
       "version_major": 2,
       "version_minor": 0
      },
      "text/plain": [
       "HBox(children=(HTML(value=''), FloatProgress(value=0.0, max=55.0), HTML(value='')))"
      ]
     },
     "metadata": {},
     "output_type": "display_data"
    },
    {
     "name": "stdout",
     "output_type": "stream",
     "text": [
      "\n",
      "train: bce: 0.159096, dice: 0.739066, loss: 0.210015\n"
     ]
    },
    {
     "data": {
      "application/vnd.jupyter.widget-view+json": {
       "model_id": "7a12973e52af48efbd82b9f63c75ff6b",
       "version_major": 2,
       "version_minor": 0
      },
      "text/plain": [
       "HBox(children=(HTML(value=''), FloatProgress(value=0.0, max=24.0), HTML(value='')))"
      ]
     },
     "metadata": {},
     "output_type": "display_data"
    },
    {
     "name": "stdout",
     "output_type": "stream",
     "text": [
      "\n",
      "val: bce: 0.214018, dice: 0.639278, loss: 0.287370\n",
      "0m 31s\n",
      "Epoch 20/29\n",
      "----------\n",
      "LR 0.0001\n"
     ]
    },
    {
     "data": {
      "application/vnd.jupyter.widget-view+json": {
       "model_id": "3e1853789e684ce58f048f1abb12c650",
       "version_major": 2,
       "version_minor": 0
      },
      "text/plain": [
       "HBox(children=(HTML(value=''), FloatProgress(value=0.0, max=55.0), HTML(value='')))"
      ]
     },
     "metadata": {},
     "output_type": "display_data"
    },
    {
     "name": "stdout",
     "output_type": "stream",
     "text": [
      "\n",
      "train: bce: 0.160220, dice: 0.732792, loss: 0.213714\n"
     ]
    },
    {
     "data": {
      "application/vnd.jupyter.widget-view+json": {
       "model_id": "4fa39be5d8ab41b7803f46ffeed2c9cf",
       "version_major": 2,
       "version_minor": 0
      },
      "text/plain": [
       "HBox(children=(HTML(value=''), FloatProgress(value=0.0, max=24.0), HTML(value='')))"
      ]
     },
     "metadata": {},
     "output_type": "display_data"
    },
    {
     "name": "stdout",
     "output_type": "stream",
     "text": [
      "\n",
      "val: bce: 0.236713, dice: 0.607125, loss: 0.314794\n",
      "0m 33s\n",
      "Epoch 21/29\n",
      "----------\n",
      "LR 0.0001\n"
     ]
    },
    {
     "data": {
      "application/vnd.jupyter.widget-view+json": {
       "model_id": "a2b1f4b0237d463798e23b88122cb19e",
       "version_major": 2,
       "version_minor": 0
      },
      "text/plain": [
       "HBox(children=(HTML(value=''), FloatProgress(value=0.0, max=55.0), HTML(value='')))"
      ]
     },
     "metadata": {},
     "output_type": "display_data"
    },
    {
     "name": "stdout",
     "output_type": "stream",
     "text": [
      "\n",
      "train: bce: 0.154933, dice: 0.737109, loss: 0.208912\n"
     ]
    },
    {
     "data": {
      "application/vnd.jupyter.widget-view+json": {
       "model_id": "7276539b50e7415d8c42c3c249daee7d",
       "version_major": 2,
       "version_minor": 0
      },
      "text/plain": [
       "HBox(children=(HTML(value=''), FloatProgress(value=0.0, max=24.0), HTML(value='')))"
      ]
     },
     "metadata": {},
     "output_type": "display_data"
    },
    {
     "name": "stdout",
     "output_type": "stream",
     "text": [
      "\n",
      "val: bce: 0.220816, dice: 0.662088, loss: 0.279364\n",
      "saving best loss\n",
      "saving best DICE\n",
      "0m 33s\n",
      "Epoch 22/29\n",
      "----------\n",
      "LR 0.0001\n"
     ]
    },
    {
     "data": {
      "application/vnd.jupyter.widget-view+json": {
       "model_id": "a9d5da5db59d47e5ac7dd1666b31602e",
       "version_major": 2,
       "version_minor": 0
      },
      "text/plain": [
       "HBox(children=(HTML(value=''), FloatProgress(value=0.0, max=55.0), HTML(value='')))"
      ]
     },
     "metadata": {},
     "output_type": "display_data"
    },
    {
     "name": "stdout",
     "output_type": "stream",
     "text": [
      "\n",
      "train: bce: 0.155798, dice: 0.740891, loss: 0.207453\n"
     ]
    },
    {
     "data": {
      "application/vnd.jupyter.widget-view+json": {
       "model_id": "fcf4a6ca29fa4d10a6e6c20d4561a298",
       "version_major": 2,
       "version_minor": 0
      },
      "text/plain": [
       "HBox(children=(HTML(value=''), FloatProgress(value=0.0, max=24.0), HTML(value='')))"
      ]
     },
     "metadata": {},
     "output_type": "display_data"
    },
    {
     "name": "stdout",
     "output_type": "stream",
     "text": [
      "\n",
      "val: bce: 0.242309, dice: 0.683276, loss: 0.279517\n",
      "saving best DICE\n",
      "0m 31s\n",
      "Epoch 23/29\n",
      "----------\n",
      "LR 0.0001\n"
     ]
    },
    {
     "data": {
      "application/vnd.jupyter.widget-view+json": {
       "model_id": "033d0b50f2ea4398b0c0120b70793040",
       "version_major": 2,
       "version_minor": 0
      },
      "text/plain": [
       "HBox(children=(HTML(value=''), FloatProgress(value=0.0, max=55.0), HTML(value='')))"
      ]
     },
     "metadata": {},
     "output_type": "display_data"
    },
    {
     "name": "stdout",
     "output_type": "stream",
     "text": [
      "\n",
      "train: bce: 0.153555, dice: 0.746177, loss: 0.203689\n"
     ]
    },
    {
     "data": {
      "application/vnd.jupyter.widget-view+json": {
       "model_id": "6fe6deaac0bd4a01b5e8d9c1f7c21d26",
       "version_major": 2,
       "version_minor": 0
      },
      "text/plain": [
       "HBox(children=(HTML(value=''), FloatProgress(value=0.0, max=24.0), HTML(value='')))"
      ]
     },
     "metadata": {},
     "output_type": "display_data"
    },
    {
     "name": "stdout",
     "output_type": "stream",
     "text": [
      "\n",
      "val: bce: 0.226097, dice: 0.664907, loss: 0.280595\n",
      "0m 31s\n",
      "Epoch 24/29\n",
      "----------\n",
      "LR 0.0001\n"
     ]
    },
    {
     "data": {
      "application/vnd.jupyter.widget-view+json": {
       "model_id": "1c01aa92db654d03ab27a665ff0f132e",
       "version_major": 2,
       "version_minor": 0
      },
      "text/plain": [
       "HBox(children=(HTML(value=''), FloatProgress(value=0.0, max=55.0), HTML(value='')))"
      ]
     },
     "metadata": {},
     "output_type": "display_data"
    },
    {
     "name": "stdout",
     "output_type": "stream",
     "text": [
      "\n",
      "train: bce: 0.158184, dice: 0.743497, loss: 0.207343\n"
     ]
    },
    {
     "data": {
      "application/vnd.jupyter.widget-view+json": {
       "model_id": "b63df878f9ec4cd7ba53f983f41db652",
       "version_major": 2,
       "version_minor": 0
      },
      "text/plain": [
       "HBox(children=(HTML(value=''), FloatProgress(value=0.0, max=24.0), HTML(value='')))"
      ]
     },
     "metadata": {},
     "output_type": "display_data"
    },
    {
     "name": "stdout",
     "output_type": "stream",
     "text": [
      "\n",
      "val: bce: 0.220623, dice: 0.667232, loss: 0.276695\n",
      "saving best loss\n",
      "0m 32s\n",
      "Epoch 25/29\n",
      "----------\n",
      "LR 0.0001\n"
     ]
    },
    {
     "data": {
      "application/vnd.jupyter.widget-view+json": {
       "model_id": "3446a3a396f04b3a837a6a4c47af9189",
       "version_major": 2,
       "version_minor": 0
      },
      "text/plain": [
       "HBox(children=(HTML(value=''), FloatProgress(value=0.0, max=55.0), HTML(value='')))"
      ]
     },
     "metadata": {},
     "output_type": "display_data"
    },
    {
     "name": "stdout",
     "output_type": "stream",
     "text": [
      "\n",
      "train: bce: 0.164389, dice: 0.739419, loss: 0.212485\n"
     ]
    },
    {
     "data": {
      "application/vnd.jupyter.widget-view+json": {
       "model_id": "9fce872cd81e4db197e6918815ffadd7",
       "version_major": 2,
       "version_minor": 0
      },
      "text/plain": [
       "HBox(children=(HTML(value=''), FloatProgress(value=0.0, max=24.0), HTML(value='')))"
      ]
     },
     "metadata": {},
     "output_type": "display_data"
    },
    {
     "name": "stdout",
     "output_type": "stream",
     "text": [
      "\n",
      "val: bce: 0.205259, dice: 0.666484, loss: 0.269387\n",
      "saving best loss\n",
      "0m 32s\n",
      "Epoch 26/29\n",
      "----------\n",
      "LR 0.0001\n"
     ]
    },
    {
     "data": {
      "application/vnd.jupyter.widget-view+json": {
       "model_id": "4bf389dd97cb4d82a980ea7127809344",
       "version_major": 2,
       "version_minor": 0
      },
      "text/plain": [
       "HBox(children=(HTML(value=''), FloatProgress(value=0.0, max=55.0), HTML(value='')))"
      ]
     },
     "metadata": {},
     "output_type": "display_data"
    },
    {
     "name": "stdout",
     "output_type": "stream",
     "text": [
      "\n",
      "train: bce: 0.152068, dice: 0.748416, loss: 0.201826\n"
     ]
    },
    {
     "data": {
      "application/vnd.jupyter.widget-view+json": {
       "model_id": "5f9928bbc6df46a0ac2b9c283a7a82d6",
       "version_major": 2,
       "version_minor": 0
      },
      "text/plain": [
       "HBox(children=(HTML(value=''), FloatProgress(value=0.0, max=24.0), HTML(value='')))"
      ]
     },
     "metadata": {},
     "output_type": "display_data"
    },
    {
     "name": "stdout",
     "output_type": "stream",
     "text": [
      "\n",
      "val: bce: 0.219603, dice: 0.675686, loss: 0.271959\n",
      "0m 32s\n",
      "Epoch 27/29\n",
      "----------\n",
      "LR 0.0001\n"
     ]
    },
    {
     "data": {
      "application/vnd.jupyter.widget-view+json": {
       "model_id": "c805eef3047e499b87333426c65617cf",
       "version_major": 2,
       "version_minor": 0
      },
      "text/plain": [
       "HBox(children=(HTML(value=''), FloatProgress(value=0.0, max=55.0), HTML(value='')))"
      ]
     },
     "metadata": {},
     "output_type": "display_data"
    },
    {
     "name": "stdout",
     "output_type": "stream",
     "text": [
      "\n",
      "train: bce: 0.158331, dice: 0.744924, loss: 0.206704\n"
     ]
    },
    {
     "data": {
      "application/vnd.jupyter.widget-view+json": {
       "model_id": "b917ffd5885045f5880f5f9bfddc12c0",
       "version_major": 2,
       "version_minor": 0
      },
      "text/plain": [
       "HBox(children=(HTML(value=''), FloatProgress(value=0.0, max=24.0), HTML(value='')))"
      ]
     },
     "metadata": {},
     "output_type": "display_data"
    },
    {
     "name": "stdout",
     "output_type": "stream",
     "text": [
      "\n",
      "val: bce: 0.234490, dice: 0.639358, loss: 0.297566\n",
      "0m 31s\n",
      "Epoch 28/29\n",
      "----------\n",
      "LR 0.0001\n"
     ]
    },
    {
     "data": {
      "application/vnd.jupyter.widget-view+json": {
       "model_id": "63455fbb2ff94becbd380f0b348749fa",
       "version_major": 2,
       "version_minor": 0
      },
      "text/plain": [
       "HBox(children=(HTML(value=''), FloatProgress(value=0.0, max=55.0), HTML(value='')))"
      ]
     },
     "metadata": {},
     "output_type": "display_data"
    },
    {
     "name": "stdout",
     "output_type": "stream",
     "text": [
      "\n",
      "train: bce: 0.158924, dice: 0.743896, loss: 0.207514\n"
     ]
    },
    {
     "data": {
      "application/vnd.jupyter.widget-view+json": {
       "model_id": "30b90a7428eb4809aa9c0b7cfbd9b2ff",
       "version_major": 2,
       "version_minor": 0
      },
      "text/plain": [
       "HBox(children=(HTML(value=''), FloatProgress(value=0.0, max=24.0), HTML(value='')))"
      ]
     },
     "metadata": {},
     "output_type": "display_data"
    },
    {
     "name": "stdout",
     "output_type": "stream",
     "text": [
      "\n",
      "val: bce: 0.222961, dice: 0.681163, loss: 0.270899\n",
      "0m 33s\n",
      "Epoch 29/29\n",
      "----------\n",
      "LR 1e-05\n"
     ]
    },
    {
     "data": {
      "application/vnd.jupyter.widget-view+json": {
       "model_id": "f6199b7ef4bd4f0cadbc9507955f097c",
       "version_major": 2,
       "version_minor": 0
      },
      "text/plain": [
       "HBox(children=(HTML(value=''), FloatProgress(value=0.0, max=55.0), HTML(value='')))"
      ]
     },
     "metadata": {},
     "output_type": "display_data"
    },
    {
     "name": "stdout",
     "output_type": "stream",
     "text": [
      "\n",
      "train: bce: 0.153002, dice: 0.750174, loss: 0.201414\n"
     ]
    },
    {
     "data": {
      "application/vnd.jupyter.widget-view+json": {
       "model_id": "f601755d2a2348a89d1247d727fee426",
       "version_major": 2,
       "version_minor": 0
      },
      "text/plain": [
       "HBox(children=(HTML(value=''), FloatProgress(value=0.0, max=24.0), HTML(value='')))"
      ]
     },
     "metadata": {},
     "output_type": "display_data"
    },
    {
     "name": "stdout",
     "output_type": "stream",
     "text": [
      "\n",
      "val: bce: 0.202505, dice: 0.661931, loss: 0.270287\n",
      "0m 31s\n",
      "\n",
      "Best val loss: 0.269387\n",
      "Best val DICE: 0.683276\n"
     ]
    }
   ],
   "source": [
    "model = train_model(model, optimizer_ft, exp_lr_scheduler, experiment_name=exp_name, num_epochs=30) "
   ]
  },
  {
   "cell_type": "code",
   "execution_count": null,
   "metadata": {},
   "outputs": [],
   "source": []
  }
 ],
 "metadata": {
  "kernelspec": {
   "display_name": "Python 3",
   "language": "python",
   "name": "python3"
  },
  "language_info": {
   "codemirror_mode": {
    "name": "ipython",
    "version": 3
   },
   "file_extension": ".py",
   "mimetype": "text/x-python",
   "name": "python",
   "nbconvert_exporter": "python",
   "pygments_lexer": "ipython3",
   "version": "3.8.5"
  }
 },
 "nbformat": 4,
 "nbformat_minor": 4
}
