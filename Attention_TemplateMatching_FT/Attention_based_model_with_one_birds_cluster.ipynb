{
 "cells": [
  {
   "cell_type": "code",
   "execution_count": 1,
   "metadata": {},
   "outputs": [],
   "source": [
    "import torch\n",
    "import numpy as np\n",
    "import torch.nn as nn\n",
    "import torch.backends.cudnn as cudnn\n",
    "import torchvision.transforms as transforms\n",
    "import torchvision.datasets as datasets\n",
    "import os\n",
    "import faiss\n",
    "import time\n",
    "from pathlib import Path\n",
    "from torch.utils.data import Dataset, DataLoader\n",
    "from PIL import Image\n",
    "import random\n",
    "import cv2\n",
    "from attention_unet import Attention_block, conv_block, up_conv\n",
    "import matplotlib.pyplot as plt\n",
    "from dataloaders import Birds_OneCluster\n",
    "import torchvision.utils"
   ]
  },
  {
   "cell_type": "code",
   "execution_count": 2,
   "metadata": {},
   "outputs": [],
   "source": [
    "import pickle\n",
    "with open(\"/home/e_radionova/DeepCluster/deepcluster/checkpts_Birds_1500epochs_30cls/clusters\", \"rb\") as f:\n",
    "    clusters = pickle.load(f)"
   ]
  },
  {
   "cell_type": "code",
   "execution_count": 3,
   "metadata": {},
   "outputs": [],
   "source": [
    "epoch = 1000 #-1\n",
    "num_cluster = 3 #11\n",
    "cluster_idxs = clusters[epoch][num_cluster]"
   ]
  },
  {
   "cell_type": "code",
   "execution_count": 4,
   "metadata": {},
   "outputs": [],
   "source": [
    "def find_names_in_fold(prefix):\n",
    "    images_names = np.sort(os.listdir(prefix))\n",
    "    list_names = np.sort(os.listdir(prefix / images_names[0])).tolist()\n",
    "    for i, x in enumerate(list_names):\n",
    "        list_names[i] = os.path.join(images_names[0],x)\n",
    "    for i in images_names[1:]:\n",
    "        list_names_onefold = np.sort(os.listdir(prefix / i)).tolist()\n",
    "        for j, x in enumerate(list_names_onefold):\n",
    "            list_names_onefold[j] = os.path.join(i, x)\n",
    "        list_names.extend(list_names_onefold)\n",
    "    return list_names"
   ]
  },
  {
   "cell_type": "code",
   "execution_count": 5,
   "metadata": {},
   "outputs": [],
   "source": [
    "dataset_path = Path('/home/e_radionova/Datasets/Caltech_birds/CUB_200_2011/dataset')\n",
    "train_imgs_path = dataset_path /  'train/images/'\n",
    "train_masks_path = dataset_path /  'train/masks/'"
   ]
  },
  {
   "cell_type": "code",
   "execution_count": 6,
   "metadata": {},
   "outputs": [],
   "source": [
    "train_masks_names = find_names_in_fold(train_masks_path)\n",
    "train_imgs_names = find_names_in_fold(train_imgs_path)"
   ]
  },
  {
   "cell_type": "code",
   "execution_count": 7,
   "metadata": {},
   "outputs": [],
   "source": [
    "lst_cluster_masks = [train_masks_names[i] for i in cluster_idxs]\n",
    "lst_cluster_imgs = [train_imgs_names[i] for i in cluster_idxs]"
   ]
  },
  {
   "cell_type": "code",
   "execution_count": 8,
   "metadata": {},
   "outputs": [],
   "source": [
    "from sklearn.model_selection import train_test_split\n",
    "train_imgs, test_imgs, train_masks, test_masks = train_test_split(lst_cluster_imgs, lst_cluster_masks, \n",
    "                                                                  test_size=0.3, random_state=42)"
   ]
  },
  {
   "cell_type": "code",
   "execution_count": 9,
   "metadata": {},
   "outputs": [],
   "source": [
    "trans = transforms.Compose([\n",
    "    transforms.Resize((390, 390), interpolation=Image.NEAREST),\n",
    "#     transforms.CenterCrop((400, 400)),\n",
    "    transforms.ToTensor(),\n",
    "])\n",
    "\n",
    "train_set = Birds_OneCluster(img_names = train_imgs, \n",
    "                             mask_names = train_masks, \n",
    "                             images_folder = dataset_path / 'train/images', \n",
    "                             masks_folder = dataset_path / 'train/masks',\n",
    "                             clusters=None,\n",
    "                             cluster_num=11,\n",
    "                             cluster_epoch=-1, \n",
    "                             img_transform = trans, \n",
    "                             masks_transform = trans)\n",
    "\n",
    "val_set = Birds_OneCluster(img_names = test_imgs, \n",
    "                           mask_names = test_masks,\n",
    "                           images_folder = dataset_path / 'train/images',\n",
    "                           masks_folder = dataset_path / 'train/masks',\n",
    "                           clusters=None,\n",
    "                           cluster_num=11,\n",
    "                           cluster_epoch=-1, \n",
    "                           img_transform = trans,\n",
    "                           masks_transform = trans)"
   ]
  },
  {
   "cell_type": "code",
   "execution_count": 10,
   "metadata": {},
   "outputs": [
    {
     "data": {
      "text/plain": [
       "{'train': 219, 'val': 95}"
      ]
     },
     "execution_count": 10,
     "metadata": {},
     "output_type": "execute_result"
    }
   ],
   "source": [
    "image_datasets = {\n",
    "    'train': train_set , 'val': val_set\n",
    "}\n",
    "\n",
    "batch_size_train = 4\n",
    "batch_size_val = batch_size_train\n",
    "\n",
    "dataloaders = {\n",
    "    'train': DataLoader(train_set, batch_size=batch_size_train, shuffle=True, num_workers=0),\n",
    "    'val': DataLoader(val_set, batch_size=batch_size_val, shuffle=True, num_workers=0)\n",
    "}\n",
    "\n",
    "dataset_sizes = {\n",
    "    x: len(image_datasets[x]) for x in image_datasets.keys()\n",
    "}\n",
    "\n",
    "dataset_sizes"
   ]
  },
  {
   "cell_type": "code",
   "execution_count": 11,
   "metadata": {},
   "outputs": [],
   "source": [
    "# SEED = 42\n",
    "# random.seed(SEED)\n",
    "# torch.manual_seed(SEED)\n",
    "# torch.cuda.manual_seed_all(SEED)\n",
    "# np.random.seed(SEED)\n",
    "\n",
    "# n_pics_to_show = batch_size_train\n",
    "# inputs, masks = next(iter(dataloaders['val']))\n",
    "# fig, ax = plt.subplots(n_pics_to_show, 2, figsize=(7, 15))\n",
    "# for i in range(n_pics_to_show):\n",
    "#     pic, label = inputs[i], masks[i] \n",
    "#     label_np = label.data.numpy().transpose(1, 2, 0) \n",
    "#     pic_np = pic.data.numpy().transpose(1, 2, 0) \n",
    "#     ax[i,0].imshow(pic_np)\n",
    "#     ax[i,1].imshow(label_np)"
   ]
  },
  {
   "cell_type": "code",
   "execution_count": null,
   "metadata": {},
   "outputs": [],
   "source": []
  },
  {
   "cell_type": "code",
   "execution_count": 12,
   "metadata": {},
   "outputs": [],
   "source": [
    "from torchsummary import summary\n",
    "import torch\n",
    "import torch.nn as nn\n",
    "import torch\n",
    "import torch.optim as optim\n",
    "from torch.optim import lr_scheduler\n",
    "import time\n",
    "import copy\n",
    "from datetime import datetime\n",
    "from torch.utils.tensorboard import SummaryWriter\n",
    "from collections import defaultdict\n",
    "import torch.nn.functional as F\n",
    "from loss import dice_loss, calc_loss, print_metrics\n",
    "from tqdm.notebook import tqdm"
   ]
  },
  {
   "cell_type": "code",
   "execution_count": 13,
   "metadata": {},
   "outputs": [],
   "source": [
    "logs_base_dir = Path('./logs')\n",
    "logs_base_dir.mkdir(exist_ok=True)"
   ]
  },
  {
   "cell_type": "code",
   "execution_count": 14,
   "metadata": {},
   "outputs": [],
   "source": [
    "activation = {}\n",
    "\n",
    "def get_activation(name):\n",
    "    def hook(model, input, output):\n",
    "        activation[name] = output.detach()\n",
    "    return hook\n",
    "\n",
    "def plot_attention_map(attention_map, N=10, n_columns=5):\n",
    "    normed_att_map = transforms.Normalize(0, 1)(attention_map).detach().cpu().numpy()\n",
    "    plt.imshow(normed_att_map.transpose(1,2,0))\n",
    "#     clear_output(wait=True)\n",
    "    \n",
    "    n_rows = N // n_columns + int(N // n_columns * n_columns < N)\n",
    "    fig, axes = plt.subplots(n_rows, n_columns, figsize=(15,6))\n",
    "    for map_i in range(N):\n",
    "        if N==1:\n",
    "            plt.imshow(normed_att_map[map_i])\n",
    "        else:\n",
    "            row_index = map_i // n_columns\n",
    "            column_index = map_i % n_columns\n",
    "            axes[row_index, column_index].imshow(normed_att_map[map_i])\n",
    "    plt.show()"
   ]
  },
  {
   "cell_type": "code",
   "execution_count": 15,
   "metadata": {},
   "outputs": [],
   "source": [
    "from template_matching_funcs import thresholding, get_Fourier_coeffs_and_kernel\n",
    "\n",
    "def get_feature_map(attention_map, index=9, threshold=True):\n",
    "    normed_att_map = attention_map.detach().cpu().numpy()\n",
    "    one_layer = normed_att_map.transpose(1,2,0) #[index]\n",
    "    plt.imshow(one_layer)\n",
    "    plt.title('Choosen map')\n",
    "    plt.show()\n",
    "    print('Unique els: ', np.unique(one_layer))\n",
    "    if threshold:\n",
    "        fm_thresh = thresholding(one_layer, 1.0)\n",
    "        kern = cv2.getStructuringElement(cv2.MORPH_RECT,(5,5))\n",
    "        fm_thresh = cv2.morphologyEx(fm_thresh, cv2.MORPH_CLOSE, kern)\n",
    "        fm_thresh = cv2.dilate(fm_thresh,kern,iterations = 1)\n",
    "        fm_thresh = 255 * abs(fm_thresh / fm_thresh.max())\n",
    "        plt.imshow(fm_thresh)\n",
    "        plt.show()"
   ]
  },
  {
   "cell_type": "code",
   "execution_count": 16,
   "metadata": {},
   "outputs": [],
   "source": [
    "def get_normalize_image(image, limit=1.):\n",
    "    image = image-np.min(image)\n",
    "    image = image / image.max()\n",
    "    image = limit * image\n",
    "    return image"
   ]
  },
  {
   "cell_type": "code",
   "execution_count": 17,
   "metadata": {},
   "outputs": [],
   "source": [
    "def get_kernel_baseline(image, template, order, kernel_size,\n",
    "                       morph_open, morph_close, dilate):\n",
    "#     img_match = template_matching(image=image, template=template, method=cv2.TM_CCORR)\n",
    "    img_thresh = thresholding(template, 1.0)\n",
    "    \n",
    "    kern = cv2.getStructuringElement(cv2.MORPH_RECT,(5,5))  # np.ones((5,5),np.uint8)\n",
    "    if morph_open:\n",
    "        img_thresh = cv2.morphologyEx(img_thresh, cv2.MORPH_OPEN, kern)\n",
    "    if morph_close:\n",
    "        img_thresh = cv2.morphologyEx(img_thresh, cv2.MORPH_CLOSE, kern)\n",
    "    if dilate:\n",
    "        img_thresh = cv2.dilate(img_thresh,kern,iterations = 1)\n",
    "        \n",
    "    _, kernel = get_Fourier_coeffs_and_kernel(img_thresh, order=order, kernel_size=kernel_size)\n",
    "\n",
    "    return kernel, img_thresh"
   ]
  },
  {
   "cell_type": "code",
   "execution_count": 18,
   "metadata": {},
   "outputs": [],
   "source": [
    "def plot_attention_map(attention_map, N=30, n_columns=5):\n",
    "    normed_att_map = transforms.Normalize(0, 1)(attention_map)\n",
    "    resize_map = normed_att_map.detach().cpu().numpy()\n",
    "    \n",
    "#     clear_output(wait=True)\n",
    "    n_rows = N // n_columns + int(N // n_columns * n_columns < N)\n",
    "    fig, axes = plt.subplots(n_rows, n_columns, figsize=(40,20))\n",
    "    for map_i in range(N):\n",
    "        if N==1:\n",
    "            plt.imshow(resize_map[map_i])\n",
    "        else:\n",
    "            row_index = map_i // n_columns\n",
    "            column_index = map_i % n_columns\n",
    "            axes[row_index, column_index].imshow(resize_map[map_i])\n",
    "    plt.show()"
   ]
  },
  {
   "cell_type": "code",
   "execution_count": 19,
   "metadata": {},
   "outputs": [],
   "source": [
    "import torchvision.transforms.functional as F\n",
    "# from torchvision.transforms import InterpolationMode"
   ]
  },
  {
   "cell_type": "code",
   "execution_count": 20,
   "metadata": {},
   "outputs": [],
   "source": [
    "def kernel_torch(att_map, kernel_size):\n",
    "    uniq_els = torch.unique(att_map)\n",
    "    mean = torch.mean(uniq_els)\n",
    "    m = torch.nn.Threshold(mean, 0., inplace=False)\n",
    "    thresh = m(att_map)\n",
    "    height = att_map.shape[-2]\n",
    "    width = att_map.shape[-1]\n",
    "    kernel_resize = F.resize(thresh, kernel_size)\n",
    "    return kernel_resize"
   ]
  },
  {
   "cell_type": "code",
   "execution_count": 21,
   "metadata": {},
   "outputs": [],
   "source": [
    "\n",
    "def train_model(model, optimizer, scheduler, experiment_name, num_epochs=25):\n",
    "    best_model_wts = copy.deepcopy(model.state_dict())\n",
    "    best_loss = 1e10\n",
    "    best_dice = 0\n",
    "    \n",
    "    writer = SummaryWriter(logs_base_dir / experiment_name)\n",
    "\n",
    "    for epoch in tqdm(range(num_epochs)):\n",
    "        print('Epoch {}/{}'.format(epoch, num_epochs - 1))\n",
    "        print('-' * 10)\n",
    "        \n",
    "        since = time.time()\n",
    "        i=0\n",
    "        \n",
    "        # Each epoch has a training and validation phase\n",
    "        for phase in ['train', 'val']:\n",
    "            if phase == 'train':\n",
    "                scheduler.step()\n",
    "                for param_group in optimizer.param_groups:\n",
    "                    print(\"LR\", param_group['lr'])\n",
    "                    \n",
    "                model.train()  # Set model to training mode\n",
    "            else:\n",
    "                model.eval()   # Set model to evaluate mode\n",
    "\n",
    "            metrics = defaultdict(float)\n",
    "            epoch_samples = 0\n",
    "            \n",
    "            for inputs, labels in tqdm(dataloaders[phase]):\n",
    "                \n",
    "                inputs = inputs.to(device)\n",
    "                labels = labels.to(device)    \n",
    "\n",
    "                # zero the parameter gradients\n",
    "                optimizer.zero_grad()\n",
    "\n",
    "                # forward\n",
    "                # track history if only in train\n",
    "                with torch.set_grad_enabled(phase == 'train'):\n",
    "                    outputs = model(inputs)\n",
    "#                     outputs_att = activation['Att4']\n",
    "#                     if i ==10:\n",
    "#                         plot_attention_map(activation['Att4'][0]) \n",
    "#                         print(activation['Att4'].shape)\n",
    "#                     i+=1\n",
    "                    #####----------------------\n",
    "                    \n",
    "#                     thresh_detach = thresh.permute(1,2,0).detach().cpu().numpy()\n",
    "#                     outputs_detach = outputs_att.permute(1,2,0).detach().cpu().numpy()\n",
    "#                     a = outputs_detach.shape[0]\n",
    "#                     b = outputs_detach.shape[1]\n",
    "#                     kernel_size = 20\n",
    "#                     kernel_per_img, img_thresh = get_kernel_baseline(image=outputs_detach, \n",
    "#                                                                      template=thresh_detach, \n",
    "#                                                                      order=10, \n",
    "#                                                                      kernel_size=kernel_size,\n",
    "#                                                                      morph_open=False, \n",
    "#                                                                      morph_close=False, \n",
    "#                                                                      dilate=True)\n",
    "\n",
    "                    loss = calc_loss(outputs, labels, metrics)\n",
    "\n",
    "                    # backward + optimize only if in training phase\n",
    "                    if phase == 'train':\n",
    "                        loss.backward()\n",
    "                        optimizer.step()\n",
    "\n",
    "                # statistics\n",
    "                epoch_samples += inputs.size(0)\n",
    "                \n",
    "\n",
    "            print_metrics(metrics, epoch_samples, phase)\n",
    "            epoch_loss = metrics['loss'] / epoch_samples   \n",
    "            writer.add_scalar(f'Loss_{phase}', epoch_loss.item(), global_step=epoch)\n",
    "            \n",
    "            dice_epoch = metrics['dice'] / epoch_samples\n",
    "            writer.add_scalar(f'DICE_{phase}', dice_epoch.item(), global_step=epoch)\n",
    "            \n",
    "            imgs_to_tb = torchvision.utils.make_grid(inputs)\n",
    "            writer.add_image('images', imgs_to_tb, global_step=epoch)\n",
    "            \n",
    "            outs_to_tb = torchvision.utils.make_grid(outputs)\n",
    "            writer.add_image('images', outs_to_tb, global_step=epoch)\n",
    "            \n",
    "#             kernels = model.Conv_upd_x1.conv[0].weight.data.detach().cpu()\n",
    "#             kernels = kernels[:10]\n",
    "#             kernels_to_tb = torchvision.utils.make_grid(kernels, nrow=5, pad_value=255)\n",
    "#             writer.add_image('kernels', kernels_to_tb, global_step=epoch)\n",
    "\n",
    "            # deep copy the model\n",
    "            if phase == 'val' and epoch_loss < best_loss:\n",
    "                print(\"saving best loss\")\n",
    "                best_loss = epoch_loss\n",
    "                best_model_wts = copy.deepcopy(model.state_dict())\n",
    "            \n",
    "            if phase == 'val' and dice_epoch > best_dice:\n",
    "                print(\"saving best DICE\")\n",
    "                best_dice = dice_epoch\n",
    "\n",
    "        time_elapsed = time.time() - since\n",
    "        print('{:.0f}m {:.0f}s'.format(time_elapsed // 60, time_elapsed % 60))\n",
    "    print('Best val loss: {:4f}'.format(best_loss))\n",
    "    print('Best val DICE: {:4f}'.format(best_dice))\n",
    "\n",
    "    # load best model weights\n",
    "    model.load_state_dict(best_model_wts)\n",
    "    return model"
   ]
  },
  {
   "cell_type": "code",
   "execution_count": 22,
   "metadata": {},
   "outputs": [
    {
     "name": "stdout",
     "output_type": "stream",
     "text": [
      "cuda:0\n"
     ]
    }
   ],
   "source": [
    "device = torch.device(\"cuda:0\" if torch.cuda.is_available() else \"cpu\")\n",
    "print(device)"
   ]
  },
  {
   "cell_type": "code",
   "execution_count": 23,
   "metadata": {},
   "outputs": [],
   "source": [
    "# import attention_unet\n",
    "# model = attention_unet.AttU_Net(3, 3).to(device)\n",
    "# import attention_kernel2conv1\n",
    "# model = attention_kernel2conv1.AttU_Net(3, 3).to(device)\n",
    "import NewNet\n",
    "model = NewNet.UNet(3).to(device)"
   ]
  },
  {
   "cell_type": "code",
   "execution_count": 24,
   "metadata": {},
   "outputs": [],
   "source": [
    "# model.Att4.register_forward_hook(get_activation('Att4'))"
   ]
  },
  {
   "cell_type": "code",
   "execution_count": 25,
   "metadata": {},
   "outputs": [],
   "source": [
    "optimizer_ft = optim.Adam(model.parameters(), lr=1e-3)\n",
    "exp_lr_scheduler = lr_scheduler.StepLR(optimizer_ft, step_size=15, gamma=0.1)\n",
    "\n",
    "exp_name = f'NewNet_cluster3from1000_50epochs_b{batch_size_train}_' + datetime.now().isoformat(timespec='minutes') "
   ]
  },
  {
   "cell_type": "code",
   "execution_count": 26,
   "metadata": {
    "scrolled": true
   },
   "outputs": [
    {
     "data": {
      "application/vnd.jupyter.widget-view+json": {
       "model_id": "e61cc1be87db4af0a351606cc5e9a683",
       "version_major": 2,
       "version_minor": 0
      },
      "text/plain": [
       "HBox(children=(HTML(value=''), FloatProgress(value=0.0, max=50.0), HTML(value='')))"
      ]
     },
     "metadata": {},
     "output_type": "display_data"
    },
    {
     "name": "stdout",
     "output_type": "stream",
     "text": [
      "Epoch 0/49\n",
      "----------\n",
      "LR 0.001\n"
     ]
    },
    {
     "name": "stderr",
     "output_type": "stream",
     "text": [
      "/home/e_radionova/anaconda3/lib/python3.8/site-packages/torch/optim/lr_scheduler.py:131: UserWarning: Detected call of `lr_scheduler.step()` before `optimizer.step()`. In PyTorch 1.1.0 and later, you should call them in the opposite order: `optimizer.step()` before `lr_scheduler.step()`.  Failure to do this will result in PyTorch skipping the first value of the learning rate schedule. See more details at https://pytorch.org/docs/stable/optim.html#how-to-adjust-learning-rate\n",
      "  warnings.warn(\"Detected call of `lr_scheduler.step()` before `optimizer.step()`. \"\n"
     ]
    },
    {
     "data": {
      "application/vnd.jupyter.widget-view+json": {
       "model_id": "2e9d25392f1c4352a66eba5a3ea909e1",
       "version_major": 2,
       "version_minor": 0
      },
      "text/plain": [
       "HBox(children=(HTML(value=''), FloatProgress(value=0.0, max=55.0), HTML(value='')))"
      ]
     },
     "metadata": {},
     "output_type": "display_data"
    },
    {
     "name": "stderr",
     "output_type": "stream",
     "text": [
      "/home/e_radionova/anaconda3/lib/python3.8/site-packages/torch/nn/functional.py:1639: UserWarning: nn.functional.sigmoid is deprecated. Use torch.sigmoid instead.\n",
      "  warnings.warn(\"nn.functional.sigmoid is deprecated. Use torch.sigmoid instead.\")\n"
     ]
    },
    {
     "name": "stdout",
     "output_type": "stream",
     "text": [
      "\n",
      "train: bce: 0.566471, dice: 0.188483, loss: 0.688994\n"
     ]
    },
    {
     "data": {
      "application/vnd.jupyter.widget-view+json": {
       "model_id": "b670042c72d44b93a5beac4eb06bf99c",
       "version_major": 2,
       "version_minor": 0
      },
      "text/plain": [
       "HBox(children=(HTML(value=''), FloatProgress(value=0.0, max=24.0), HTML(value='')))"
      ]
     },
     "metadata": {},
     "output_type": "display_data"
    },
    {
     "name": "stdout",
     "output_type": "stream",
     "text": [
      "\n",
      "val: bce: 0.427761, dice: 0.189910, loss: 0.618925\n",
      "saving best loss\n",
      "saving best DICE\n",
      "0m 20s\n",
      "Epoch 1/49\n",
      "----------\n",
      "LR 0.001\n"
     ]
    },
    {
     "data": {
      "application/vnd.jupyter.widget-view+json": {
       "model_id": "645140fdb2884937b5c93d28b8bc642e",
       "version_major": 2,
       "version_minor": 0
      },
      "text/plain": [
       "HBox(children=(HTML(value=''), FloatProgress(value=0.0, max=55.0), HTML(value='')))"
      ]
     },
     "metadata": {},
     "output_type": "display_data"
    },
    {
     "name": "stdout",
     "output_type": "stream",
     "text": [
      "\n",
      "train: bce: 0.432578, dice: 0.198449, loss: 0.617065\n"
     ]
    },
    {
     "data": {
      "application/vnd.jupyter.widget-view+json": {
       "model_id": "1a7ea3e6ed3a4b8db3465275c52ccf2d",
       "version_major": 2,
       "version_minor": 0
      },
      "text/plain": [
       "HBox(children=(HTML(value=''), FloatProgress(value=0.0, max=24.0), HTML(value='')))"
      ]
     },
     "metadata": {},
     "output_type": "display_data"
    },
    {
     "name": "stdout",
     "output_type": "stream",
     "text": [
      "\n",
      "val: bce: 0.426587, dice: 0.209481, loss: 0.608553\n",
      "saving best loss\n",
      "saving best DICE\n",
      "0m 20s\n",
      "Epoch 2/49\n",
      "----------\n",
      "LR 0.001\n"
     ]
    },
    {
     "data": {
      "application/vnd.jupyter.widget-view+json": {
       "model_id": "4762742de1524de993173a93a4957e4d",
       "version_major": 2,
       "version_minor": 0
      },
      "text/plain": [
       "HBox(children=(HTML(value=''), FloatProgress(value=0.0, max=55.0), HTML(value='')))"
      ]
     },
     "metadata": {},
     "output_type": "display_data"
    },
    {
     "name": "stdout",
     "output_type": "stream",
     "text": [
      "\n",
      "train: bce: 0.393141, dice: 0.250529, loss: 0.571306\n"
     ]
    },
    {
     "data": {
      "application/vnd.jupyter.widget-view+json": {
       "model_id": "51747278166e4dabb8aa7ecaa2db28d5",
       "version_major": 2,
       "version_minor": 0
      },
      "text/plain": [
       "HBox(children=(HTML(value=''), FloatProgress(value=0.0, max=24.0), HTML(value='')))"
      ]
     },
     "metadata": {},
     "output_type": "display_data"
    },
    {
     "name": "stdout",
     "output_type": "stream",
     "text": [
      "\n",
      "val: bce: 0.414381, dice: 0.269523, loss: 0.572429\n",
      "saving best loss\n",
      "saving best DICE\n",
      "0m 20s\n",
      "Epoch 3/49\n",
      "----------\n",
      "LR 0.001\n"
     ]
    },
    {
     "data": {
      "application/vnd.jupyter.widget-view+json": {
       "model_id": "d12f2b1c27384331ba17d4887616c9cc",
       "version_major": 2,
       "version_minor": 0
      },
      "text/plain": [
       "HBox(children=(HTML(value=''), FloatProgress(value=0.0, max=55.0), HTML(value='')))"
      ]
     },
     "metadata": {},
     "output_type": "display_data"
    },
    {
     "name": "stdout",
     "output_type": "stream",
     "text": [
      "\n",
      "train: bce: 0.391260, dice: 0.283779, loss: 0.553740\n"
     ]
    },
    {
     "data": {
      "application/vnd.jupyter.widget-view+json": {
       "model_id": "c875d8d1274d46be90e5b4486c47b698",
       "version_major": 2,
       "version_minor": 0
      },
      "text/plain": [
       "HBox(children=(HTML(value=''), FloatProgress(value=0.0, max=24.0), HTML(value='')))"
      ]
     },
     "metadata": {},
     "output_type": "display_data"
    },
    {
     "name": "stdout",
     "output_type": "stream",
     "text": [
      "\n",
      "val: bce: 0.438511, dice: 0.339160, loss: 0.549676\n",
      "saving best loss\n",
      "saving best DICE\n",
      "0m 20s\n",
      "Epoch 4/49\n",
      "----------\n",
      "LR 0.001\n"
     ]
    },
    {
     "data": {
      "application/vnd.jupyter.widget-view+json": {
       "model_id": "b0a51a28e11d4a0abb5f296e900968e9",
       "version_major": 2,
       "version_minor": 0
      },
      "text/plain": [
       "HBox(children=(HTML(value=''), FloatProgress(value=0.0, max=55.0), HTML(value='')))"
      ]
     },
     "metadata": {},
     "output_type": "display_data"
    },
    {
     "name": "stdout",
     "output_type": "stream",
     "text": [
      "\n",
      "train: bce: 0.372438, dice: 0.329256, loss: 0.521591\n"
     ]
    },
    {
     "data": {
      "application/vnd.jupyter.widget-view+json": {
       "model_id": "ed0463ac914c4757af5444ff593b09e2",
       "version_major": 2,
       "version_minor": 0
      },
      "text/plain": [
       "HBox(children=(HTML(value=''), FloatProgress(value=0.0, max=24.0), HTML(value='')))"
      ]
     },
     "metadata": {},
     "output_type": "display_data"
    },
    {
     "name": "stdout",
     "output_type": "stream",
     "text": [
      "\n",
      "val: bce: 0.414429, dice: 0.348727, loss: 0.532851\n",
      "saving best loss\n",
      "saving best DICE\n",
      "0m 20s\n",
      "Epoch 5/49\n",
      "----------\n",
      "LR 0.001\n"
     ]
    },
    {
     "data": {
      "application/vnd.jupyter.widget-view+json": {
       "model_id": "1a5891cd89ae496ba708457d26172812",
       "version_major": 2,
       "version_minor": 0
      },
      "text/plain": [
       "HBox(children=(HTML(value=''), FloatProgress(value=0.0, max=55.0), HTML(value='')))"
      ]
     },
     "metadata": {},
     "output_type": "display_data"
    },
    {
     "name": "stdout",
     "output_type": "stream",
     "text": [
      "\n",
      "train: bce: 0.349279, dice: 0.405170, loss: 0.472054\n"
     ]
    },
    {
     "data": {
      "application/vnd.jupyter.widget-view+json": {
       "model_id": "e44378c0a1c14f3ab4c9766712e66a4a",
       "version_major": 2,
       "version_minor": 0
      },
      "text/plain": [
       "HBox(children=(HTML(value=''), FloatProgress(value=0.0, max=24.0), HTML(value='')))"
      ]
     },
     "metadata": {},
     "output_type": "display_data"
    },
    {
     "name": "stdout",
     "output_type": "stream",
     "text": [
      "\n",
      "val: bce: 0.409089, dice: 0.421128, loss: 0.493980\n",
      "saving best loss\n",
      "saving best DICE\n",
      "0m 20s\n",
      "Epoch 6/49\n",
      "----------\n",
      "LR 0.001\n"
     ]
    },
    {
     "data": {
      "application/vnd.jupyter.widget-view+json": {
       "model_id": "841afb2740e040649bb532de1158a7d6",
       "version_major": 2,
       "version_minor": 0
      },
      "text/plain": [
       "HBox(children=(HTML(value=''), FloatProgress(value=0.0, max=55.0), HTML(value='')))"
      ]
     },
     "metadata": {},
     "output_type": "display_data"
    },
    {
     "name": "stdout",
     "output_type": "stream",
     "text": [
      "\n",
      "train: bce: 0.328845, dice: 0.442158, loss: 0.443344\n"
     ]
    },
    {
     "data": {
      "application/vnd.jupyter.widget-view+json": {
       "model_id": "e7a2098c5ce747c8a619c55ba143d75d",
       "version_major": 2,
       "version_minor": 0
      },
      "text/plain": [
       "HBox(children=(HTML(value=''), FloatProgress(value=0.0, max=24.0), HTML(value='')))"
      ]
     },
     "metadata": {},
     "output_type": "display_data"
    },
    {
     "name": "stdout",
     "output_type": "stream",
     "text": [
      "\n",
      "val: bce: 0.473575, dice: 0.464512, loss: 0.504532\n",
      "saving best DICE\n",
      "0m 20s\n",
      "Epoch 7/49\n",
      "----------\n",
      "LR 0.001\n"
     ]
    },
    {
     "data": {
      "application/vnd.jupyter.widget-view+json": {
       "model_id": "b1b0ca35637348e1ad0d64e3ec5c9845",
       "version_major": 2,
       "version_minor": 0
      },
      "text/plain": [
       "HBox(children=(HTML(value=''), FloatProgress(value=0.0, max=55.0), HTML(value='')))"
      ]
     },
     "metadata": {},
     "output_type": "display_data"
    },
    {
     "name": "stdout",
     "output_type": "stream",
     "text": [
      "\n",
      "train: bce: 0.323103, dice: 0.460365, loss: 0.431369\n"
     ]
    },
    {
     "data": {
      "application/vnd.jupyter.widget-view+json": {
       "model_id": "4c97efa5b9ae48ad8726dbea1a069f2f",
       "version_major": 2,
       "version_minor": 0
      },
      "text/plain": [
       "HBox(children=(HTML(value=''), FloatProgress(value=0.0, max=24.0), HTML(value='')))"
      ]
     },
     "metadata": {},
     "output_type": "display_data"
    },
    {
     "name": "stdout",
     "output_type": "stream",
     "text": [
      "\n",
      "val: bce: 0.426444, dice: 0.434644, loss: 0.495900\n",
      "0m 20s\n",
      "Epoch 8/49\n",
      "----------\n",
      "LR 0.001\n"
     ]
    },
    {
     "data": {
      "application/vnd.jupyter.widget-view+json": {
       "model_id": "6c57b5a2fdd540e88ce1b07f55e9cfa5",
       "version_major": 2,
       "version_minor": 0
      },
      "text/plain": [
       "HBox(children=(HTML(value=''), FloatProgress(value=0.0, max=55.0), HTML(value='')))"
      ]
     },
     "metadata": {},
     "output_type": "display_data"
    },
    {
     "name": "stdout",
     "output_type": "stream",
     "text": [
      "\n",
      "train: bce: 0.320272, dice: 0.455185, loss: 0.432543\n"
     ]
    },
    {
     "data": {
      "application/vnd.jupyter.widget-view+json": {
       "model_id": "cf41c72364134441a1f36d473d4ddcbd",
       "version_major": 2,
       "version_minor": 0
      },
      "text/plain": [
       "HBox(children=(HTML(value=''), FloatProgress(value=0.0, max=24.0), HTML(value='')))"
      ]
     },
     "metadata": {},
     "output_type": "display_data"
    },
    {
     "name": "stdout",
     "output_type": "stream",
     "text": [
      "\n",
      "val: bce: 0.329847, dice: 0.281723, loss: 0.524062\n",
      "0m 20s\n",
      "Epoch 9/49\n",
      "----------\n",
      "LR 0.001\n"
     ]
    },
    {
     "data": {
      "application/vnd.jupyter.widget-view+json": {
       "model_id": "823f9af6b68742aab179a741af8e8032",
       "version_major": 2,
       "version_minor": 0
      },
      "text/plain": [
       "HBox(children=(HTML(value=''), FloatProgress(value=0.0, max=55.0), HTML(value='')))"
      ]
     },
     "metadata": {},
     "output_type": "display_data"
    },
    {
     "name": "stdout",
     "output_type": "stream",
     "text": [
      "\n",
      "train: bce: 0.324287, dice: 0.477636, loss: 0.423325\n"
     ]
    },
    {
     "data": {
      "application/vnd.jupyter.widget-view+json": {
       "model_id": "d065a00a35474fabb420f471f57eb1b1",
       "version_major": 2,
       "version_minor": 0
      },
      "text/plain": [
       "HBox(children=(HTML(value=''), FloatProgress(value=0.0, max=24.0), HTML(value='')))"
      ]
     },
     "metadata": {},
     "output_type": "display_data"
    },
    {
     "name": "stdout",
     "output_type": "stream",
     "text": [
      "\n",
      "val: bce: 0.330504, dice: 0.436166, loss: 0.447169\n",
      "saving best loss\n",
      "0m 20s\n",
      "Epoch 10/49\n",
      "----------\n",
      "LR 0.001\n"
     ]
    },
    {
     "data": {
      "application/vnd.jupyter.widget-view+json": {
       "model_id": "4caa9d4f49c64aee8cd8688e15e12296",
       "version_major": 2,
       "version_minor": 0
      },
      "text/plain": [
       "HBox(children=(HTML(value=''), FloatProgress(value=0.0, max=55.0), HTML(value='')))"
      ]
     },
     "metadata": {},
     "output_type": "display_data"
    },
    {
     "name": "stdout",
     "output_type": "stream",
     "text": [
      "\n",
      "train: bce: 0.328665, dice: 0.468357, loss: 0.430154\n"
     ]
    },
    {
     "data": {
      "application/vnd.jupyter.widget-view+json": {
       "model_id": "24c95116dfde444cb3173a92f5c3adca",
       "version_major": 2,
       "version_minor": 0
      },
      "text/plain": [
       "HBox(children=(HTML(value=''), FloatProgress(value=0.0, max=24.0), HTML(value='')))"
      ]
     },
     "metadata": {},
     "output_type": "display_data"
    },
    {
     "name": "stdout",
     "output_type": "stream",
     "text": [
      "\n",
      "val: bce: 0.363886, dice: 0.444266, loss: 0.459810\n",
      "0m 20s\n",
      "Epoch 11/49\n",
      "----------\n",
      "LR 0.001\n"
     ]
    },
    {
     "data": {
      "application/vnd.jupyter.widget-view+json": {
       "model_id": "867142b327f44472be05b94214e34e1c",
       "version_major": 2,
       "version_minor": 0
      },
      "text/plain": [
       "HBox(children=(HTML(value=''), FloatProgress(value=0.0, max=55.0), HTML(value='')))"
      ]
     },
     "metadata": {},
     "output_type": "display_data"
    },
    {
     "name": "stdout",
     "output_type": "stream",
     "text": [
      "\n",
      "train: bce: 0.324497, dice: 0.483996, loss: 0.420250\n"
     ]
    },
    {
     "data": {
      "application/vnd.jupyter.widget-view+json": {
       "model_id": "a845ca27a63b4a0cba856a54d86a7a41",
       "version_major": 2,
       "version_minor": 0
      },
      "text/plain": [
       "HBox(children=(HTML(value=''), FloatProgress(value=0.0, max=24.0), HTML(value='')))"
      ]
     },
     "metadata": {},
     "output_type": "display_data"
    },
    {
     "name": "stdout",
     "output_type": "stream",
     "text": [
      "\n",
      "val: bce: 0.317765, dice: 0.456012, loss: 0.430876\n",
      "saving best loss\n",
      "0m 20s\n",
      "Epoch 12/49\n",
      "----------\n",
      "LR 0.001\n"
     ]
    },
    {
     "data": {
      "application/vnd.jupyter.widget-view+json": {
       "model_id": "a8146e9cab5f4744b7deb28a420574c9",
       "version_major": 2,
       "version_minor": 0
      },
      "text/plain": [
       "HBox(children=(HTML(value=''), FloatProgress(value=0.0, max=55.0), HTML(value='')))"
      ]
     },
     "metadata": {},
     "output_type": "display_data"
    },
    {
     "name": "stdout",
     "output_type": "stream",
     "text": [
      "\n",
      "train: bce: 0.317703, dice: 0.481374, loss: 0.418165\n"
     ]
    },
    {
     "data": {
      "application/vnd.jupyter.widget-view+json": {
       "model_id": "9cf1a440230f4df3a3e04304c7191b21",
       "version_major": 2,
       "version_minor": 0
      },
      "text/plain": [
       "HBox(children=(HTML(value=''), FloatProgress(value=0.0, max=24.0), HTML(value='')))"
      ]
     },
     "metadata": {},
     "output_type": "display_data"
    },
    {
     "name": "stdout",
     "output_type": "stream",
     "text": [
      "\n",
      "val: bce: 0.944847, dice: 0.478397, loss: 0.733225\n",
      "saving best DICE\n",
      "0m 20s\n",
      "Epoch 13/49\n",
      "----------\n",
      "LR 0.001\n"
     ]
    },
    {
     "data": {
      "application/vnd.jupyter.widget-view+json": {
       "model_id": "28d6e569188645949f73ed5246b538d2",
       "version_major": 2,
       "version_minor": 0
      },
      "text/plain": [
       "HBox(children=(HTML(value=''), FloatProgress(value=0.0, max=55.0), HTML(value='')))"
      ]
     },
     "metadata": {},
     "output_type": "display_data"
    },
    {
     "name": "stdout",
     "output_type": "stream",
     "text": [
      "\n",
      "train: bce: 0.352225, dice: 0.431571, loss: 0.460327\n"
     ]
    },
    {
     "data": {
      "application/vnd.jupyter.widget-view+json": {
       "model_id": "1c8653f33323418fb41a253f40d6b776",
       "version_major": 2,
       "version_minor": 0
      },
      "text/plain": [
       "HBox(children=(HTML(value=''), FloatProgress(value=0.0, max=24.0), HTML(value='')))"
      ]
     },
     "metadata": {},
     "output_type": "display_data"
    },
    {
     "name": "stdout",
     "output_type": "stream",
     "text": [
      "\n",
      "val: bce: 0.405543, dice: 0.460196, loss: 0.472673\n",
      "0m 20s\n",
      "Epoch 14/49\n",
      "----------\n",
      "LR 0.0001\n"
     ]
    },
    {
     "data": {
      "application/vnd.jupyter.widget-view+json": {
       "model_id": "d60a8b7c7acb400eafe22f4ae00b9513",
       "version_major": 2,
       "version_minor": 0
      },
      "text/plain": [
       "HBox(children=(HTML(value=''), FloatProgress(value=0.0, max=55.0), HTML(value='')))"
      ]
     },
     "metadata": {},
     "output_type": "display_data"
    },
    {
     "name": "stdout",
     "output_type": "stream",
     "text": [
      "\n",
      "train: bce: 0.297751, dice: 0.500960, loss: 0.398395\n"
     ]
    },
    {
     "data": {
      "application/vnd.jupyter.widget-view+json": {
       "model_id": "b6b1f2ed9e8b43d09a4eba87b491ee34",
       "version_major": 2,
       "version_minor": 0
      },
      "text/plain": [
       "HBox(children=(HTML(value=''), FloatProgress(value=0.0, max=24.0), HTML(value='')))"
      ]
     },
     "metadata": {},
     "output_type": "display_data"
    },
    {
     "name": "stdout",
     "output_type": "stream",
     "text": [
      "\n",
      "val: bce: 0.381161, dice: 0.496249, loss: 0.442456\n",
      "saving best DICE\n",
      "0m 20s\n",
      "Epoch 15/49\n",
      "----------\n",
      "LR 0.0001\n"
     ]
    },
    {
     "data": {
      "application/vnd.jupyter.widget-view+json": {
       "model_id": "4c330e3cdde14502aa415606289a9891",
       "version_major": 2,
       "version_minor": 0
      },
      "text/plain": [
       "HBox(children=(HTML(value=''), FloatProgress(value=0.0, max=55.0), HTML(value='')))"
      ]
     },
     "metadata": {},
     "output_type": "display_data"
    },
    {
     "name": "stdout",
     "output_type": "stream",
     "text": [
      "\n",
      "train: bce: 0.285559, dice: 0.529480, loss: 0.378039\n"
     ]
    },
    {
     "data": {
      "application/vnd.jupyter.widget-view+json": {
       "model_id": "9155054c6304474d9db4833c60183fff",
       "version_major": 2,
       "version_minor": 0
      },
      "text/plain": [
       "HBox(children=(HTML(value=''), FloatProgress(value=0.0, max=24.0), HTML(value='')))"
      ]
     },
     "metadata": {},
     "output_type": "display_data"
    },
    {
     "name": "stdout",
     "output_type": "stream",
     "text": [
      "\n",
      "val: bce: 0.368985, dice: 0.488253, loss: 0.440366\n",
      "0m 20s\n",
      "Epoch 16/49\n",
      "----------\n",
      "LR 0.0001\n"
     ]
    },
    {
     "data": {
      "application/vnd.jupyter.widget-view+json": {
       "model_id": "2de3a70d23494d96bb7c0056e9d4a2b5",
       "version_major": 2,
       "version_minor": 0
      },
      "text/plain": [
       "HBox(children=(HTML(value=''), FloatProgress(value=0.0, max=55.0), HTML(value='')))"
      ]
     },
     "metadata": {},
     "output_type": "display_data"
    },
    {
     "name": "stdout",
     "output_type": "stream",
     "text": [
      "\n",
      "train: bce: 0.288044, dice: 0.531126, loss: 0.378459\n"
     ]
    },
    {
     "data": {
      "application/vnd.jupyter.widget-view+json": {
       "model_id": "92f4c8d1692f4e2a938b8dbb3f564b61",
       "version_major": 2,
       "version_minor": 0
      },
      "text/plain": [
       "HBox(children=(HTML(value=''), FloatProgress(value=0.0, max=24.0), HTML(value='')))"
      ]
     },
     "metadata": {},
     "output_type": "display_data"
    },
    {
     "name": "stdout",
     "output_type": "stream",
     "text": [
      "\n",
      "val: bce: 0.377421, dice: 0.506955, loss: 0.435233\n",
      "saving best DICE\n",
      "0m 20s\n",
      "Epoch 17/49\n",
      "----------\n",
      "LR 0.0001\n"
     ]
    },
    {
     "data": {
      "application/vnd.jupyter.widget-view+json": {
       "model_id": "42a3a8d31e384662aef542715118b12e",
       "version_major": 2,
       "version_minor": 0
      },
      "text/plain": [
       "HBox(children=(HTML(value=''), FloatProgress(value=0.0, max=55.0), HTML(value='')))"
      ]
     },
     "metadata": {},
     "output_type": "display_data"
    },
    {
     "name": "stdout",
     "output_type": "stream",
     "text": [
      "\n",
      "train: bce: 0.282471, dice: 0.538657, loss: 0.371907\n"
     ]
    },
    {
     "data": {
      "application/vnd.jupyter.widget-view+json": {
       "model_id": "0f73abc7544b44c89a82ef3ae5fd79d3",
       "version_major": 2,
       "version_minor": 0
      },
      "text/plain": [
       "HBox(children=(HTML(value=''), FloatProgress(value=0.0, max=24.0), HTML(value='')))"
      ]
     },
     "metadata": {},
     "output_type": "display_data"
    },
    {
     "name": "stdout",
     "output_type": "stream",
     "text": [
      "\n",
      "val: bce: 0.355459, dice: 0.506689, loss: 0.424385\n",
      "saving best loss\n",
      "0m 20s\n",
      "Epoch 18/49\n",
      "----------\n",
      "LR 0.0001\n"
     ]
    },
    {
     "data": {
      "application/vnd.jupyter.widget-view+json": {
       "model_id": "25ee22ec53824bc5ad229d6dbacef499",
       "version_major": 2,
       "version_minor": 0
      },
      "text/plain": [
       "HBox(children=(HTML(value=''), FloatProgress(value=0.0, max=55.0), HTML(value='')))"
      ]
     },
     "metadata": {},
     "output_type": "display_data"
    },
    {
     "name": "stdout",
     "output_type": "stream",
     "text": [
      "\n",
      "train: bce: 0.279412, dice: 0.540367, loss: 0.369523\n"
     ]
    },
    {
     "data": {
      "application/vnd.jupyter.widget-view+json": {
       "model_id": "6da7bdea0f974f9197ae09e9b4047fb1",
       "version_major": 2,
       "version_minor": 0
      },
      "text/plain": [
       "HBox(children=(HTML(value=''), FloatProgress(value=0.0, max=24.0), HTML(value='')))"
      ]
     },
     "metadata": {},
     "output_type": "display_data"
    },
    {
     "name": "stdout",
     "output_type": "stream",
     "text": [
      "\n",
      "val: bce: 0.378457, dice: 0.521854, loss: 0.428302\n",
      "saving best DICE\n",
      "0m 20s\n",
      "Epoch 19/49\n",
      "----------\n",
      "LR 0.0001\n"
     ]
    },
    {
     "data": {
      "application/vnd.jupyter.widget-view+json": {
       "model_id": "e0f260c99d9246cfadfdfce26826891c",
       "version_major": 2,
       "version_minor": 0
      },
      "text/plain": [
       "HBox(children=(HTML(value=''), FloatProgress(value=0.0, max=55.0), HTML(value='')))"
      ]
     },
     "metadata": {},
     "output_type": "display_data"
    },
    {
     "name": "stdout",
     "output_type": "stream",
     "text": [
      "\n",
      "train: bce: 0.280049, dice: 0.544629, loss: 0.367710\n"
     ]
    },
    {
     "data": {
      "application/vnd.jupyter.widget-view+json": {
       "model_id": "c4a29d4094164a08a14dfe6da936c15a",
       "version_major": 2,
       "version_minor": 0
      },
      "text/plain": [
       "HBox(children=(HTML(value=''), FloatProgress(value=0.0, max=24.0), HTML(value='')))"
      ]
     },
     "metadata": {},
     "output_type": "display_data"
    },
    {
     "name": "stdout",
     "output_type": "stream",
     "text": [
      "\n",
      "val: bce: 0.370512, dice: 0.520178, loss: 0.425167\n",
      "0m 20s\n",
      "Epoch 20/49\n",
      "----------\n",
      "LR 0.0001\n"
     ]
    },
    {
     "data": {
      "application/vnd.jupyter.widget-view+json": {
       "model_id": "5007eb82d9b14baebc23ecebe686a019",
       "version_major": 2,
       "version_minor": 0
      },
      "text/plain": [
       "HBox(children=(HTML(value=''), FloatProgress(value=0.0, max=55.0), HTML(value='')))"
      ]
     },
     "metadata": {},
     "output_type": "display_data"
    },
    {
     "name": "stdout",
     "output_type": "stream",
     "text": [
      "\n",
      "train: bce: 0.272976, dice: 0.549289, loss: 0.361844\n"
     ]
    },
    {
     "data": {
      "application/vnd.jupyter.widget-view+json": {
       "model_id": "bcdcd67c3f644f08af0037cf9b595e16",
       "version_major": 2,
       "version_minor": 0
      },
      "text/plain": [
       "HBox(children=(HTML(value=''), FloatProgress(value=0.0, max=24.0), HTML(value='')))"
      ]
     },
     "metadata": {},
     "output_type": "display_data"
    },
    {
     "name": "stdout",
     "output_type": "stream",
     "text": [
      "\n",
      "val: bce: 0.342993, dice: 0.512874, loss: 0.415060\n",
      "saving best loss\n",
      "0m 20s\n",
      "Epoch 21/49\n",
      "----------\n",
      "LR 0.0001\n"
     ]
    },
    {
     "data": {
      "application/vnd.jupyter.widget-view+json": {
       "model_id": "5d301e2fd2f84fdda06cd194cc6dc701",
       "version_major": 2,
       "version_minor": 0
      },
      "text/plain": [
       "HBox(children=(HTML(value=''), FloatProgress(value=0.0, max=55.0), HTML(value='')))"
      ]
     },
     "metadata": {},
     "output_type": "display_data"
    },
    {
     "name": "stdout",
     "output_type": "stream",
     "text": [
      "\n",
      "train: bce: 0.271622, dice: 0.551494, loss: 0.360064\n"
     ]
    },
    {
     "data": {
      "application/vnd.jupyter.widget-view+json": {
       "model_id": "08f3bca9e4d3402dbd3946602785a94e",
       "version_major": 2,
       "version_minor": 0
      },
      "text/plain": [
       "HBox(children=(HTML(value=''), FloatProgress(value=0.0, max=24.0), HTML(value='')))"
      ]
     },
     "metadata": {},
     "output_type": "display_data"
    },
    {
     "name": "stdout",
     "output_type": "stream",
     "text": [
      "\n",
      "val: bce: 0.345938, dice: 0.521469, loss: 0.412235\n",
      "saving best loss\n",
      "0m 20s\n",
      "Epoch 22/49\n",
      "----------\n",
      "LR 0.0001\n"
     ]
    },
    {
     "data": {
      "application/vnd.jupyter.widget-view+json": {
       "model_id": "295f2d1a131a4fd0a4d7337e03da26ed",
       "version_major": 2,
       "version_minor": 0
      },
      "text/plain": [
       "HBox(children=(HTML(value=''), FloatProgress(value=0.0, max=55.0), HTML(value='')))"
      ]
     },
     "metadata": {},
     "output_type": "display_data"
    },
    {
     "name": "stdout",
     "output_type": "stream",
     "text": [
      "\n",
      "train: bce: 0.271754, dice: 0.555515, loss: 0.358119\n"
     ]
    },
    {
     "data": {
      "application/vnd.jupyter.widget-view+json": {
       "model_id": "94542b6ae2814a24a9941bf21826c56a",
       "version_major": 2,
       "version_minor": 0
      },
      "text/plain": [
       "HBox(children=(HTML(value=''), FloatProgress(value=0.0, max=24.0), HTML(value='')))"
      ]
     },
     "metadata": {},
     "output_type": "display_data"
    },
    {
     "name": "stdout",
     "output_type": "stream",
     "text": [
      "\n",
      "val: bce: 0.354242, dice: 0.526625, loss: 0.413809\n",
      "saving best DICE\n",
      "0m 20s\n",
      "Epoch 23/49\n",
      "----------\n",
      "LR 0.0001\n"
     ]
    },
    {
     "data": {
      "application/vnd.jupyter.widget-view+json": {
       "model_id": "d10afaefe2034ce899a2faf03267f88d",
       "version_major": 2,
       "version_minor": 0
      },
      "text/plain": [
       "HBox(children=(HTML(value=''), FloatProgress(value=0.0, max=55.0), HTML(value='')))"
      ]
     },
     "metadata": {},
     "output_type": "display_data"
    },
    {
     "name": "stdout",
     "output_type": "stream",
     "text": [
      "\n",
      "train: bce: 0.266978, dice: 0.554849, loss: 0.356064\n"
     ]
    },
    {
     "data": {
      "application/vnd.jupyter.widget-view+json": {
       "model_id": "2b647b28089b4a67b87f81915c7c8b94",
       "version_major": 2,
       "version_minor": 0
      },
      "text/plain": [
       "HBox(children=(HTML(value=''), FloatProgress(value=0.0, max=24.0), HTML(value='')))"
      ]
     },
     "metadata": {},
     "output_type": "display_data"
    },
    {
     "name": "stdout",
     "output_type": "stream",
     "text": [
      "\n",
      "val: bce: 0.373484, dice: 0.529049, loss: 0.422217\n",
      "saving best DICE\n",
      "0m 20s\n",
      "Epoch 24/49\n",
      "----------\n",
      "LR 0.0001\n"
     ]
    },
    {
     "data": {
      "application/vnd.jupyter.widget-view+json": {
       "model_id": "e5c16384fd5b4529824b472e9c4742c2",
       "version_major": 2,
       "version_minor": 0
      },
      "text/plain": [
       "HBox(children=(HTML(value=''), FloatProgress(value=0.0, max=55.0), HTML(value='')))"
      ]
     },
     "metadata": {},
     "output_type": "display_data"
    },
    {
     "name": "stdout",
     "output_type": "stream",
     "text": [
      "\n",
      "train: bce: 0.269626, dice: 0.559729, loss: 0.354948\n"
     ]
    },
    {
     "data": {
      "application/vnd.jupyter.widget-view+json": {
       "model_id": "e13186296cfa4e508af890f0b685941b",
       "version_major": 2,
       "version_minor": 0
      },
      "text/plain": [
       "HBox(children=(HTML(value=''), FloatProgress(value=0.0, max=24.0), HTML(value='')))"
      ]
     },
     "metadata": {},
     "output_type": "display_data"
    },
    {
     "name": "stdout",
     "output_type": "stream",
     "text": [
      "\n",
      "val: bce: 0.404880, dice: 0.543111, loss: 0.430884\n",
      "saving best DICE\n",
      "0m 20s\n",
      "Epoch 25/49\n",
      "----------\n",
      "LR 0.0001\n"
     ]
    },
    {
     "data": {
      "application/vnd.jupyter.widget-view+json": {
       "model_id": "48c96c8c1fa343d49b3a2797aa9693d9",
       "version_major": 2,
       "version_minor": 0
      },
      "text/plain": [
       "HBox(children=(HTML(value=''), FloatProgress(value=0.0, max=55.0), HTML(value='')))"
      ]
     },
     "metadata": {},
     "output_type": "display_data"
    },
    {
     "name": "stdout",
     "output_type": "stream",
     "text": [
      "\n",
      "train: bce: 0.268544, dice: 0.561566, loss: 0.353489\n"
     ]
    },
    {
     "data": {
      "application/vnd.jupyter.widget-view+json": {
       "model_id": "7500c5b41d7a4bf384005d912967610f",
       "version_major": 2,
       "version_minor": 0
      },
      "text/plain": [
       "HBox(children=(HTML(value=''), FloatProgress(value=0.0, max=24.0), HTML(value='')))"
      ]
     },
     "metadata": {},
     "output_type": "display_data"
    },
    {
     "name": "stdout",
     "output_type": "stream",
     "text": [
      "\n",
      "val: bce: 0.324939, dice: 0.514111, loss: 0.405414\n",
      "saving best loss\n",
      "0m 20s\n",
      "Epoch 26/49\n",
      "----------\n",
      "LR 0.0001\n"
     ]
    },
    {
     "data": {
      "application/vnd.jupyter.widget-view+json": {
       "model_id": "b9d6799495704142ab185da9ebbc832a",
       "version_major": 2,
       "version_minor": 0
      },
      "text/plain": [
       "HBox(children=(HTML(value=''), FloatProgress(value=0.0, max=55.0), HTML(value='')))"
      ]
     },
     "metadata": {},
     "output_type": "display_data"
    },
    {
     "name": "stdout",
     "output_type": "stream",
     "text": [
      "\n",
      "train: bce: 0.270977, dice: 0.555225, loss: 0.357876\n"
     ]
    },
    {
     "data": {
      "application/vnd.jupyter.widget-view+json": {
       "model_id": "9e29699aa11f4e878aadd8b03dafc58f",
       "version_major": 2,
       "version_minor": 0
      },
      "text/plain": [
       "HBox(children=(HTML(value=''), FloatProgress(value=0.0, max=24.0), HTML(value='')))"
      ]
     },
     "metadata": {},
     "output_type": "display_data"
    },
    {
     "name": "stdout",
     "output_type": "stream",
     "text": [
      "\n",
      "val: bce: 0.378726, dice: 0.545018, loss: 0.416854\n",
      "saving best DICE\n",
      "0m 20s\n",
      "Epoch 27/49\n",
      "----------\n",
      "LR 0.0001\n"
     ]
    },
    {
     "data": {
      "application/vnd.jupyter.widget-view+json": {
       "model_id": "d181a0a63773454e8360f477726f26bb",
       "version_major": 2,
       "version_minor": 0
      },
      "text/plain": [
       "HBox(children=(HTML(value=''), FloatProgress(value=0.0, max=55.0), HTML(value='')))"
      ]
     },
     "metadata": {},
     "output_type": "display_data"
    },
    {
     "name": "stdout",
     "output_type": "stream",
     "text": [
      "\n",
      "train: bce: 0.267812, dice: 0.562437, loss: 0.352688\n"
     ]
    },
    {
     "data": {
      "application/vnd.jupyter.widget-view+json": {
       "model_id": "a841b1bc323543f1b37ebfcae85bd56d",
       "version_major": 2,
       "version_minor": 0
      },
      "text/plain": [
       "HBox(children=(HTML(value=''), FloatProgress(value=0.0, max=24.0), HTML(value='')))"
      ]
     },
     "metadata": {},
     "output_type": "display_data"
    },
    {
     "name": "stdout",
     "output_type": "stream",
     "text": [
      "\n",
      "val: bce: 0.344711, dice: 0.533897, loss: 0.405407\n",
      "saving best loss\n",
      "0m 20s\n",
      "Epoch 28/49\n",
      "----------\n",
      "LR 0.0001\n"
     ]
    },
    {
     "data": {
      "application/vnd.jupyter.widget-view+json": {
       "model_id": "908437f402724789865fb2b73de83930",
       "version_major": 2,
       "version_minor": 0
      },
      "text/plain": [
       "HBox(children=(HTML(value=''), FloatProgress(value=0.0, max=55.0), HTML(value='')))"
      ]
     },
     "metadata": {},
     "output_type": "display_data"
    },
    {
     "name": "stdout",
     "output_type": "stream",
     "text": [
      "\n",
      "train: bce: 0.261282, dice: 0.569920, loss: 0.345681\n"
     ]
    },
    {
     "data": {
      "application/vnd.jupyter.widget-view+json": {
       "model_id": "d1e9f27ee87c4967a3af4835f7d04491",
       "version_major": 2,
       "version_minor": 0
      },
      "text/plain": [
       "HBox(children=(HTML(value=''), FloatProgress(value=0.0, max=24.0), HTML(value='')))"
      ]
     },
     "metadata": {},
     "output_type": "display_data"
    },
    {
     "name": "stdout",
     "output_type": "stream",
     "text": [
      "\n",
      "val: bce: 0.332303, dice: 0.533233, loss: 0.399535\n",
      "saving best loss\n",
      "0m 20s\n",
      "Epoch 29/49\n",
      "----------\n",
      "LR 1e-05\n"
     ]
    },
    {
     "data": {
      "application/vnd.jupyter.widget-view+json": {
       "model_id": "2572bade6d8d4c59913f5df91d9ae353",
       "version_major": 2,
       "version_minor": 0
      },
      "text/plain": [
       "HBox(children=(HTML(value=''), FloatProgress(value=0.0, max=55.0), HTML(value='')))"
      ]
     },
     "metadata": {},
     "output_type": "display_data"
    },
    {
     "name": "stdout",
     "output_type": "stream",
     "text": [
      "\n",
      "train: bce: 0.256002, dice: 0.575342, loss: 0.340330\n"
     ]
    },
    {
     "data": {
      "application/vnd.jupyter.widget-view+json": {
       "model_id": "1608b2e9da624b6bac01dbe105d98272",
       "version_major": 2,
       "version_minor": 0
      },
      "text/plain": [
       "HBox(children=(HTML(value=''), FloatProgress(value=0.0, max=24.0), HTML(value='')))"
      ]
     },
     "metadata": {},
     "output_type": "display_data"
    },
    {
     "name": "stdout",
     "output_type": "stream",
     "text": [
      "\n",
      "val: bce: 0.335901, dice: 0.537454, loss: 0.399223\n",
      "saving best loss\n",
      "0m 20s\n",
      "Epoch 30/49\n",
      "----------\n",
      "LR 1e-05\n"
     ]
    },
    {
     "data": {
      "application/vnd.jupyter.widget-view+json": {
       "model_id": "70d17f66dd6d400889a446fc0b3c12a9",
       "version_major": 2,
       "version_minor": 0
      },
      "text/plain": [
       "HBox(children=(HTML(value=''), FloatProgress(value=0.0, max=55.0), HTML(value='')))"
      ]
     },
     "metadata": {},
     "output_type": "display_data"
    },
    {
     "name": "stdout",
     "output_type": "stream",
     "text": [
      "\n",
      "train: bce: 0.251842, dice: 0.572631, loss: 0.339606\n"
     ]
    },
    {
     "data": {
      "application/vnd.jupyter.widget-view+json": {
       "model_id": "8fe4a46c65b04364ba6be41093f889ff",
       "version_major": 2,
       "version_minor": 0
      },
      "text/plain": [
       "HBox(children=(HTML(value=''), FloatProgress(value=0.0, max=24.0), HTML(value='')))"
      ]
     },
     "metadata": {},
     "output_type": "display_data"
    },
    {
     "name": "stdout",
     "output_type": "stream",
     "text": [
      "\n",
      "val: bce: 0.346419, dice: 0.541817, loss: 0.402301\n",
      "0m 20s\n",
      "Epoch 31/49\n",
      "----------\n",
      "LR 1e-05\n"
     ]
    },
    {
     "data": {
      "application/vnd.jupyter.widget-view+json": {
       "model_id": "24e84235b16d475cba42e01698236534",
       "version_major": 2,
       "version_minor": 0
      },
      "text/plain": [
       "HBox(children=(HTML(value=''), FloatProgress(value=0.0, max=55.0), HTML(value='')))"
      ]
     },
     "metadata": {},
     "output_type": "display_data"
    },
    {
     "name": "stdout",
     "output_type": "stream",
     "text": [
      "\n",
      "train: bce: 0.255234, dice: 0.576969, loss: 0.339132\n"
     ]
    },
    {
     "data": {
      "application/vnd.jupyter.widget-view+json": {
       "model_id": "e729d81339bb4394a7ade0ce5a873e19",
       "version_major": 2,
       "version_minor": 0
      },
      "text/plain": [
       "HBox(children=(HTML(value=''), FloatProgress(value=0.0, max=24.0), HTML(value='')))"
      ]
     },
     "metadata": {},
     "output_type": "display_data"
    },
    {
     "name": "stdout",
     "output_type": "stream",
     "text": [
      "\n",
      "val: bce: 0.337828, dice: 0.539186, loss: 0.399321\n",
      "0m 20s\n",
      "Epoch 32/49\n",
      "----------\n",
      "LR 1e-05\n"
     ]
    },
    {
     "data": {
      "application/vnd.jupyter.widget-view+json": {
       "model_id": "1e8cb02fc57e4952b24367a4e1815f6b",
       "version_major": 2,
       "version_minor": 0
      },
      "text/plain": [
       "HBox(children=(HTML(value=''), FloatProgress(value=0.0, max=55.0), HTML(value='')))"
      ]
     },
     "metadata": {},
     "output_type": "display_data"
    },
    {
     "name": "stdout",
     "output_type": "stream",
     "text": [
      "\n",
      "train: bce: 0.254587, dice: 0.577233, loss: 0.338677\n"
     ]
    },
    {
     "data": {
      "application/vnd.jupyter.widget-view+json": {
       "model_id": "e013a9eaa2ae4b99b021561818657f0e",
       "version_major": 2,
       "version_minor": 0
      },
      "text/plain": [
       "HBox(children=(HTML(value=''), FloatProgress(value=0.0, max=24.0), HTML(value='')))"
      ]
     },
     "metadata": {},
     "output_type": "display_data"
    },
    {
     "name": "stdout",
     "output_type": "stream",
     "text": [
      "\n",
      "val: bce: 0.342503, dice: 0.541625, loss: 0.400439\n",
      "0m 20s\n",
      "Epoch 33/49\n",
      "----------\n",
      "LR 1e-05\n"
     ]
    },
    {
     "data": {
      "application/vnd.jupyter.widget-view+json": {
       "model_id": "1db0bbe75b1b497797a1313c9cb6a8c1",
       "version_major": 2,
       "version_minor": 0
      },
      "text/plain": [
       "HBox(children=(HTML(value=''), FloatProgress(value=0.0, max=55.0), HTML(value='')))"
      ]
     },
     "metadata": {},
     "output_type": "display_data"
    },
    {
     "name": "stdout",
     "output_type": "stream",
     "text": [
      "\n",
      "train: bce: 0.254979, dice: 0.579928, loss: 0.337526\n"
     ]
    },
    {
     "data": {
      "application/vnd.jupyter.widget-view+json": {
       "model_id": "cd34dbdd203e44749b5bf13cf988fd21",
       "version_major": 2,
       "version_minor": 0
      },
      "text/plain": [
       "HBox(children=(HTML(value=''), FloatProgress(value=0.0, max=24.0), HTML(value='')))"
      ]
     },
     "metadata": {},
     "output_type": "display_data"
    },
    {
     "name": "stdout",
     "output_type": "stream",
     "text": [
      "\n",
      "val: bce: 0.336565, dice: 0.539277, loss: 0.398644\n",
      "saving best loss\n",
      "0m 20s\n",
      "Epoch 34/49\n",
      "----------\n",
      "LR 1e-05\n"
     ]
    },
    {
     "data": {
      "application/vnd.jupyter.widget-view+json": {
       "model_id": "7bb91b27e4e841d8a5b16b94f1b2dcf9",
       "version_major": 2,
       "version_minor": 0
      },
      "text/plain": [
       "HBox(children=(HTML(value=''), FloatProgress(value=0.0, max=55.0), HTML(value='')))"
      ]
     },
     "metadata": {},
     "output_type": "display_data"
    },
    {
     "name": "stdout",
     "output_type": "stream",
     "text": [
      "\n",
      "train: bce: 0.251593, dice: 0.576874, loss: 0.337360\n"
     ]
    },
    {
     "data": {
      "application/vnd.jupyter.widget-view+json": {
       "model_id": "f816cd78eac7412e9c16207ec6bb8d93",
       "version_major": 2,
       "version_minor": 0
      },
      "text/plain": [
       "HBox(children=(HTML(value=''), FloatProgress(value=0.0, max=24.0), HTML(value='')))"
      ]
     },
     "metadata": {},
     "output_type": "display_data"
    },
    {
     "name": "stdout",
     "output_type": "stream",
     "text": [
      "\n",
      "val: bce: 0.339544, dice: 0.541426, loss: 0.399059\n",
      "0m 20s\n",
      "Epoch 35/49\n",
      "----------\n",
      "LR 1e-05\n"
     ]
    },
    {
     "data": {
      "application/vnd.jupyter.widget-view+json": {
       "model_id": "d630fc6801204933ae0b4ce24333d64d",
       "version_major": 2,
       "version_minor": 0
      },
      "text/plain": [
       "HBox(children=(HTML(value=''), FloatProgress(value=0.0, max=55.0), HTML(value='')))"
      ]
     },
     "metadata": {},
     "output_type": "display_data"
    },
    {
     "name": "stdout",
     "output_type": "stream",
     "text": [
      "\n",
      "train: bce: 0.254475, dice: 0.579988, loss: 0.337244\n"
     ]
    },
    {
     "data": {
      "application/vnd.jupyter.widget-view+json": {
       "model_id": "98efac61de0147eb88a7a3d93d7515f9",
       "version_major": 2,
       "version_minor": 0
      },
      "text/plain": [
       "HBox(children=(HTML(value=''), FloatProgress(value=0.0, max=24.0), HTML(value='')))"
      ]
     },
     "metadata": {},
     "output_type": "display_data"
    },
    {
     "name": "stdout",
     "output_type": "stream",
     "text": [
      "\n",
      "val: bce: 0.339482, dice: 0.541570, loss: 0.398956\n",
      "0m 20s\n",
      "Epoch 36/49\n",
      "----------\n",
      "LR 1e-05\n"
     ]
    },
    {
     "data": {
      "application/vnd.jupyter.widget-view+json": {
       "model_id": "39fceea735c44eb896768b5c120a21df",
       "version_major": 2,
       "version_minor": 0
      },
      "text/plain": [
       "HBox(children=(HTML(value=''), FloatProgress(value=0.0, max=55.0), HTML(value='')))"
      ]
     },
     "metadata": {},
     "output_type": "display_data"
    },
    {
     "name": "stdout",
     "output_type": "stream",
     "text": [
      "\n",
      "train: bce: 0.251722, dice: 0.578550, loss: 0.336586\n"
     ]
    },
    {
     "data": {
      "application/vnd.jupyter.widget-view+json": {
       "model_id": "64266624fb534f989233cd3166fad38b",
       "version_major": 2,
       "version_minor": 0
      },
      "text/plain": [
       "HBox(children=(HTML(value=''), FloatProgress(value=0.0, max=24.0), HTML(value='')))"
      ]
     },
     "metadata": {},
     "output_type": "display_data"
    },
    {
     "name": "stdout",
     "output_type": "stream",
     "text": [
      "\n",
      "val: bce: 0.339379, dice: 0.541862, loss: 0.398758\n",
      "0m 20s\n",
      "Epoch 37/49\n",
      "----------\n",
      "LR 1e-05\n"
     ]
    },
    {
     "data": {
      "application/vnd.jupyter.widget-view+json": {
       "model_id": "b8ce62a9ff3144d0aee2a8b5bae92e7a",
       "version_major": 2,
       "version_minor": 0
      },
      "text/plain": [
       "HBox(children=(HTML(value=''), FloatProgress(value=0.0, max=55.0), HTML(value='')))"
      ]
     },
     "metadata": {},
     "output_type": "display_data"
    },
    {
     "name": "stdout",
     "output_type": "stream",
     "text": [
      "\n",
      "train: bce: 0.254680, dice: 0.581708, loss: 0.336486\n"
     ]
    },
    {
     "data": {
      "application/vnd.jupyter.widget-view+json": {
       "model_id": "5ebadc4be9e74213b85fff3888de7e0a",
       "version_major": 2,
       "version_minor": 0
      },
      "text/plain": [
       "HBox(children=(HTML(value=''), FloatProgress(value=0.0, max=24.0), HTML(value='')))"
      ]
     },
     "metadata": {},
     "output_type": "display_data"
    },
    {
     "name": "stdout",
     "output_type": "stream",
     "text": [
      "\n",
      "val: bce: 0.335588, dice: 0.540410, loss: 0.397589\n",
      "saving best loss\n",
      "0m 20s\n",
      "Epoch 38/49\n",
      "----------\n",
      "LR 1e-05\n"
     ]
    },
    {
     "data": {
      "application/vnd.jupyter.widget-view+json": {
       "model_id": "0465f127218340669946604fcfe53575",
       "version_major": 2,
       "version_minor": 0
      },
      "text/plain": [
       "HBox(children=(HTML(value=''), FloatProgress(value=0.0, max=55.0), HTML(value='')))"
      ]
     },
     "metadata": {},
     "output_type": "display_data"
    },
    {
     "name": "stdout",
     "output_type": "stream",
     "text": [
      "\n",
      "train: bce: 0.251716, dice: 0.579692, loss: 0.336012\n"
     ]
    },
    {
     "data": {
      "application/vnd.jupyter.widget-view+json": {
       "model_id": "06cba8b7edce4316a45ffbbac4797b81",
       "version_major": 2,
       "version_minor": 0
      },
      "text/plain": [
       "HBox(children=(HTML(value=''), FloatProgress(value=0.0, max=24.0), HTML(value='')))"
      ]
     },
     "metadata": {},
     "output_type": "display_data"
    },
    {
     "name": "stdout",
     "output_type": "stream",
     "text": [
      "\n",
      "val: bce: 0.339336, dice: 0.542931, loss: 0.398202\n",
      "0m 20s\n",
      "Epoch 39/49\n",
      "----------\n",
      "LR 1e-05\n"
     ]
    },
    {
     "data": {
      "application/vnd.jupyter.widget-view+json": {
       "model_id": "e6b75c213f6341a79dd4d47ead4570d7",
       "version_major": 2,
       "version_minor": 0
      },
      "text/plain": [
       "HBox(children=(HTML(value=''), FloatProgress(value=0.0, max=55.0), HTML(value='')))"
      ]
     },
     "metadata": {},
     "output_type": "display_data"
    },
    {
     "name": "stdout",
     "output_type": "stream",
     "text": [
      "\n",
      "train: bce: 0.252603, dice: 0.581235, loss: 0.335684\n"
     ]
    },
    {
     "data": {
      "application/vnd.jupyter.widget-view+json": {
       "model_id": "0f4d88d3e4e345cf80d27f2563177022",
       "version_major": 2,
       "version_minor": 0
      },
      "text/plain": [
       "HBox(children=(HTML(value=''), FloatProgress(value=0.0, max=24.0), HTML(value='')))"
      ]
     },
     "metadata": {},
     "output_type": "display_data"
    },
    {
     "name": "stdout",
     "output_type": "stream",
     "text": [
      "\n",
      "val: bce: 0.336486, dice: 0.541539, loss: 0.397474\n",
      "saving best loss\n",
      "0m 20s\n",
      "Epoch 40/49\n",
      "----------\n",
      "LR 1e-05\n"
     ]
    },
    {
     "data": {
      "application/vnd.jupyter.widget-view+json": {
       "model_id": "5af8ef23fed349e78a672ba17489204f",
       "version_major": 2,
       "version_minor": 0
      },
      "text/plain": [
       "HBox(children=(HTML(value=''), FloatProgress(value=0.0, max=55.0), HTML(value='')))"
      ]
     },
     "metadata": {},
     "output_type": "display_data"
    },
    {
     "name": "stdout",
     "output_type": "stream",
     "text": [
      "\n",
      "train: bce: 0.251819, dice: 0.581401, loss: 0.335209\n"
     ]
    },
    {
     "data": {
      "application/vnd.jupyter.widget-view+json": {
       "model_id": "484965d3bb4e4622ae6c987e89312425",
       "version_major": 2,
       "version_minor": 0
      },
      "text/plain": [
       "HBox(children=(HTML(value=''), FloatProgress(value=0.0, max=24.0), HTML(value='')))"
      ]
     },
     "metadata": {},
     "output_type": "display_data"
    },
    {
     "name": "stdout",
     "output_type": "stream",
     "text": [
      "\n",
      "val: bce: 0.342530, dice: 0.544856, loss: 0.398837\n",
      "0m 20s\n",
      "Epoch 41/49\n",
      "----------\n",
      "LR 1e-05\n"
     ]
    },
    {
     "data": {
      "application/vnd.jupyter.widget-view+json": {
       "model_id": "77f54e91a6fd44d99fe2f58aac8c47ec",
       "version_major": 2,
       "version_minor": 0
      },
      "text/plain": [
       "HBox(children=(HTML(value=''), FloatProgress(value=0.0, max=55.0), HTML(value='')))"
      ]
     },
     "metadata": {},
     "output_type": "display_data"
    },
    {
     "name": "stdout",
     "output_type": "stream",
     "text": [
      "\n",
      "train: bce: 0.253733, dice: 0.583575, loss: 0.335079\n"
     ]
    },
    {
     "data": {
      "application/vnd.jupyter.widget-view+json": {
       "model_id": "2044a822d1824d1dbc3e11ed5e7a62a4",
       "version_major": 2,
       "version_minor": 0
      },
      "text/plain": [
       "HBox(children=(HTML(value=''), FloatProgress(value=0.0, max=24.0), HTML(value='')))"
      ]
     },
     "metadata": {},
     "output_type": "display_data"
    },
    {
     "name": "stdout",
     "output_type": "stream",
     "text": [
      "\n",
      "val: bce: 0.337874, dice: 0.543381, loss: 0.397247\n",
      "saving best loss\n",
      "0m 20s\n",
      "Epoch 42/49\n",
      "----------\n",
      "LR 1e-05\n"
     ]
    },
    {
     "data": {
      "application/vnd.jupyter.widget-view+json": {
       "model_id": "901f436f878a443da95b2ddba7fa5b86",
       "version_major": 2,
       "version_minor": 0
      },
      "text/plain": [
       "HBox(children=(HTML(value=''), FloatProgress(value=0.0, max=55.0), HTML(value='')))"
      ]
     },
     "metadata": {},
     "output_type": "display_data"
    },
    {
     "name": "stdout",
     "output_type": "stream",
     "text": [
      "\n",
      "train: bce: 0.251503, dice: 0.581698, loss: 0.334902\n"
     ]
    },
    {
     "data": {
      "application/vnd.jupyter.widget-view+json": {
       "model_id": "5c4006ec48e343c3a1a44efd2a81928c",
       "version_major": 2,
       "version_minor": 0
      },
      "text/plain": [
       "HBox(children=(HTML(value=''), FloatProgress(value=0.0, max=24.0), HTML(value='')))"
      ]
     },
     "metadata": {},
     "output_type": "display_data"
    },
    {
     "name": "stdout",
     "output_type": "stream",
     "text": [
      "\n",
      "val: bce: 0.335053, dice: 0.542361, loss: 0.396346\n",
      "saving best loss\n",
      "0m 20s\n",
      "Epoch 43/49\n",
      "----------\n",
      "LR 1e-05\n"
     ]
    },
    {
     "data": {
      "application/vnd.jupyter.widget-view+json": {
       "model_id": "c3d4fb54d6bb4f3883b95c2fd694764c",
       "version_major": 2,
       "version_minor": 0
      },
      "text/plain": [
       "HBox(children=(HTML(value=''), FloatProgress(value=0.0, max=55.0), HTML(value='')))"
      ]
     },
     "metadata": {},
     "output_type": "display_data"
    },
    {
     "name": "stdout",
     "output_type": "stream",
     "text": [
      "\n",
      "train: bce: 0.251300, dice: 0.581589, loss: 0.334855\n"
     ]
    },
    {
     "data": {
      "application/vnd.jupyter.widget-view+json": {
       "model_id": "6245b5648e6a4b4d803c132abf57f09c",
       "version_major": 2,
       "version_minor": 0
      },
      "text/plain": [
       "HBox(children=(HTML(value=''), FloatProgress(value=0.0, max=24.0), HTML(value='')))"
      ]
     },
     "metadata": {},
     "output_type": "display_data"
    },
    {
     "name": "stdout",
     "output_type": "stream",
     "text": [
      "\n",
      "val: bce: 0.336511, dice: 0.543034, loss: 0.396738\n",
      "0m 20s\n",
      "Epoch 44/49\n",
      "----------\n",
      "LR 1.0000000000000002e-06\n"
     ]
    },
    {
     "data": {
      "application/vnd.jupyter.widget-view+json": {
       "model_id": "4d77ad29b5fd4543bc5d264818445d2e",
       "version_major": 2,
       "version_minor": 0
      },
      "text/plain": [
       "HBox(children=(HTML(value=''), FloatProgress(value=0.0, max=55.0), HTML(value='')))"
      ]
     },
     "metadata": {},
     "output_type": "display_data"
    },
    {
     "name": "stdout",
     "output_type": "stream",
     "text": [
      "\n",
      "train: bce: 0.249534, dice: 0.582514, loss: 0.333510\n"
     ]
    },
    {
     "data": {
      "application/vnd.jupyter.widget-view+json": {
       "model_id": "324c522334d44a7ca78564df42a3dc28",
       "version_major": 2,
       "version_minor": 0
      },
      "text/plain": [
       "HBox(children=(HTML(value=''), FloatProgress(value=0.0, max=24.0), HTML(value='')))"
      ]
     },
     "metadata": {},
     "output_type": "display_data"
    },
    {
     "name": "stdout",
     "output_type": "stream",
     "text": [
      "\n",
      "val: bce: 0.337801, dice: 0.543809, loss: 0.396996\n",
      "0m 20s\n",
      "Epoch 45/49\n",
      "----------\n",
      "LR 1.0000000000000002e-06\n"
     ]
    },
    {
     "data": {
      "application/vnd.jupyter.widget-view+json": {
       "model_id": "4c168e225c1a41329a6d53c4bb0a19b9",
       "version_major": 2,
       "version_minor": 0
      },
      "text/plain": [
       "HBox(children=(HTML(value=''), FloatProgress(value=0.0, max=55.0), HTML(value='')))"
      ]
     },
     "metadata": {},
     "output_type": "display_data"
    },
    {
     "name": "stdout",
     "output_type": "stream",
     "text": [
      "\n",
      "train: bce: 0.250005, dice: 0.583338, loss: 0.333333\n"
     ]
    },
    {
     "data": {
      "application/vnd.jupyter.widget-view+json": {
       "model_id": "412163c966dd4a369edd5cf8650d7304",
       "version_major": 2,
       "version_minor": 0
      },
      "text/plain": [
       "HBox(children=(HTML(value=''), FloatProgress(value=0.0, max=24.0), HTML(value='')))"
      ]
     },
     "metadata": {},
     "output_type": "display_data"
    },
    {
     "name": "stdout",
     "output_type": "stream",
     "text": [
      "\n",
      "val: bce: 0.337656, dice: 0.543833, loss: 0.396911\n",
      "0m 20s\n",
      "Epoch 46/49\n",
      "----------\n",
      "LR 1.0000000000000002e-06\n"
     ]
    },
    {
     "data": {
      "application/vnd.jupyter.widget-view+json": {
       "model_id": "9c91fe997818444c9f84e72250af14f6",
       "version_major": 2,
       "version_minor": 0
      },
      "text/plain": [
       "HBox(children=(HTML(value=''), FloatProgress(value=0.0, max=55.0), HTML(value='')))"
      ]
     },
     "metadata": {},
     "output_type": "display_data"
    },
    {
     "name": "stdout",
     "output_type": "stream",
     "text": [
      "\n",
      "train: bce: 0.250415, dice: 0.583782, loss: 0.333317\n"
     ]
    },
    {
     "data": {
      "application/vnd.jupyter.widget-view+json": {
       "model_id": "ec4ea9a3813d4858a7007df0833d1a58",
       "version_major": 2,
       "version_minor": 0
      },
      "text/plain": [
       "HBox(children=(HTML(value=''), FloatProgress(value=0.0, max=24.0), HTML(value='')))"
      ]
     },
     "metadata": {},
     "output_type": "display_data"
    },
    {
     "name": "stdout",
     "output_type": "stream",
     "text": [
      "\n",
      "val: bce: 0.338366, dice: 0.544213, loss: 0.397077\n",
      "0m 20s\n",
      "Epoch 47/49\n",
      "----------\n",
      "LR 1.0000000000000002e-06\n"
     ]
    },
    {
     "data": {
      "application/vnd.jupyter.widget-view+json": {
       "model_id": "b6f28d0ea4a842878530b8f2f932cf00",
       "version_major": 2,
       "version_minor": 0
      },
      "text/plain": [
       "HBox(children=(HTML(value=''), FloatProgress(value=0.0, max=55.0), HTML(value='')))"
      ]
     },
     "metadata": {},
     "output_type": "display_data"
    },
    {
     "name": "stdout",
     "output_type": "stream",
     "text": [
      "\n",
      "train: bce: 0.250036, dice: 0.583552, loss: 0.333242\n"
     ]
    },
    {
     "data": {
      "application/vnd.jupyter.widget-view+json": {
       "model_id": "35bf51e4d5354b4eb8cfcd831db11b0a",
       "version_major": 2,
       "version_minor": 0
      },
      "text/plain": [
       "HBox(children=(HTML(value=''), FloatProgress(value=0.0, max=24.0), HTML(value='')))"
      ]
     },
     "metadata": {},
     "output_type": "display_data"
    },
    {
     "name": "stdout",
     "output_type": "stream",
     "text": [
      "\n",
      "val: bce: 0.337730, dice: 0.543995, loss: 0.396868\n",
      "0m 20s\n",
      "Epoch 48/49\n",
      "----------\n",
      "LR 1.0000000000000002e-06\n"
     ]
    },
    {
     "data": {
      "application/vnd.jupyter.widget-view+json": {
       "model_id": "722dd54659d1459b9321ccc7f886724b",
       "version_major": 2,
       "version_minor": 0
      },
      "text/plain": [
       "HBox(children=(HTML(value=''), FloatProgress(value=0.0, max=55.0), HTML(value='')))"
      ]
     },
     "metadata": {},
     "output_type": "display_data"
    },
    {
     "name": "stdout",
     "output_type": "stream",
     "text": [
      "\n",
      "train: bce: 0.250407, dice: 0.583933, loss: 0.333237\n"
     ]
    },
    {
     "data": {
      "application/vnd.jupyter.widget-view+json": {
       "model_id": "a4edf929cfe54af78e94a960414a2060",
       "version_major": 2,
       "version_minor": 0
      },
      "text/plain": [
       "HBox(children=(HTML(value=''), FloatProgress(value=0.0, max=24.0), HTML(value='')))"
      ]
     },
     "metadata": {},
     "output_type": "display_data"
    },
    {
     "name": "stdout",
     "output_type": "stream",
     "text": [
      "\n",
      "val: bce: 0.339091, dice: 0.544624, loss: 0.397234\n",
      "0m 20s\n",
      "Epoch 49/49\n",
      "----------\n",
      "LR 1.0000000000000002e-06\n"
     ]
    },
    {
     "data": {
      "application/vnd.jupyter.widget-view+json": {
       "model_id": "8407b23a3ab3457483ea11508ea044a9",
       "version_major": 2,
       "version_minor": 0
      },
      "text/plain": [
       "HBox(children=(HTML(value=''), FloatProgress(value=0.0, max=55.0), HTML(value='')))"
      ]
     },
     "metadata": {},
     "output_type": "display_data"
    },
    {
     "name": "stdout",
     "output_type": "stream",
     "text": [
      "\n",
      "train: bce: 0.250320, dice: 0.583921, loss: 0.333199\n"
     ]
    },
    {
     "data": {
      "application/vnd.jupyter.widget-view+json": {
       "model_id": "5ee589a2c17c44f287b67cec244f34e4",
       "version_major": 2,
       "version_minor": 0
      },
      "text/plain": [
       "HBox(children=(HTML(value=''), FloatProgress(value=0.0, max=24.0), HTML(value='')))"
      ]
     },
     "metadata": {},
     "output_type": "display_data"
    },
    {
     "name": "stdout",
     "output_type": "stream",
     "text": [
      "\n",
      "val: bce: 0.338340, dice: 0.544326, loss: 0.397007\n",
      "0m 20s\n",
      "\n",
      "Best val loss: 0.396346\n",
      "Best val DICE: 0.545018\n"
     ]
    }
   ],
   "source": [
    "model = train_model(model, optimizer_ft, exp_lr_scheduler, experiment_name=exp_name, num_epochs=50) "
   ]
  },
  {
   "cell_type": "code",
   "execution_count": null,
   "metadata": {},
   "outputs": [],
   "source": []
  }
 ],
 "metadata": {
  "kernelspec": {
   "display_name": "Python 3",
   "language": "python",
   "name": "python3"
  },
  "language_info": {
   "codemirror_mode": {
    "name": "ipython",
    "version": 3
   },
   "file_extension": ".py",
   "mimetype": "text/x-python",
   "name": "python",
   "nbconvert_exporter": "python",
   "pygments_lexer": "ipython3",
   "version": "3.8.5"
  }
 },
 "nbformat": 4,
 "nbformat_minor": 4
}
