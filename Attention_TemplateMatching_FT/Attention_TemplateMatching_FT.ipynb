{
 "cells": [
  {
   "cell_type": "code",
   "execution_count": 1,
   "metadata": {},
   "outputs": [],
   "source": [
    "import torch\n",
    "import numpy as np\n",
    "import torch.nn as nn\n",
    "import torch.backends.cudnn as cudnn\n",
    "import torchvision.transforms as transforms\n",
    "import torchvision.datasets as datasets\n",
    "import os\n",
    "import faiss\n",
    "import time\n",
    "from pathlib import Path\n",
    "from torch.utils.data import Dataset, DataLoader\n",
    "from PIL import Image\n",
    "import random\n",
    "import cv2\n",
    "from attention_unet import Attention_block, conv_block, up_conv\n",
    "import matplotlib.pyplot as plt\n",
    "from dataloaders import ShapeDataset, Birds_Dataset\n",
    "import torchvision.utils"
   ]
  },
  {
   "cell_type": "code",
   "execution_count": 2,
   "metadata": {},
   "outputs": [],
   "source": [
    "# dataset_path = Path('/home/e_radionova/Datasets/SimpleShapes_10_classes/dataset/')\n",
    "dataset_path = Path('/home/e_radionova/Datasets/Caltech_birds/CUB_200_2011/dataset')"
   ]
  },
  {
   "cell_type": "code",
   "execution_count": 3,
   "metadata": {},
   "outputs": [],
   "source": [
    "trans = transforms.Compose([\n",
    "    transforms.Resize((400, 400), interpolation=Image.NEAREST),\n",
    "#     transforms.CenterCrop((400, 400)),\n",
    "    transforms.ToTensor(),\n",
    "])\n",
    "\n",
    "train_set = Birds_Dataset(images_folder = dataset_path / 'train/images', \n",
    "                         masks_folder = dataset_path / 'train/masks',\n",
    "                         img_transform = trans, \n",
    "                         masks_transform = trans)\n",
    "\n",
    "val_set = Birds_Dataset(images_folder = dataset_path / 'test/images', \n",
    "                         masks_folder = dataset_path / 'test/masks',\n",
    "                         img_transform = trans, \n",
    "                         masks_transform = trans)"
   ]
  },
  {
   "cell_type": "code",
   "execution_count": 4,
   "metadata": {},
   "outputs": [
    {
     "data": {
      "text/plain": [
       "{'train': 5994, 'val': 5794}"
      ]
     },
     "execution_count": 4,
     "metadata": {},
     "output_type": "execute_result"
    }
   ],
   "source": [
    "image_datasets = {\n",
    "    'train': train_set , 'val': val_set\n",
    "}\n",
    "\n",
    "batch_size_train = 4\n",
    "batch_size_val = batch_size_train\n",
    "\n",
    "dataloaders = {\n",
    "    'train': DataLoader(train_set, batch_size=batch_size_train, shuffle=True, num_workers=0),\n",
    "    'val': DataLoader(val_set, batch_size=batch_size_val, shuffle=True, num_workers=0)\n",
    "}\n",
    "\n",
    "dataset_sizes = {\n",
    "    x: len(image_datasets[x]) for x in image_datasets.keys()\n",
    "}\n",
    "\n",
    "dataset_sizes"
   ]
  },
  {
   "cell_type": "code",
   "execution_count": 5,
   "metadata": {},
   "outputs": [],
   "source": [
    "# SEED = 42\n",
    "# random.seed(SEED)\n",
    "# torch.manual_seed(SEED)\n",
    "# torch.cuda.manual_seed_all(SEED)\n",
    "# np.random.seed(SEED)\n",
    "\n",
    "# n_pics_to_show = batch_size_train\n",
    "# inputs, masks = next(iter(dataloaders['train']))\n",
    "# fig, ax = plt.subplots(n_pics_to_show, 1, figsize=(7, 15))\n",
    "# for i in range(n_pics_to_show):\n",
    "#     pic, label = inputs[i], masks[i] \n",
    "#     label_np = label.data.numpy().transpose(1, 2, 0) \n",
    "#     pic_np = pic.data.numpy().transpose(1, 2, 0) \n",
    "#     ax[i,0].imshow(pic_np)\n",
    "#     ax[i,1].imshow(label_np)"
   ]
  },
  {
   "cell_type": "code",
   "execution_count": null,
   "metadata": {},
   "outputs": [],
   "source": []
  },
  {
   "cell_type": "code",
   "execution_count": 6,
   "metadata": {},
   "outputs": [],
   "source": [
    "from torchsummary import summary\n",
    "import torch\n",
    "import torch.nn as nn\n",
    "import torch\n",
    "import torch.optim as optim\n",
    "from torch.optim import lr_scheduler\n",
    "import time\n",
    "import copy\n",
    "from datetime import datetime\n",
    "from torch.utils.tensorboard import SummaryWriter\n",
    "from collections import defaultdict\n",
    "import torch.nn.functional as F\n",
    "from loss import dice_loss, calc_loss, print_metrics\n",
    "# from attention_maps_funcs import get_activation, plot_attention_map\n",
    "from tqdm.notebook import tqdm"
   ]
  },
  {
   "cell_type": "code",
   "execution_count": 7,
   "metadata": {},
   "outputs": [],
   "source": [
    "logs_base_dir = Path('./logs')\n",
    "logs_base_dir.mkdir(exist_ok=True)"
   ]
  },
  {
   "cell_type": "code",
   "execution_count": 8,
   "metadata": {},
   "outputs": [],
   "source": [
    "activation = {}\n",
    "\n",
    "def get_activation(name):\n",
    "    def hook(model, input, output):\n",
    "        activation[name] = output.detach()\n",
    "    return hook\n",
    "\n",
    "def plot_attention_map(attention_map, N=10, n_columns=5):\n",
    "    normed_att_map = transforms.Normalize(0, 1)(attention_map).detach().cpu().numpy()\n",
    "    plt.imshow(normed_att_map.transpose(1,2,0))\n",
    "#     clear_output(wait=True)\n",
    "    \n",
    "    n_rows = N // n_columns + int(N // n_columns * n_columns < N)\n",
    "    fig, axes = plt.subplots(n_rows, n_columns, figsize=(15,6))\n",
    "    for map_i in range(N):\n",
    "        if N==1:\n",
    "            plt.imshow(normed_att_map[map_i])\n",
    "        else:\n",
    "            row_index = map_i // n_columns\n",
    "            column_index = map_i % n_columns\n",
    "            axes[row_index, column_index].imshow(normed_att_map[map_i])\n",
    "    plt.show()"
   ]
  },
  {
   "cell_type": "code",
   "execution_count": 9,
   "metadata": {},
   "outputs": [],
   "source": [
    "from template_matching_funcs import thresholding, get_Fourier_coeffs_and_kernel\n",
    "\n",
    "def get_feature_map(attention_map, index=9, threshold=True):\n",
    "    normed_att_map = attention_map.detach().cpu().numpy()\n",
    "    one_layer = normed_att_map.transpose(1,2,0) #[index]\n",
    "#     one_layer = (one_layer - one_layer.min()) / one_layer.max()\n",
    "    plt.imshow(one_layer)\n",
    "    plt.title('Choosen map')\n",
    "    plt.show()\n",
    "    print('Unique els: ', np.unique(one_layer))\n",
    "    if threshold:\n",
    "        fm_thresh = thresholding(one_layer, 1.0)\n",
    "        kern = cv2.getStructuringElement(cv2.MORPH_RECT,(5,5))\n",
    "        fm_thresh = cv2.morphologyEx(fm_thresh, cv2.MORPH_CLOSE, kern)\n",
    "        fm_thresh = cv2.dilate(fm_thresh,kern,iterations = 1)\n",
    "        fm_thresh = 255 * abs(fm_thresh / fm_thresh.max())\n",
    "        plt.imshow(fm_thresh)\n",
    "        plt.show()"
   ]
  },
  {
   "cell_type": "code",
   "execution_count": 10,
   "metadata": {},
   "outputs": [],
   "source": [
    "def get_normalize_image(image, limit=1.):\n",
    "    image = image-np.min(image)\n",
    "    image = image / image.max()\n",
    "    image = limit * image\n",
    "    return image"
   ]
  },
  {
   "cell_type": "code",
   "execution_count": 11,
   "metadata": {},
   "outputs": [],
   "source": [
    "def get_kernel_baseline(image, template, order, kernel_size,\n",
    "                       morph_open, morph_close, dilate):\n",
    "#     img_match = template_matching(image=image, template=template, method=cv2.TM_CCORR)\n",
    "    img_thresh = thresholding(template, 1.0)\n",
    "    \n",
    "    kern = cv2.getStructuringElement(cv2.MORPH_RECT,(5,5))  # np.ones((5,5),np.uint8)\n",
    "    if morph_open:\n",
    "        img_thresh = cv2.morphologyEx(img_thresh, cv2.MORPH_OPEN, kern)\n",
    "    if morph_close:\n",
    "        img_thresh = cv2.morphologyEx(img_thresh, cv2.MORPH_CLOSE, kern)\n",
    "    if dilate:\n",
    "        img_thresh = cv2.dilate(img_thresh,kern,iterations = 1)\n",
    "        \n",
    "    _, kernel = get_Fourier_coeffs_and_kernel(img_thresh, order=order, kernel_size=kernel_size)\n",
    "\n",
    "    return kernel, img_thresh"
   ]
  },
  {
   "cell_type": "code",
   "execution_count": 12,
   "metadata": {},
   "outputs": [],
   "source": [
    "def plot_attention_map(attention_map, N=30, n_columns=5):\n",
    "    normed_att_map = transforms.Normalize(0, 1)(attention_map)\n",
    "    resize_map = normed_att_map.detach().cpu().numpy()\n",
    "    \n",
    "#     clear_output(wait=True)\n",
    "    n_rows = N // n_columns + int(N // n_columns * n_columns < N)\n",
    "    fig, axes = plt.subplots(n_rows, n_columns, figsize=(40,20))\n",
    "    for map_i in range(N):\n",
    "        if N==1:\n",
    "            plt.imshow(resize_map[map_i])\n",
    "        else:\n",
    "            row_index = map_i // n_columns\n",
    "            column_index = map_i % n_columns\n",
    "            axes[row_index, column_index].imshow(resize_map[map_i])\n",
    "    plt.show()"
   ]
  },
  {
   "cell_type": "code",
   "execution_count": 13,
   "metadata": {},
   "outputs": [],
   "source": [
    "import torchvision.transforms.functional as F\n",
    "# from torchvision.transforms import InterpolationMode"
   ]
  },
  {
   "cell_type": "code",
   "execution_count": 14,
   "metadata": {},
   "outputs": [],
   "source": [
    "def kernel_torch(att_map, kernel_size):\n",
    "    uniq_els = torch.unique(att_map)\n",
    "    mean = torch.mean(uniq_els)\n",
    "    m = torch.nn.Threshold(mean, 0., inplace=False)\n",
    "    thresh = m(att_map)\n",
    "    height = att_map.shape[-2]\n",
    "    width = att_map.shape[-1]\n",
    "    kernel_resize = F.resize(thresh, kernel_size)\n",
    "    return kernel_resize"
   ]
  },
  {
   "cell_type": "code",
   "execution_count": 15,
   "metadata": {},
   "outputs": [],
   "source": [
    "\n",
    "def train_model(model, optimizer, scheduler, experiment_name, num_epochs=25):\n",
    "    best_model_wts = copy.deepcopy(model.state_dict())\n",
    "    best_loss = 1e10\n",
    "    best_dice = 0\n",
    "    \n",
    "    writer = SummaryWriter(logs_base_dir / experiment_name)\n",
    "\n",
    "    for epoch in tqdm(range(num_epochs)):\n",
    "        print('Epoch {}/{}'.format(epoch, num_epochs - 1))\n",
    "        print('-' * 10)\n",
    "        \n",
    "        since = time.time()\n",
    "        i=0\n",
    "        \n",
    "        # Each epoch has a training and validation phase\n",
    "        for phase in ['train', 'val']:\n",
    "            if phase == 'train':\n",
    "                scheduler.step()\n",
    "                for param_group in optimizer.param_groups:\n",
    "                    print(\"LR\", param_group['lr'])\n",
    "                    \n",
    "                model.train()  # Set model to training mode\n",
    "            else:\n",
    "                model.eval()   # Set model to evaluate mode\n",
    "\n",
    "            metrics = defaultdict(float)\n",
    "            epoch_samples = 0\n",
    "            \n",
    "            for inputs, labels in tqdm(dataloaders[phase]):\n",
    "                \n",
    "                inputs = inputs.to(device)\n",
    "                labels = labels.to(device)    \n",
    "\n",
    "                # zero the parameter gradients\n",
    "                optimizer.zero_grad()\n",
    "\n",
    "                # forward\n",
    "                # track history if only in train\n",
    "                with torch.set_grad_enabled(phase == 'train'):\n",
    "                    outputs = model(inputs)\n",
    "#                     outputs_att = activation['Att4']\n",
    "#                     if i ==10:\n",
    "#                         plot_attention_map(activation['Att4'][0]) \n",
    "#                         print(activation['Att4'].shape)\n",
    "#                     i+=1\n",
    "                    #####----------------------\n",
    "                    \n",
    "#                     thresh_detach = thresh.permute(1,2,0).detach().cpu().numpy()\n",
    "#                     outputs_detach = outputs_att.permute(1,2,0).detach().cpu().numpy()\n",
    "#                     a = outputs_detach.shape[0]\n",
    "#                     b = outputs_detach.shape[1]\n",
    "#                     kernel_size = 20\n",
    "#                     kernel_per_img, img_thresh = get_kernel_baseline(image=outputs_detach, \n",
    "#                                                                      template=thresh_detach, \n",
    "#                                                                      order=10, \n",
    "#                                                                      kernel_size=kernel_size,\n",
    "#                                                                      morph_open=False, \n",
    "#                                                                      morph_close=False, \n",
    "#                                                                      dilate=True)\n",
    "    \n",
    "#                     fig, (ax0, ax3) = plt.subplots(1, 2, figsize=(10,10))\n",
    "#                     ax0.imshow(inputs[0].permute(1,2,0).detach().cpu().numpy())\n",
    "#                     ax0.set_title('Image')\n",
    "#                     ax1.imshow(outputs_detach)\n",
    "#                     ax1.set_title(f'Att map, shape: {outputs_detach.shape}')\n",
    "#                     ax2.imshow(kernel_per_img)\n",
    "#                     ax2.set_title(f'Kernel {kernel_per_img.shape[0]}x{kernel_per_img.shape[1]}')\n",
    "#                     kernel_resize = F.resize(thresh, kernel_size)\n",
    "#                     print('new shape:', kernel_resize.shape)\n",
    "#                     kernel_size = 20\n",
    "#                     kernel_upd = kernel_torch(outputs_att, kernel_size)\n",
    "#                     ax3.imshow(kernel_upd.permute(1,2,0).detach().cpu().numpy())\n",
    "#                     ax3.set_title(f'Kernel resize to {kernel_size}')\n",
    "#                     plt.show()\n",
    "\n",
    "                    loss = calc_loss(outputs, labels, metrics)\n",
    "\n",
    "                    # backward + optimize only if in training phase\n",
    "                    if phase == 'train':\n",
    "                        loss.backward()\n",
    "                        optimizer.step()\n",
    "\n",
    "                # statistics\n",
    "                epoch_samples += inputs.size(0)\n",
    "                \n",
    "\n",
    "            print_metrics(metrics, epoch_samples, phase)\n",
    "            epoch_loss = metrics['loss'] / epoch_samples   \n",
    "            writer.add_scalar(f'Loss_{phase}', epoch_loss.item(), global_step=epoch)\n",
    "            \n",
    "            dice_epoch = metrics['dice'] / epoch_samples\n",
    "            writer.add_scalar(f'DICE_{phase}', dice_epoch.item(), global_step=epoch)\n",
    "            \n",
    "#             imgs_to_tb = torchvision.utils.make_grid(inputs)\n",
    "#             writer.add_image('images', imgs_to_tb, global_step=epoch)\n",
    "\n",
    "            # deep copy the model\n",
    "            if phase == 'val' and epoch_loss < best_loss:\n",
    "                print(\"saving best loss\")\n",
    "                best_loss = epoch_loss\n",
    "                best_model_wts = copy.deepcopy(model.state_dict())\n",
    "            \n",
    "            if phase == 'val' and dice_epoch > best_dice:\n",
    "                print(\"saving best DICE\")\n",
    "                best_dice = dice_epoch\n",
    "\n",
    "        time_elapsed = time.time() - since\n",
    "        print('{:.0f}m {:.0f}s'.format(time_elapsed // 60, time_elapsed % 60))\n",
    "    print('Best val loss: {:4f}'.format(best_loss))\n",
    "    print('Best val DICE: {:4f}'.format(best_dice))\n",
    "    \n",
    "#     file_name = \"Best_DICE_\" + Model_name + '_' + model_type \n",
    "#     with open(f\"{files_dir}/{file_name}.txt\",\"a\") as the_file:\n",
    "#             the_file.write('Fold №{}, best DICE: {}\\n'.format(fold, best_dice))\n",
    "\n",
    "    # load best model weights\n",
    "    model.load_state_dict(best_model_wts)\n",
    "    return model"
   ]
  },
  {
   "cell_type": "code",
   "execution_count": 18,
   "metadata": {},
   "outputs": [
    {
     "name": "stdout",
     "output_type": "stream",
     "text": [
      "cuda:0\n"
     ]
    }
   ],
   "source": [
    "device = torch.device(\"cuda:0\" if torch.cuda.is_available() else \"cpu\")\n",
    "print(device)"
   ]
  },
  {
   "cell_type": "code",
   "execution_count": 20,
   "metadata": {},
   "outputs": [],
   "source": [
    "# import attention_unet\n",
    "# model = attention_unet.AttU_Net(3, 3).to(device)\n",
    "import attention_kernel2conv1\n",
    "model = attention_kernel2conv1.AttU_Net(3, 3).to(device)"
   ]
  },
  {
   "cell_type": "code",
   "execution_count": 21,
   "metadata": {},
   "outputs": [],
   "source": [
    "# model.Att4.register_forward_hook(get_activation('Att4'))"
   ]
  },
  {
   "cell_type": "code",
   "execution_count": 22,
   "metadata": {},
   "outputs": [],
   "source": [
    "optimizer_ft = optim.Adam(model.parameters(), lr=1e-3)\n",
    "exp_lr_scheduler = lr_scheduler.StepLR(optimizer_ft, step_size=15, gamma=0.1)\n",
    "\n",
    "exp_name = 'Based_attention_50epochs_b4_' + datetime.now().isoformat(timespec='minutes') "
   ]
  },
  {
   "cell_type": "code",
   "execution_count": null,
   "metadata": {
    "scrolled": true
   },
   "outputs": [
    {
     "data": {
      "application/vnd.jupyter.widget-view+json": {
       "model_id": "b0a8862d5cc5471182a8ca8c921f6255",
       "version_major": 2,
       "version_minor": 0
      },
      "text/plain": [
       "HBox(children=(HTML(value=''), FloatProgress(value=0.0, max=50.0), HTML(value='')))"
      ]
     },
     "metadata": {},
     "output_type": "display_data"
    },
    {
     "name": "stdout",
     "output_type": "stream",
     "text": [
      "Epoch 0/49\n",
      "----------\n",
      "LR 0.001\n"
     ]
    },
    {
     "name": "stderr",
     "output_type": "stream",
     "text": [
      "/home/e_radionova/anaconda3/lib/python3.8/site-packages/torch/optim/lr_scheduler.py:131: UserWarning: Detected call of `lr_scheduler.step()` before `optimizer.step()`. In PyTorch 1.1.0 and later, you should call them in the opposite order: `optimizer.step()` before `lr_scheduler.step()`.  Failure to do this will result in PyTorch skipping the first value of the learning rate schedule. See more details at https://pytorch.org/docs/stable/optim.html#how-to-adjust-learning-rate\n",
      "  warnings.warn(\"Detected call of `lr_scheduler.step()` before `optimizer.step()`. \"\n"
     ]
    },
    {
     "data": {
      "application/vnd.jupyter.widget-view+json": {
       "model_id": "00e1501b8018419199a91ffe1c650034",
       "version_major": 2,
       "version_minor": 0
      },
      "text/plain": [
       "HBox(children=(HTML(value=''), FloatProgress(value=0.0, max=1499.0), HTML(value='')))"
      ]
     },
     "metadata": {},
     "output_type": "display_data"
    },
    {
     "name": "stderr",
     "output_type": "stream",
     "text": [
      "/home/e_radionova/anaconda3/lib/python3.8/site-packages/torch/nn/functional.py:1639: UserWarning: nn.functional.sigmoid is deprecated. Use torch.sigmoid instead.\n",
      "  warnings.warn(\"nn.functional.sigmoid is deprecated. Use torch.sigmoid instead.\")\n"
     ]
    },
    {
     "name": "stdout",
     "output_type": "stream",
     "text": [
      "\n",
      "train: bce: 0.280112, dice: 0.521580, loss: 0.379266\n"
     ]
    },
    {
     "data": {
      "application/vnd.jupyter.widget-view+json": {
       "model_id": "45d322a6d5fd4ccf9b11564365177bfa",
       "version_major": 2,
       "version_minor": 0
      },
      "text/plain": [
       "HBox(children=(HTML(value=''), FloatProgress(value=0.0, max=1449.0), HTML(value='')))"
      ]
     },
     "metadata": {},
     "output_type": "display_data"
    },
    {
     "name": "stdout",
     "output_type": "stream",
     "text": [
      "\n",
      "val: bce: 0.298878, dice: 0.576187, loss: 0.361345\n",
      "saving best loss\n",
      "saving best DICE\n",
      "27m 6s\n",
      "Epoch 1/49\n",
      "----------\n",
      "LR 0.001\n"
     ]
    },
    {
     "data": {
      "application/vnd.jupyter.widget-view+json": {
       "model_id": "b44bb517de834a94ae547d8f54276a39",
       "version_major": 2,
       "version_minor": 0
      },
      "text/plain": [
       "HBox(children=(HTML(value=''), FloatProgress(value=0.0, max=1499.0), HTML(value='')))"
      ]
     },
     "metadata": {},
     "output_type": "display_data"
    },
    {
     "name": "stdout",
     "output_type": "stream",
     "text": [
      "\n",
      "train: bce: 0.221436, dice: 0.635679, loss: 0.292878\n"
     ]
    },
    {
     "data": {
      "application/vnd.jupyter.widget-view+json": {
       "model_id": "ed5d430e2537465db81a3d7b63e4e8d4",
       "version_major": 2,
       "version_minor": 0
      },
      "text/plain": [
       "HBox(children=(HTML(value=''), FloatProgress(value=0.0, max=1449.0), HTML(value='')))"
      ]
     },
     "metadata": {},
     "output_type": "display_data"
    },
    {
     "name": "stdout",
     "output_type": "stream",
     "text": [
      "\n",
      "val: bce: 0.221745, dice: 0.667982, loss: 0.276881\n",
      "saving best loss\n",
      "saving best DICE\n",
      "27m 17s\n",
      "Epoch 2/49\n",
      "----------\n",
      "LR 0.001\n"
     ]
    },
    {
     "data": {
      "application/vnd.jupyter.widget-view+json": {
       "model_id": "cbf2abbc885a4bdfa62e59ecff4265a1",
       "version_major": 2,
       "version_minor": 0
      },
      "text/plain": [
       "HBox(children=(HTML(value=''), FloatProgress(value=0.0, max=1499.0), HTML(value='')))"
      ]
     },
     "metadata": {},
     "output_type": "display_data"
    },
    {
     "name": "stdout",
     "output_type": "stream",
     "text": [
      "\n",
      "train: bce: 0.193849, dice: 0.691479, loss: 0.251185\n"
     ]
    },
    {
     "data": {
      "application/vnd.jupyter.widget-view+json": {
       "model_id": "68539189339b4d9096629cf7aec8f2da",
       "version_major": 2,
       "version_minor": 0
      },
      "text/plain": [
       "HBox(children=(HTML(value=''), FloatProgress(value=0.0, max=1449.0), HTML(value='')))"
      ]
     },
     "metadata": {},
     "output_type": "display_data"
    },
    {
     "name": "stdout",
     "output_type": "stream",
     "text": [
      "\n",
      "val: bce: 0.253459, dice: 0.688098, loss: 0.282681\n",
      "saving best DICE\n",
      "27m 18s\n",
      "Epoch 3/49\n",
      "----------\n",
      "LR 0.001\n"
     ]
    },
    {
     "data": {
      "application/vnd.jupyter.widget-view+json": {
       "model_id": "66089d734380498ea56e5e92fb69ef8e",
       "version_major": 2,
       "version_minor": 0
      },
      "text/plain": [
       "HBox(children=(HTML(value=''), FloatProgress(value=0.0, max=1499.0), HTML(value='')))"
      ]
     },
     "metadata": {},
     "output_type": "display_data"
    }
   ],
   "source": [
    "model = train_model(model, optimizer_ft, exp_lr_scheduler, experiment_name=exp_name, num_epochs=50) "
   ]
  },
  {
   "cell_type": "code",
   "execution_count": null,
   "metadata": {},
   "outputs": [],
   "source": []
  }
 ],
 "metadata": {
  "kernelspec": {
   "display_name": "Python 3",
   "language": "python",
   "name": "python3"
  },
  "language_info": {
   "codemirror_mode": {
    "name": "ipython",
    "version": 3
   },
   "file_extension": ".py",
   "mimetype": "text/x-python",
   "name": "python",
   "nbconvert_exporter": "python",
   "pygments_lexer": "ipython3",
   "version": "3.8.5"
  }
 },
 "nbformat": 4,
 "nbformat_minor": 4
}
