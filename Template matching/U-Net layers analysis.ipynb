{
 "cells": [
  {
   "cell_type": "code",
   "execution_count": 1,
   "metadata": {},
   "outputs": [
    {
     "ename": "ModuleNotFoundError",
     "evalue": "No module named 'template_matching_funcs'",
     "output_type": "error",
     "traceback": [
      "\u001b[0;31m---------------------------------------------------------------------------\u001b[0m",
      "\u001b[0;31mModuleNotFoundError\u001b[0m                       Traceback (most recent call last)",
      "\u001b[0;32m<ipython-input-1-da2104560199>\u001b[0m in \u001b[0;36m<module>\u001b[0;34m\u001b[0m\n\u001b[1;32m     10\u001b[0m \u001b[0;32mfrom\u001b[0m \u001b[0mtorch\u001b[0m\u001b[0;34m.\u001b[0m\u001b[0mutils\u001b[0m\u001b[0;34m.\u001b[0m\u001b[0mdata\u001b[0m \u001b[0;32mimport\u001b[0m \u001b[0mDataset\u001b[0m\u001b[0;34m,\u001b[0m \u001b[0mDataLoader\u001b[0m\u001b[0;34m\u001b[0m\u001b[0;34m\u001b[0m\u001b[0m\n\u001b[1;32m     11\u001b[0m \u001b[0;32mimport\u001b[0m \u001b[0mos\u001b[0m\u001b[0;34m\u001b[0m\u001b[0;34m\u001b[0m\u001b[0m\n\u001b[0;32m---> 12\u001b[0;31m \u001b[0;32mfrom\u001b[0m \u001b[0mtemplate_matching_funcs\u001b[0m \u001b[0;32mimport\u001b[0m \u001b[0mcheck_format_of_names\u001b[0m\u001b[0;34m\u001b[0m\u001b[0;34m\u001b[0m\u001b[0m\n\u001b[0m\u001b[1;32m     13\u001b[0m \u001b[0;32mimport\u001b[0m \u001b[0malbumentations\u001b[0m \u001b[0;32mas\u001b[0m \u001b[0mA\u001b[0m\u001b[0;34m\u001b[0m\u001b[0;34m\u001b[0m\u001b[0m\n",
      "\u001b[0;31mModuleNotFoundError\u001b[0m: No module named 'template_matching_funcs'"
     ]
    }
   ],
   "source": [
    "import torch\n",
    "import torch.nn as nn\n",
    "from torchvision import transforms\n",
    "import random\n",
    "import numpy as np\n",
    "from PIL import Image\n",
    "from matplotlib import pyplot as plt\n",
    "import cv2\n",
    "\n",
    "from torch.utils.data import Dataset, DataLoader\n",
    "import os\n",
    "from template_matching_funcs import check_format_of_names\n",
    "import albumentations as A"
   ]
  },
  {
   "cell_type": "code",
   "execution_count": null,
   "metadata": {},
   "outputs": [],
   "source": [
    "class MyDataset(Dataset):\n",
    "    def __init__(self, images_folder, \n",
    "                 idx,\n",
    "                 img_transform=None, masks_transform=None):\n",
    "        super(Dataset, self).__init__()\n",
    "        \n",
    "        self.images_folder = images_folder\n",
    "\n",
    "        self.images_names = np.sort(os.listdir(images_folder))[idx:idx+1]     \n",
    "        self.img_transform = img_transform\n",
    "\n",
    "    def __len__(self):\n",
    "        return len(self.images_names)\n",
    "    \n",
    "    def __getitem__(self, idx):\n",
    "#         item_image = cv2.imread(os.path.join(self.images_folder,\n",
    "#                                             self.images_names[idx]))\n",
    "#         item_image = cv2.cvtColor(item_image, cv2.COLOR_BGR2RGB)\n",
    "        item_image = Image.open(os.path.join(self.images_folder,\n",
    "                                            self.images_names[idx])).convert('RGB')\n",
    "\n",
    "        \n",
    "        SEED = np.random.randint(123456789)\n",
    "        if self.img_transform is not None:\n",
    "            random.seed(SEED)\n",
    "            item_image = self.img_transform(item_image)\n",
    "\n",
    "        return item_image"
   ]
  },
  {
   "cell_type": "code",
   "execution_count": null,
   "metadata": {},
   "outputs": [],
   "source": [
    "trans = transforms.Compose([\n",
    "#     A.Resize(288, 400, interpolation=cv2.INTER_LINEAR),\n",
    "    transforms.Resize((288, 400)),\n",
    "    transforms.ToTensor(),\n",
    "])\n",
    "\n",
    "path_data = '/home/e_radionova/cig5_Research_optimal_kernels/Unet_birds/'+ \\\n",
    "            'Caltech_birds/CUB_200_2011/dataset/train/'\n",
    "\n",
    "train_set = MyDataset(images_folder = path_data + 'images/002.Laysan_Albatross/', \n",
    "                      idx = 11,\n",
    "                      img_transform = trans, masks_transform = trans)"
   ]
  },
  {
   "cell_type": "code",
   "execution_count": null,
   "metadata": {},
   "outputs": [],
   "source": [
    "batch_size=1\n",
    "dataloaders = {\n",
    "    'train': DataLoader(train_set, batch_size=batch_size, shuffle=True, num_workers=0),\n",
    "}\n",
    "\n",
    "inputs = next(iter(dataloaders['train']))\n",
    "\n",
    "dataloaders['train'].dataset.images_names"
   ]
  },
  {
   "cell_type": "code",
   "execution_count": 3,
   "metadata": {},
   "outputs": [],
   "source": [
    "from template_matching_funcs import template_matching, thresholding, get_Fourier_coeffs_and_kernel\n",
    "\n",
    "def get_kernel_baseline(image, template, order, kernel_size,\n",
    "                       morph_open, morph_close, dilate):\n",
    "    img_match = template_matching(image=image, template=template, method=cv2.TM_CCORR)\n",
    "    img_thresh = thresholding(img_match)\n",
    "    \n",
    "    kern = cv2.getStructuringElement(cv2.MORPH_RECT,(5,5))  # np.ones((5,5),np.uint8)\n",
    "    if morph_open:\n",
    "        img_thresh = cv2.morphologyEx(img_thresh, cv2.MORPH_OPEN, kern)\n",
    "    if morph_close:\n",
    "        img_thresh = cv2.morphologyEx(img_thresh, cv2.MORPH_CLOSE, kern)\n",
    "    if dilate:\n",
    "        img_thresh = cv2.dilate(img_thresh,kern,iterations = 1)\n",
    "    \n",
    "    plt.imshow(img_thresh, cmap='gray')\n",
    "    plt.show()\n",
    "    _, kernel = get_Fourier_coeffs_and_kernel(img_thresh, order=order, kernel_size=kernel_size)\n",
    "    \n",
    "    return kernel"
   ]
  },
  {
   "cell_type": "markdown",
   "metadata": {},
   "source": [
    "## First conv"
   ]
  },
  {
   "cell_type": "markdown",
   "metadata": {},
   "source": [
    "### Conv 1.1"
   ]
  },
  {
   "cell_type": "markdown",
   "metadata": {},
   "source": [
    "### Original case"
   ]
  },
  {
   "cell_type": "code",
   "execution_count": 5,
   "metadata": {},
   "outputs": [],
   "source": [
    "SEED = 42\n",
    "random.seed(SEED)\n",
    "torch.manual_seed(SEED)\n",
    "torch.cuda.manual_seed_all(SEED)\n",
    "np.random.seed(SEED)\n",
    "\n",
    "in_channels = 3\n",
    "out_channels = 64\n",
    "\n",
    "conv_first_1 = nn.Conv2d(in_channels, out_channels, 3, padding=1)\n",
    "relu = nn.ReLU(inplace=True)\n",
    "feature_map1 = conv_first_1(inputs)\n",
    "feature_map1 = relu(feature_map1)\n",
    "print(feature_map1.shape)\n",
    "\n",
    "fig, ax = plt.subplots(feature_map1.shape[1]//4, 4, figsize=(15, 60))\n",
    "for i in range(feature_map1.shape[1]):\n",
    "    ax[i//4, i%4].imshow(feature_map1.detach().numpy()[0][i:i+1,:,:].transpose(1, 2, 0))\n",
    "    ax[i//4, i%4].set_title(f'Layer {i}')\n"
   ]
  },
  {
   "cell_type": "markdown",
   "metadata": {},
   "source": [
    "### Our case"
   ]
  },
  {
   "cell_type": "code",
   "execution_count": null,
   "metadata": {},
   "outputs": [],
   "source": [
    "template_mask = Image.open(path_data + 'masks/002.Laysan_Albatross/Laysan_Albatross_0050_870.png')\n",
    "width, height = template_mask.size\n",
    "template_mask = template_mask.resize((25, int(25 * height/width)),Image.ANTIALIAS)"
   ]
  },
  {
   "cell_type": "code",
   "execution_count": 33,
   "metadata": {},
   "outputs": [
    {
     "data": {
      "image/png": "[encoded data removed]",
      "text/plain": [
       "<Figure size 432x288 with 1 Axes>"
      ]
     },
     "metadata": {
      "needs_background": "light"
     },
     "output_type": "display_data"
    },
    {
     "name": "stdout",
     "output_type": "stream",
     "text": [
      "(333, 500, 3)\n"
     ]
    },
    {
     "data": {
      "image/png": "[encoded data removed]",
      "text/plain": [
       "<Figure size 432x288 with 1 Axes>"
      ]
     },
     "metadata": {
      "needs_background": "light"
     },
     "output_type": "display_data"
    },
    {
     "data": {
      "image/png": "[encoded data removed]",
      "text/plain": [
       "<Figure size 432x288 with 1 Axes>"
      ]
     },
     "metadata": {
      "needs_background": "light"
     },
     "output_type": "display_data"
    },
    {
     "name": "stderr",
     "output_type": "stream",
     "text": [
      "Clipping input data to the valid range for imshow with RGB data ([0..1] for floats or [0..255] for integers).\n"
     ]
    },
    {
     "data": {
      "image/png": "[encoded data removed]",
      "text/plain": [
       "<Figure size 432x288 with 1 Axes>"
      ]
     },
     "metadata": {
      "needs_background": "light"
     },
     "output_type": "display_data"
    }
   ],
   "source": [
    "# for i in range(3,4): #feature_map1.shape[1]):\n",
    "#     fm = feature_map1.detach().numpy()[0][i:i+1,:,:].transpose(1,2,0)\n",
    "# fm = np.array(inputs[0].permute(1,2,0))\n",
    "path_data = '/home/e_radionova/cig5_Research_optimal_kernels/Unet_birds/'+ \\\n",
    "            'Caltech_birds/CUB_200_2011/dataset/train/'\n",
    "fm = cv2.imread(path_data + 'images/002.Laysan_Albatross/Laysan_Albatross_0050_870.jpg')\n",
    "plt.imshow(fm, cmap='gray')\n",
    "plt.show()\n",
    "# fm = fm.astype(np.float32)\n",
    "print(fm.shape)\n",
    "template1 = np.array([[1., 0., 0., 0.],\n",
    "                     [0., 1., 0., 0.],\n",
    "                     [0., 0., 1., 0.],\n",
    "                     [0., 0., 0., 1.]])\n",
    "\n",
    "plt.imshow(template1)\n",
    "plt.show()\n",
    "\n",
    "kernel_per_img = get_kernel_baseline(image=fm, \n",
    "                                    template=template1, \n",
    "                                    order=10, \n",
    "                                    kernel_size=20,\n",
    "                                    morph_open=False, \n",
    "                                    morph_close=False, \n",
    "                                    dilate=True)\n",
    "plt.imshow(kernel_per_img)\n",
    "plt.show()"
   ]
  },
  {
   "cell_type": "code",
   "execution_count": null,
   "metadata": {},
   "outputs": [],
   "source": []
  },
  {
   "cell_type": "code",
   "execution_count": null,
   "metadata": {},
   "outputs": [],
   "source": []
  },
  {
   "cell_type": "markdown",
   "metadata": {},
   "source": [
    "### Conv 1.2"
   ]
  },
  {
   "cell_type": "code",
   "execution_count": 8,
   "metadata": {},
   "outputs": [],
   "source": [
    "SEED = 42\n",
    "random.seed(SEED)\n",
    "torch.manual_seed(SEED)\n",
    "torch.cuda.manual_seed_all(SEED)\n",
    "np.random.seed(SEED)\n",
    "\n",
    "in_channels = 64\n",
    "out_channels = 64\n",
    "\n",
    "conv_first_2 = nn.Conv2d(in_channels, out_channels, 3, padding=1)\n",
    "relu = nn.ReLU(inplace=True)\n",
    "feature_map2 = conv_first_2(feature_map1)\n",
    "feature_map2 = relu(feature_map2)\n",
    "print(feature_map2.shape)\n",
    "\n",
    "fig, ax = plt.subplots(feature_map2.shape[1]//4, 4, figsize=(15, 60))\n",
    "for i in range(feature_map2.shape[1]):\n",
    "    ax[i//4, i%4].imshow(feature_map2.detach().numpy()[0][i:i+1,:,:].transpose(1, 2, 0))\n",
    "    ax[i//4, i%4].set_title(f'Layer {i}')"
   ]
  },
  {
   "cell_type": "markdown",
   "metadata": {},
   "source": [
    "## Second conv"
   ]
  },
  {
   "cell_type": "code",
   "execution_count": 9,
   "metadata": {},
   "outputs": [],
   "source": [
    "SEED = 42\n",
    "random.seed(SEED)\n",
    "torch.manual_seed(SEED)\n",
    "torch.cuda.manual_seed_all(SEED)\n",
    "np.random.seed(SEED)\n",
    "\n",
    "in_channels = 64\n",
    "out_channels = 128\n",
    "\n",
    "conv_second_1 = nn.Conv2d(in_channels, out_channels, 3, padding=1)\n",
    "relu = nn.ReLU(inplace=True)\n",
    "feature_map3 = conv_second_1(feature_map2)\n",
    "feature_map3 = relu(feature_map3)\n",
    "print(feature_map3.shape)\n",
    "\n",
    "fig, ax = plt.subplots(feature_map3.shape[1]//4, 4, figsize=(15, 120))\n",
    "for i in range(feature_map3.shape[1]):\n",
    "    ax[i//4, i%4].imshow(feature_map3.detach().numpy()[0][i:i+1,:,:].transpose(1, 2, 0))\n",
    "    ax[i//4, i%4].set_title(f'Layer {i}')"
   ]
  },
  {
   "cell_type": "code",
   "execution_count": 10,
   "metadata": {},
   "outputs": [],
   "source": [
    "SEED = 42\n",
    "random.seed(SEED)\n",
    "torch.manual_seed(SEED)\n",
    "torch.cuda.manual_seed_all(SEED)\n",
    "np.random.seed(SEED)\n",
    "\n",
    "in_channels = 128\n",
    "out_channels = 128\n",
    "\n",
    "conv_second_2 = nn.Conv2d(in_channels, out_channels, 3, padding=1)\n",
    "relu = nn.ReLU(inplace=True)\n",
    "feature_map4 = conv_second_2(feature_map3)\n",
    "feature_map4 = relu(feature_map4)\n",
    "print(feature_map4.shape)\n",
    "\n",
    "fig, ax = plt.subplots(feature_map4.shape[1]//4, 4, figsize=(15, 120))\n",
    "for i in range(feature_map4.shape[1]):\n",
    "    ax[i//4, i%4].imshow(feature_map4.detach().numpy()[0][i:i+1,:,:].transpose(1, 2, 0))\n",
    "    ax[i//4, i%4].set_title(f'Layer {i}')"
   ]
  },
  {
   "cell_type": "code",
   "execution_count": null,
   "metadata": {},
   "outputs": [],
   "source": []
  },
  {
   "cell_type": "markdown",
   "metadata": {},
   "source": [
    "## Third conv"
   ]
  },
  {
   "cell_type": "code",
   "execution_count": 11,
   "metadata": {},
   "outputs": [],
   "source": [
    "SEED = 42\n",
    "random.seed(SEED)\n",
    "torch.manual_seed(SEED)\n",
    "torch.cuda.manual_seed_all(SEED)\n",
    "np.random.seed(SEED)\n",
    "\n",
    "in_channels = 128\n",
    "out_channels = 256\n",
    "\n",
    "conv_third_1 = nn.Conv2d(in_channels, out_channels, 3, padding=1)\n",
    "relu = nn.ReLU(inplace=True)\n",
    "feature_map5 = conv_third_1(feature_map4)\n",
    "feature_map5 = relu(feature_map5)\n",
    "print(feature_map5.shape)\n",
    "\n",
    "fig, ax = plt.subplots(feature_map5.shape[1]//4, 4, figsize=(15, 240))\n",
    "for i in range(feature_map5.shape[1]):\n",
    "    ax[i//4, i%4].imshow(feature_map5.detach().numpy()[0][i:i+1,:,:].transpose(1, 2, 0))\n",
    "    ax[i//4, i%4].set_title(f'Layer {i}')\n"
   ]
  },
  {
   "cell_type": "code",
   "execution_count": 12,
   "metadata": {},
   "outputs": [],
   "source": [
    "SEED = 42\n",
    "random.seed(SEED)\n",
    "torch.manual_seed(SEED)\n",
    "torch.cuda.manual_seed_all(SEED)\n",
    "np.random.seed(SEED)\n",
    "\n",
    "in_channels = 256\n",
    "out_channels = 256\n",
    "\n",
    "conv_third_2 = nn.Conv2d(in_channels, out_channels, 3, padding=1)\n",
    "relu = nn.ReLU(inplace=True)\n",
    "feature_map6 = conv_third_2(feature_map5)\n",
    "feature_map6 = relu(feature_map6)\n",
    "print(feature_map6.shape)\n",
    "\n",
    "fig, ax = plt.subplots(feature_map6.shape[1]//4, 4, figsize=(15, 240))\n",
    "for i in range(feature_map6.shape[1]):\n",
    "    ax[i//4, i%4].imshow(feature_map6.detach().numpy()[0][i:i+1,:,:].transpose(1, 2, 0))\n",
    "    ax[i//4, i%4].set_title(f'Layer {i}')"
   ]
  },
  {
   "cell_type": "code",
   "execution_count": null,
   "metadata": {},
   "outputs": [],
   "source": []
  },
  {
   "cell_type": "markdown",
   "metadata": {},
   "source": [
    "## Fourth conv"
   ]
  },
  {
   "cell_type": "code",
   "execution_count": 13,
   "metadata": {},
   "outputs": [],
   "source": [
    "SEED = 42\n",
    "random.seed(SEED)\n",
    "torch.manual_seed(SEED)\n",
    "torch.cuda.manual_seed_all(SEED)\n",
    "np.random.seed(SEED)\n",
    "\n",
    "in_channels = 256\n",
    "out_channels = 512\n",
    "\n",
    "conv_fourth_1 = nn.Conv2d(in_channels, out_channels, 3, padding=1)\n",
    "relu = nn.ReLU(inplace=True)\n",
    "feature_map7 = conv_fourth_1(feature_map6)\n",
    "feature_map7 = relu(feature_map7)\n",
    "print(feature_map7.shape)\n",
    "\n",
    "fig, ax = plt.subplots(feature_map7.shape[1]//4, 4, figsize=(15, 480))\n",
    "for i in range(feature_map7.shape[1]):\n",
    "    ax[i//4, i%4].imshow(feature_map7.detach().numpy()[0][i:i+1,:,:].transpose(1, 2, 0))\n",
    "    ax[i//4, i%4].set_title(f'Layer {i}')"
   ]
  },
  {
   "cell_type": "code",
   "execution_count": 14,
   "metadata": {},
   "outputs": [],
   "source": [
    "SEED = 42\n",
    "random.seed(SEED)\n",
    "torch.manual_seed(SEED)\n",
    "torch.cuda.manual_seed_all(SEED)\n",
    "np.random.seed(SEED)\n",
    "\n",
    "in_channels = 512\n",
    "out_channels = 512\n",
    "\n",
    "conv_fourth_2 = nn.Conv2d(in_channels, out_channels, 3, padding=1)\n",
    "relu = nn.ReLU(inplace=True)\n",
    "feature_map8 = conv_fourth_2(feature_map7)\n",
    "feature_map8 = relu(feature_map8)\n",
    "print(feature_map8.shape)\n",
    "\n",
    "fig, ax = plt.subplots(feature_map8.shape[1]//4, 4, figsize=(15, 480))\n",
    "for i in range(feature_map8.shape[1]):\n",
    "    ax[i//4, i%4].imshow(feature_map8.detach().numpy()[0][i:i+1,:,:].transpose(1, 2, 0))\n",
    "    ax[i//4, i%4].set_title(f'Layer {i}')"
   ]
  },
  {
   "cell_type": "code",
   "execution_count": null,
   "metadata": {},
   "outputs": [],
   "source": []
  }
 ],
 "metadata": {
  "kernelspec": {
   "display_name": "Python 3",
   "language": "python",
   "name": "python3"
  },
  "language_info": {
   "codemirror_mode": {
    "name": "ipython",
    "version": 3
   },
   "file_extension": ".py",
   "mimetype": "text/x-python",
   "name": "python",
   "nbconvert_exporter": "python",
   "pygments_lexer": "ipython3",
   "version": "3.8.5"
  }
 },
 "nbformat": 4,
 "nbformat_minor": 4
}
