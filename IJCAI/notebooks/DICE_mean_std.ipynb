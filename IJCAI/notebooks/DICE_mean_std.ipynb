{
 "cells": [
  {
   "cell_type": "code",
   "execution_count": 2,
   "id": "2ff38ea6",
   "metadata": {},
   "outputs": [],
   "source": [
    "from pathlib import Path\n",
    "import os\n",
    "import numpy as np"
   ]
  },
  {
   "cell_type": "code",
   "execution_count": 3,
   "id": "07323142",
   "metadata": {},
   "outputs": [
    {
     "data": {
      "text/plain": [
       "['def-convs_mnist_b8.txt']"
      ]
     },
     "execution_count": 3,
     "metadata": {},
     "output_type": "execute_result"
    }
   ],
   "source": [
    "path = Path('/home/e_radionova/PROJECT/optimal-kernels/IJCAI/metrics_txt')\n",
    "dataset = 'mnist_5'\n",
    "files = os.listdir(path/dataset)\n",
    "files = [file for file in files if 'def' in file]\n",
    "files"
   ]
  },
  {
   "cell_type": "code",
   "execution_count": 4,
   "id": "88d8dad5",
   "metadata": {},
   "outputs": [
    {
     "data": {
      "text/plain": [
       "['best DICE: 0.9658159123112758\\n',\n",
       " 'best DICE_0: 0.970838468670845\\n',\n",
       " 'best DICE_1: 0.9661005534728369\\n',\n",
       " 'best DICE_2: 0.9598389889796575\\n',\n",
       " 'best DICE_3: 0.9680042846997579\\n',\n",
       " 'best DICE_4: 0.9687175331513087\\n',\n",
       " 'best DICE: 0.9653029418985049\\n',\n",
       " 'best DICE_0: 0.9791326161225636\\n',\n",
       " 'best DICE_1: 0.9694409841299056\\n',\n",
       " 'best DICE_2: 0.9611288477977117\\n',\n",
       " 'best DICE_3: 0.9646241555611292\\n',\n",
       " 'best DICE_4: 0.9628790670633316\\n',\n",
       " 'best DICE: 0.9637675624589125\\n',\n",
       " 'best DICE_0: 0.9778782252470652\\n',\n",
       " 'best DICE_1: 0.9634119711319605\\n',\n",
       " 'best DICE_2: 0.955610970656077\\n',\n",
       " 'best DICE_3: 0.9674748094876607\\n',\n",
       " 'best DICE_4: 0.9690704174836476\\n']"
      ]
     },
     "execution_count": 4,
     "metadata": {},
     "output_type": "execute_result"
    }
   ],
   "source": [
    "with open(path / dataset / 'def-convs_mnist_b8.txt') as f:\n",
    "    lines = f.readlines()\n",
    "lines"
   ]
  },
  {
   "cell_type": "code",
   "execution_count": 5,
   "id": "36e20684",
   "metadata": {},
   "outputs": [
    {
     "name": "stdout",
     "output_type": "stream",
     "text": [
      "mean DICE_0: 0.9759497700134913\n",
      "std DICE_0: 0.0036503356173222174\n",
      "mean DICE_1: 0.966317836244901\n",
      "std DICE_1: 0.0024661249339297067\n",
      "mean DICE_2: 0.9588596024778154\n",
      "std DICE_2: 0.0023567124669104057\n",
      "mean DICE_3: 0.9667010832495159\n",
      "std DICE_3: 0.0014844319827567785\n",
      "mean DICE_4: 0.9668890058994294\n",
      "std DICE_4: 0.002839112412936611\n"
     ]
    }
   ],
   "source": [
    "keys = ['DICE_0', 'DICE_1', 'DICE_2', 'DICE_3', 'DICE_4']\n",
    "dice_dct = {k:[] for k in keys}\n",
    "for line in lines:\n",
    "    for key in keys:\n",
    "        if key in line:\n",
    "            dice_dct[key].append(float(line.split(' ')[-1]))\n",
    "for key in dice_dct.keys():\n",
    "    print(f'mean {key}: {np.mean(dice_dct[key])}')\n",
    "    print(f'std {key}: {np.std(dice_dct[key])}')"
   ]
  },
  {
   "cell_type": "code",
   "execution_count": 236,
   "id": "dc01824e",
   "metadata": {},
   "outputs": [
    {
     "data": {
      "text/plain": [
       "0.00462529300947595"
      ]
     },
     "execution_count": 236,
     "metadata": {},
     "output_type": "execute_result"
    }
   ],
   "source": [
    "np.std([0.9041119238745842, 0.9133625098935361])"
   ]
  },
  {
   "cell_type": "code",
   "execution_count": 80,
   "id": "69c8f32f",
   "metadata": {},
   "outputs": [
    {
     "data": {
      "text/plain": [
       "{'DICE_0': [0.8244428888601087],\n",
       " 'DICE_1': [0.8256380832844671],\n",
       " 'DICE_2': [0.9000218741392811],\n",
       " 'DICE_3': [],\n",
       " 'DICE_4': []}"
      ]
     },
     "execution_count": 80,
     "metadata": {},
     "output_type": "execute_result"
    }
   ],
   "source": [
    "dice_dct"
   ]
  },
  {
   "cell_type": "code",
   "execution_count": null,
   "id": "9c91094a",
   "metadata": {},
   "outputs": [],
   "source": []
  },
  {
   "cell_type": "code",
   "execution_count": 79,
   "id": "7ae5173b",
   "metadata": {},
   "outputs": [
    {
     "data": {
      "text/plain": [
       "['best DICE: 0.6602226925523658\\n',\n",
       " 'best DICE: 0.6573047004247966\\n',\n",
       " 'best DICE: 0.6194464856072476\\n',\n",
       " 'best DICE: 0.6069308014292466\\n']"
      ]
     },
     "execution_count": 79,
     "metadata": {},
     "output_type": "execute_result"
    }
   ],
   "source": [
    "with open(path / dataset / 'unet_init_birds_b4__pycache_WITHOUT_k_size_7.txt') as f:\n",
    "    lines = f.readlines()\n",
    "lines"
   ]
  },
  {
   "cell_type": "code",
   "execution_count": null,
   "id": "1073732e",
   "metadata": {},
   "outputs": [],
   "source": []
  },
  {
   "cell_type": "code",
   "execution_count": 14,
   "id": "59496c81",
   "metadata": {},
   "outputs": [
    {
     "name": "stdout",
     "output_type": "stream",
     "text": [
      "0.7931661814451219\n",
      "0.0055074728599249015\n"
     ]
    }
   ],
   "source": [
    "dice_lst = []\n",
    "for line in lines:\n",
    "    dice_lst.append(float(line.split()[-1]))\n",
    "print(np.mean(dice_lst))\n",
    "print(np.std(dice_lst))"
   ]
  },
  {
   "cell_type": "code",
   "execution_count": null,
   "id": "696df2dc",
   "metadata": {},
   "outputs": [],
   "source": []
  }
 ],
 "metadata": {
  "kernelspec": {
   "display_name": "Python 3 (ipykernel)",
   "language": "python",
   "name": "python3"
  },
  "language_info": {
   "codemirror_mode": {
    "name": "ipython",
    "version": 3
   },
   "file_extension": ".py",
   "mimetype": "text/x-python",
   "name": "python",
   "nbconvert_exporter": "python",
   "pygments_lexer": "ipython3",
   "version": "3.7.11"
  }
 },
 "nbformat": 4,
 "nbformat_minor": 5
}
