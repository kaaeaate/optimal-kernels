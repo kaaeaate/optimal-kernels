{
 "cells": [
  {
   "cell_type": "code",
   "execution_count": 1,
   "id": "6eb3c032",
   "metadata": {},
   "outputs": [],
   "source": [
    "import torch\n",
    "import numpy as np\n",
    "import random\n",
    "from torchsummary import summary\n",
    "\n",
    "import sys\n",
    "sys.path.append('../')\n",
    "from utils.common import get_model"
   ]
  },
  {
   "cell_type": "code",
   "execution_count": 2,
   "id": "e003b6e6",
   "metadata": {},
   "outputs": [],
   "source": [
    "# unet\n",
    "# attention-unet\n",
    "# lorck\n",
    "# def-convs\n",
    "# unet_init\n",
    "# hybrid\n",
    "model_name = 'unet'"
   ]
  },
  {
   "cell_type": "code",
   "execution_count": 3,
   "id": "0604e642",
   "metadata": {},
   "outputs": [],
   "source": [
    "SEED = 42\n",
    "random.seed(SEED)\n",
    "torch.manual_seed(SEED)\n",
    "torch.cuda.manual_seed_all(SEED)\n",
    "np.random.seed(SEED)\n",
    "\n",
    "k_size = 3\n",
    "kk2_size=3\n",
    "model = get_model(model_name, in_chs=3, out_chs=3, k_size=k_size, kk2_size=kk2_size)"
   ]
  },
  {
   "cell_type": "code",
   "execution_count": 4,
   "id": "e378ffa4",
   "metadata": {},
   "outputs": [
    {
     "name": "stdout",
     "output_type": "stream",
     "text": [
      "----------------------------------------------------------------\n",
      "        Layer (type)               Output Shape         Param #\n",
      "================================================================\n",
      "            Conv2d-1         [-1, 64, 256, 256]           1,792\n",
      "              ReLU-2         [-1, 64, 256, 256]               0\n",
      "            Conv2d-3         [-1, 64, 256, 256]          36,928\n",
      "              ReLU-4         [-1, 64, 256, 256]               0\n",
      "         MaxPool2d-5         [-1, 64, 128, 128]               0\n",
      "            Conv2d-6        [-1, 128, 128, 128]          73,856\n",
      "              ReLU-7        [-1, 128, 128, 128]               0\n",
      "            Conv2d-8        [-1, 128, 128, 128]         147,584\n",
      "              ReLU-9        [-1, 128, 128, 128]               0\n",
      "        MaxPool2d-10          [-1, 128, 64, 64]               0\n",
      "           Conv2d-11          [-1, 256, 64, 64]         295,168\n",
      "             ReLU-12          [-1, 256, 64, 64]               0\n",
      "           Conv2d-13          [-1, 256, 64, 64]         590,080\n",
      "             ReLU-14          [-1, 256, 64, 64]               0\n",
      "        MaxPool2d-15          [-1, 256, 32, 32]               0\n",
      "           Conv2d-16          [-1, 512, 32, 32]       1,180,160\n",
      "             ReLU-17          [-1, 512, 32, 32]               0\n",
      "           Conv2d-18          [-1, 512, 32, 32]       2,359,808\n",
      "             ReLU-19          [-1, 512, 32, 32]               0\n",
      "         Upsample-20          [-1, 512, 64, 64]               0\n",
      "           Conv2d-21          [-1, 256, 64, 64]       1,769,728\n",
      "             ReLU-22          [-1, 256, 64, 64]               0\n",
      "           Conv2d-23          [-1, 256, 64, 64]         590,080\n",
      "             ReLU-24          [-1, 256, 64, 64]               0\n",
      "         Upsample-25        [-1, 256, 128, 128]               0\n",
      "           Conv2d-26        [-1, 128, 128, 128]         442,496\n",
      "             ReLU-27        [-1, 128, 128, 128]               0\n",
      "           Conv2d-28        [-1, 128, 128, 128]         147,584\n",
      "             ReLU-29        [-1, 128, 128, 128]               0\n",
      "         Upsample-30        [-1, 128, 256, 256]               0\n",
      "           Conv2d-31         [-1, 64, 256, 256]         110,656\n",
      "             ReLU-32         [-1, 64, 256, 256]               0\n",
      "           Conv2d-33         [-1, 64, 256, 256]          36,928\n",
      "             ReLU-34         [-1, 64, 256, 256]               0\n",
      "           Conv2d-35          [-1, 3, 256, 256]             195\n",
      "================================================================\n",
      "Total params: 7,783,043\n",
      "Trainable params: 7,783,043\n",
      "Non-trainable params: 0\n",
      "----------------------------------------------------------------\n",
      "Input size (MB): 0.75\n",
      "Forward/backward pass size (MB): 591.50\n",
      "Params size (MB): 29.69\n",
      "Estimated Total Size (MB): 621.94\n",
      "----------------------------------------------------------------\n"
     ]
    }
   ],
   "source": [
    "device = torch.device('cuda' if torch.cuda.is_available() else 'cpu')\n",
    "model = model.to(device)\n",
    "summary(model, input_size=(3, 256, 256))"
   ]
  },
  {
   "cell_type": "code",
   "execution_count": 4,
   "id": "4d957eb5",
   "metadata": {},
   "outputs": [
    {
     "data": {
      "text/plain": [
       "7.783043"
      ]
     },
     "execution_count": 4,
     "metadata": {},
     "output_type": "execute_result"
    }
   ],
   "source": [
    "params = sum(p.numel() for p in model.parameters()) / 10**6\n",
    "params"
   ]
  },
  {
   "cell_type": "code",
   "execution_count": 39,
   "id": "4945d8ba",
   "metadata": {},
   "outputs": [],
   "source": [
    "model_list = ['unet', 'attention-unet', 'lorck', 'def-convs']\n",
    "k_size = 3\n",
    "kk2_size=15"
   ]
  },
  {
   "cell_type": "code",
   "execution_count": 42,
   "id": "b1cc386c",
   "metadata": {},
   "outputs": [
    {
     "name": "stdout",
     "output_type": "stream",
     "text": [
      "unet: 7.781891 M\n",
      "attention-unet: 34.877551 M\n",
      "lorck: 34.892143 M\n",
      "def-convs: 7.185964 M\n"
     ]
    }
   ],
   "source": [
    "for model_name in model_list:\n",
    "    model = get_model(model_name, in_chs=1, out_chs=3, k_size=k_size, kk2_size=kk2_size)\n",
    "    params = sum(p.numel() for p in model.parameters()) / 10**6\n",
    "    print(f'{model_name}: {params} M')"
   ]
  },
  {
   "cell_type": "code",
   "execution_count": 35,
   "id": "3698bcf9",
   "metadata": {},
   "outputs": [],
   "source": [
    "device = torch.device('cuda' if torch.cuda.is_available() else 'cpu')\n",
    "model = model.to(device)\n",
    "summary(model, input_size=(1, 224, 224))"
   ]
  },
  {
   "cell_type": "code",
   "execution_count": null,
   "id": "39bdfe09",
   "metadata": {},
   "outputs": [],
   "source": []
  }
 ],
 "metadata": {
  "kernelspec": {
   "display_name": "Python 3 (ipykernel)",
   "language": "python",
   "name": "python3"
  },
  "language_info": {
   "codemirror_mode": {
    "name": "ipython",
    "version": 3
   },
   "file_extension": ".py",
   "mimetype": "text/x-python",
   "name": "python",
   "nbconvert_exporter": "python",
   "pygments_lexer": "ipython3",
   "version": "3.7.11"
  }
 },
 "nbformat": 4,
 "nbformat_minor": 5
}
