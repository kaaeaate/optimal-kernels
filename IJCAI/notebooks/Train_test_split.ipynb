{
 "cells": [
  {
   "cell_type": "code",
   "execution_count": 1,
   "id": "2c16d0fd",
   "metadata": {},
   "outputs": [],
   "source": [
    "import sys\n",
    "sys.path.append('../')\n",
    "from utils.data_preprocessing import get_train_test_dataset"
   ]
  },
  {
   "cell_type": "code",
   "execution_count": 4,
   "id": "7515502c",
   "metadata": {},
   "outputs": [],
   "source": [
    "get_train_test_dataset(dataset_path='/home/e_radionova/Datasets/Heart', \n",
    "                       images_path='images',\n",
    "                       masks_path='masks',\n",
    "                       dataset_dir='dataset', \n",
    "                       train_fold='train', \n",
    "                       test_fold='val',\n",
    "                       img_fold='imgs', \n",
    "                       masks_fold='masks', \n",
    "                       test_size = 0.3)"
   ]
  },
  {
   "cell_type": "code",
   "execution_count": null,
   "id": "aa1670d8",
   "metadata": {},
   "outputs": [],
   "source": []
  }
 ],
 "metadata": {
  "kernelspec": {
   "display_name": "Python 3 (ipykernel)",
   "language": "python",
   "name": "python3"
  },
  "language_info": {
   "codemirror_mode": {
    "name": "ipython",
    "version": 3
   },
   "file_extension": ".py",
   "mimetype": "text/x-python",
   "name": "python",
   "nbconvert_exporter": "python",
   "pygments_lexer": "ipython3",
   "version": "3.7.11"
  }
 },
 "nbformat": 4,
 "nbformat_minor": 5
}
