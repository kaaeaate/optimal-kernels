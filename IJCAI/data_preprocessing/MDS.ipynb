{
 "cells": [
  {
   "cell_type": "markdown",
   "id": "844c405b",
   "metadata": {},
   "source": [
    "### Download from MDS"
   ]
  },
  {
   "cell_type": "code",
   "execution_count": 1,
   "id": "93dcd4c3",
   "metadata": {},
   "outputs": [],
   "source": [
    "#taken from this StackOverflow answer: https://stackoverflow.com/a/39225039\n",
    "import requests\n",
    "\n",
    "def download_file_from_google_drive(id, destination):\n",
    "    URL = \"https://docs.google.com/uc?export=download\"\n",
    "\n",
    "    session = requests.Session()\n",
    "\n",
    "    response = session.get(URL, params = { 'id' : id }, stream = True)\n",
    "    token = get_confirm_token(response)\n",
    "\n",
    "    if token:\n",
    "        params = { 'id' : id, 'confirm' : token }\n",
    "        response = session.get(URL, params = params, stream = True)\n",
    "\n",
    "    save_response_content(response, destination)    \n",
    "\n",
    "def get_confirm_token(response):\n",
    "    for key, value in response.cookies.items():\n",
    "        if key.startswith('download_warning'):\n",
    "            return value\n",
    "\n",
    "    return None\n",
    "\n",
    "def save_response_content(response, destination):\n",
    "    CHUNK_SIZE = 32768\n",
    "\n",
    "    with open(destination, \"wb\") as f:\n",
    "        for chunk in response.iter_content(CHUNK_SIZE):\n",
    "            if chunk: # filter out keep-alive new chunks\n",
    "                f.write(chunk)"
   ]
  },
  {
   "cell_type": "code",
   "execution_count": 2,
   "id": "e6da3308",
   "metadata": {},
   "outputs": [],
   "source": [
    "#Spleen:   https://drive.google.com/file/d/1jzeNU1EKnK81PyTsrx0ujfNl-t0Jo8uE/view?usp=sharing"
   ]
  },
  {
   "cell_type": "code",
   "execution_count": 4,
   "id": "bf455e02",
   "metadata": {},
   "outputs": [],
   "source": [
    "file_id = '1jzeNU1EKnK81PyTsrx0ujfNl-t0Jo8uE'\n",
    "destination = '/home/e_radionova/Datasets/Spleen/Spleen.tar'\n",
    "download_file_from_google_drive(file_id, destination)"
   ]
  },
  {
   "cell_type": "code",
   "execution_count": 10,
   "id": "e36673de",
   "metadata": {},
   "outputs": [
    {
     "name": "stdout",
     "output_type": "stream",
     "text": [
      "/bin/bash: gdown: command not found\r\n"
     ]
    }
   ],
   "source": [
    "! gdown --id \"1QKC8uYLrFIMoQOeSNxOHgmvmp0Vrvxmy\""
   ]
  },
  {
   "cell_type": "markdown",
   "id": "d949f5c4",
   "metadata": {},
   "source": [
    "### Preprocessing"
   ]
  },
  {
   "cell_type": "code",
   "execution_count": 1,
   "id": "789d3598",
   "metadata": {},
   "outputs": [],
   "source": [
    "import numpy as np\n",
    "import nibabel as nib\n",
    "import os\n",
    "import matplotlib.pyplot as plt\n",
    "from glob import glob\n",
    "from pathlib import Path"
   ]
  },
  {
   "cell_type": "code",
   "execution_count": 2,
   "id": "67e7912f",
   "metadata": {},
   "outputs": [],
   "source": [
    "data_path = '/home/e_radionova/Datasets/Spleen/'\n",
    "task = 'Task09_Spleen'"
   ]
  },
  {
   "cell_type": "code",
   "execution_count": 3,
   "id": "7f4da794",
   "metadata": {},
   "outputs": [
    {
     "name": "stdout",
     "output_type": "stream",
     "text": [
      "num_train = 41, num_test = 20\n"
     ]
    }
   ],
   "source": [
    "path_tr = data_path+task+'/imagesTr'\n",
    "path_tr_label = data_path+task+'/labelsTr'\n",
    "path_ts = data_path+task+'/imagesTs'\n",
    "imglist_tr = glob(path_tr+'/*.gz')\n",
    "imglist_tr_label = glob(path_tr_label+'/*.gz')\n",
    "imglist_ts = glob(path_ts+'/*.gz')\n",
    "print('num_train = {}, num_test = {}'.format(len(imglist_tr), len(imglist_ts)))\\"
   ]
  },
  {
   "cell_type": "code",
   "execution_count": 4,
   "id": "bce0f5a6",
   "metadata": {},
   "outputs": [
    {
     "name": "stdout",
     "output_type": "stream",
     "text": [
      "Images\n",
      "(512, 512, 90)\n",
      "(512, 512, 148)\n",
      "(512, 512, 92)\n",
      "(512, 512, 51)\n",
      "(512, 512, 54)\n",
      "Labels\n",
      "(512, 512, 90)\n",
      "(512, 512, 148)\n",
      "(512, 512, 92)\n",
      "(512, 512, 51)\n",
      "(512, 512, 54)\n"
     ]
    }
   ],
   "source": [
    "print('Images')\n",
    "for img_name in imglist_tr[:5]:\n",
    "    img = nib.load(img_name)\n",
    "    print(img.shape)\n",
    "print('Labels')\n",
    "for img_name in imglist_tr_label[:5]:\n",
    "    img = nib.load(img_name)\n",
    "    print(img.shape)"
   ]
  },
  {
   "cell_type": "code",
   "execution_count": 6,
   "id": "d2ce5257",
   "metadata": {},
   "outputs": [
    {
     "name": "stdout",
     "output_type": "stream",
     "text": [
      "Image Min-Max values: Image=3071.0,-1024.0 and label=1.0,0.0\n",
      "Number of subclasses =  2\n"
     ]
    }
   ],
   "source": [
    "img = nib.load(imglist_tr[2]).get_fdata()\n",
    "label = nib.load(imglist_tr_label[1]).get_fdata()\n",
    "print('Image Min-Max values: Image={},{} and label={},{}'.format(img.max(), img.min(), label.max(), label.min()))\n",
    "print('Number of subclasses = ', int(label.max())+1)"
   ]
  },
  {
   "cell_type": "code",
   "execution_count": 7,
   "id": "59683b92",
   "metadata": {},
   "outputs": [],
   "source": [
    "images_dir = '/home/e_radionova/Datasets/Spleen/images'\n",
    "masks_dir = '/home/e_radionova/Datasets/Spleen/masks'\n",
    "\n",
    "Path(images_dir).mkdir(exist_ok=True)\n",
    "Path(masks_dir).mkdir(exist_ok=True)"
   ]
  },
  {
   "cell_type": "code",
   "execution_count": 12,
   "id": "f4975b30",
   "metadata": {},
   "outputs": [],
   "source": [
    "for i in range(len(imglist_tr)):\n",
    "    img = nib.load(imglist_tr[i]).get_fdata() /  img.max()\n",
    "    label = nib.load(imglist_tr_label[i]).get_fdata()\n",
    "    for sl in range(label.shape[-1]):\n",
    "        uniq = np.unique(label[:,:,sl])\n",
    "        if uniq.any(0):\n",
    "            print(f'{i} -- {uniq}')\n",
    "            np.save(f'{images_dir}/patient_{i}_{sl}', img[:,:,sl])\n",
    "            np.save(f'{masks_dir}/patient_{i}_{sl}', label[:,:,sl])"
   ]
  },
  {
   "cell_type": "code",
   "execution_count": null,
   "id": "54a39562",
   "metadata": {},
   "outputs": [],
   "source": []
  },
  {
   "cell_type": "code",
   "execution_count": 11,
   "id": "e4772725",
   "metadata": {},
   "outputs": [],
   "source": [
    "# for i in range(label.shape[-1]):\n",
    "#     uniq = np.unique(label[:,:,i])\n",
    "#     print(f'{i} -- {uniq}')\n",
    "#     print(type(label))\n",
    "#     plt.imshow(label[:,:,i])\n",
    "#     plt.show()"
   ]
  },
  {
   "cell_type": "code",
   "execution_count": 10,
   "id": "fbc7dbdf",
   "metadata": {},
   "outputs": [
    {
     "data": {
      "image/png": "[encoded data removed]",
      "text/plain": [
       "<Figure size 432x288 with 1 Axes>"
      ]
     },
     "metadata": {
      "needs_background": "light"
     },
     "output_type": "display_data"
    },
    {
     "data": {
      "text/plain": [
       "<matplotlib.image.AxesImage at 0x7fa5a4e52a10>"
      ]
     },
     "execution_count": 10,
     "metadata": {},
     "output_type": "execute_result"
    },
    {
     "data": {
      "image/png": "[encoded data removed]",
      "text/plain": [
       "<Figure size 432x288 with 1 Axes>"
      ]
     },
     "metadata": {
      "needs_background": "light"
     },
     "output_type": "display_data"
    }
   ],
   "source": [
    "plt.imshow(img[:,:,1], cmap='gray')\n",
    "plt.show()\n",
    "plt.imshow(label[:,:,0])"
   ]
  },
  {
   "cell_type": "code",
   "execution_count": null,
   "id": "af6cbfef",
   "metadata": {},
   "outputs": [],
   "source": []
  }
 ],
 "metadata": {
  "kernelspec": {
   "display_name": "Python 3 (ipykernel)",
   "language": "python",
   "name": "python3"
  },
  "language_info": {
   "codemirror_mode": {
    "name": "ipython",
    "version": 3
   },
   "file_extension": ".py",
   "mimetype": "text/x-python",
   "name": "python",
   "nbconvert_exporter": "python",
   "pygments_lexer": "ipython3",
   "version": "3.7.11"
  }
 },
 "nbformat": 4,
 "nbformat_minor": 5
}
